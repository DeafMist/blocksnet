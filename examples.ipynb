{
 "cells": [
  {
   "cell_type": "code",
   "execution_count": null,
   "metadata": {},
   "outputs": [],
   "source": [
    "\"\"\"\n",
    "An example of getting city blocks from city name on OSM.\n",
    "Local city crs and administrative level must be pecifies.\n",
    "As an example, for Peterhof city (a part of Saint Petersburg area), the city name and administrative level could be\n",
    "found here: https://www.openstreetmap.org/relation/367377. Local city crs (UTM zone) could be discovered here: \n",
    "https://epsg.io/32636 \n",
    "\"\"\"\n",
    "\n",
    "from get_blocks import get_blocks\n",
    "\n",
    "blocks = get_blocks.Blocks_model(city_name=\"Петергоф\", city_crs=32636, city_admin_level=8).get_blocks()"
   ]
  },
  {
   "cell_type": "code",
   "execution_count": null,
   "metadata": {},
   "outputs": [],
   "source": [
    "blocks.explore()"
   ]
  }
 ],
 "metadata": {
  "kernelspec": {
   "display_name": "Python 3",
   "language": "python",
   "name": "python3"
  },
  "language_info": {
   "codemirror_mode": {
    "name": "ipython",
    "version": 3
   },
   "file_extension": ".py",
   "mimetype": "text/x-python",
   "name": "python",
   "nbconvert_exporter": "python",
   "pygments_lexer": "ipython3",
   "version": "3.10.6"
  },
  "orig_nbformat": 4
 },
 "nbformat": 4,
 "nbformat_minor": 2
}
