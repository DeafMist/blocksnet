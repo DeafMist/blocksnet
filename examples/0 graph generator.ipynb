{
 "cells": [
  {
   "cell_type": "code",
   "execution_count": null,
   "metadata": {},
   "outputs": [],
   "source": [
    "import os\n",
    "import geopandas as gpd\n",
    "\n",
    "local_crs = 32636\n",
    "example_data_path = \"./data\""
   ]
  },
  {
   "cell_type": "code",
   "execution_count": null,
   "metadata": {},
   "outputs": [],
   "source": [
    "import networkx as nx\n",
    "from blocksnet import GraphGenerator\n",
    "\n",
    "city_geometry = gpd.read_parquet(os.path.join(example_data_path, 'city_geometry.parquet')).to_crs(local_crs)\n",
    "intermodal_graph = GraphGenerator(city_geometry=city_geometry, local_crs=local_crs).get_graph('intermodal')"
   ]
  },
  {
   "cell_type": "code",
   "execution_count": null,
   "metadata": {},
   "outputs": [],
   "source": [
    "import osmnx as ox\n",
    "ox.plot_graph(intermodal_graph)"
   ]
  },
  {
   "cell_type": "code",
   "execution_count": null,
   "metadata": {},
   "outputs": [],
   "source": [
    "GraphGenerator.plot(intermodal_graph)"
   ]
  },
  {
   "cell_type": "code",
   "execution_count": null,
   "metadata": {},
   "outputs": [],
   "source": [
    "blocks = gpd.read_parquet(os.path.join(example_data_path, 'data_getter_blocks.parquet')).to_crs(local_crs)\n",
    "blocks.head()"
   ]
  },
  {
   "cell_type": "code",
   "execution_count": null,
   "metadata": {},
   "outputs": [],
   "source": [
    "from blocksnet.preprocessing import DataGetter\n",
    "dg = DataGetter(blocks=blocks)\n",
    "mx = dg.get_accessibility_matrix(intermodal_graph)\n",
    "mx.head()"
   ]
  },
  {
   "cell_type": "code",
   "execution_count": null,
   "metadata": {},
   "outputs": [],
   "source": [
    "from blocksnet.models import City\n",
    "\n",
    "city_model = City(\n",
    "  blocks_gdf=blocks, \n",
    "  matrix=mx, \n",
    ")"
   ]
  },
  {
   "cell_type": "code",
   "execution_count": null,
   "metadata": {},
   "outputs": [],
   "source": [
    "city_model.plot()"
   ]
  }
 ],
 "metadata": {
  "kernelspec": {
   "display_name": "Python 3.10.12 ('.venv': venv)",
   "language": "python",
   "name": "python3"
  },
  "language_info": {
   "codemirror_mode": {
    "name": "ipython",
    "version": 3
   },
   "file_extension": ".py",
   "mimetype": "text/x-python",
   "name": "python",
   "nbconvert_exporter": "python",
   "pygments_lexer": "ipython3",
   "version": "3.10.12"
  },
  "orig_nbformat": 4,
  "vscode": {
   "interpreter": {
    "hash": "10a17c1b6daec4f71e1a6be0c0f3dce45cab57590679db625cc1c5fc73cbfc9f"
   }
  }
 },
 "nbformat": 4,
 "nbformat_minor": 2
}
