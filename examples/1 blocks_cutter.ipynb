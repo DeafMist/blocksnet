{
 "cells": [
  {
   "cell_type": "code",
   "execution_count": null,
   "metadata": {},
   "outputs": [],
   "source": [
    "import os\n",
    "import geopandas as gpd\n",
    "\n",
    "# os.environ[\"USE_PYGEOS\"] = os.environ.get(\"USE_PYGEOS\", \"0\")\n",
    "local_crs = 32636\n",
    "# path to data\n",
    "example_data_path = \"./data\""
   ]
  },
  {
   "cell_type": "code",
   "execution_count": null,
   "metadata": {},
   "outputs": [],
   "source": [
    "!pip install --upgrade pip -q\n",
    "!pip install osm2geojson -q"
   ]
  },
  {
   "cell_type": "code",
   "execution_count": null,
   "metadata": {},
   "outputs": [],
   "source": [
    "from nirma_masterplans_data_getter_whole_city import DataGetter as dg\n",
    "\n",
    "dgetter = dg(city_crs=32636)\n",
    "\n",
    "city_geometry = dgetter.get_city_geometry('Санкт-Петербург', city_admin_level=5)\n",
    "# water_geometry = dgetter.get_water_geometry(city_name='Санкт-Петербург', water_buffer=5)\n",
    "# roads_geometry = dgetter.get_roads_geometry(city_geometry=city_geometry, roads_buffer=5)\n",
    "# railways_geometry = dgetter.get_railways_geometry(city_name='Санкт-Петербург', railways_buffer=5)"
   ]
  },
  {
   "cell_type": "markdown",
   "metadata": {},
   "source": [
    "## Input data fetch and parameters setting"
   ]
  },
  {
   "cell_type": "code",
   "execution_count": null,
   "metadata": {},
   "outputs": [],
   "source": [
    "from masterplan_tools.method.blocks import CutParameters\n",
    "\n",
    "# city_geometry = gpd.read_parquet(os.path.join(example_data_path, \"city_geometry.parquet\")).to_crs(local_crs)\n",
    "# water_geometry = gpd.read_parquet(os.path.join(example_data_path, \"water_geometry.parquet\")).to_crs(local_crs)\n",
    "# roads_geometry = gpd.read_parquet(os.path.join(example_data_path, \"roads_geometry.parquet\")).to_crs(local_crs)\n",
    "# railways_geometry = gpd.read_parquet(os.path.join(example_data_path, \"railways_geometry.parquet\")).to_crs(local_crs)\n",
    "\n",
    "#basically we need just these 4 geometries to cut some blocks\n",
    "# cut_params = CutParameters(\n",
    "#   city=city_geometry,\n",
    "#   water=water_geometry,\n",
    "#   roads=roads_geometry,\n",
    "#   railways=railways_geometry\n",
    "# )"
   ]
  },
  {
   "cell_type": "code",
   "execution_count": null,
   "metadata": {},
   "outputs": [],
   "source": [
    "blocks = gpd.read_parquet('blocks_general.parquet')"
   ]
  },
  {
   "cell_type": "code",
   "execution_count": null,
   "metadata": {},
   "outputs": [],
   "source": [
    "all(blocks.geometry.geom_type.isin(['Polygon']))"
   ]
  },
  {
   "cell_type": "markdown",
   "metadata": {},
   "source": [
    "To improve our method we should use land use filtering. If we don't set landuse parameters, no LU filtering will be applied to the blocks"
   ]
  },
  {
   "cell_type": "code",
   "execution_count": null,
   "metadata": {},
   "outputs": [],
   "source": [
    "from masterplan_tools.method.blocks import LandUseParameters\n",
    "\n",
    "no_development = gpd.read_file(os.path.join(example_data_path, \"no_development_pzz.geojson\"), mask=city_geometry.to_crs(4326)).to_crs(local_crs)\n",
    "# no_development = no_development[no_development['RAYON']=='Василеостровский']\n",
    "landuse = gpd.read_file(os.path.join(example_data_path, \"landuse_zone_pzz.geojson\"), mask=city_geometry.to_crs(4326)).to_crs(local_crs)\n",
    "buildings_geom = gpd.read_file(os.path.join(example_data_path, \"buildings_blocks.geojson\"), mask=city_geometry.to_crs(4326)).to_crs(local_crs)\n",
    "\n"
   ]
  },
  {
   "cell_type": "code",
   "execution_count": null,
   "metadata": {},
   "outputs": [],
   "source": [
    "osm_landuse = gpd.read_parquet('osm_landuse.parquet')"
   ]
  },
  {
   "cell_type": "code",
   "execution_count": null,
   "metadata": {},
   "outputs": [],
   "source": [
    "city_geometry8 = dgetter.get_city_geometry('Санкт-Петербург', city_admin_level=5, dissolve=False)"
   ]
  },
  {
   "cell_type": "code",
   "execution_count": null,
   "metadata": {},
   "outputs": [],
   "source": [
    "city_geometry8.explore()"
   ]
  },
  {
   "cell_type": "code",
   "execution_count": null,
   "metadata": {},
   "outputs": [],
   "source": [
    "city_geometry8 = city_geometry8.explode(ignore_index=True).reset_index(drop=False)"
   ]
  },
  {
   "cell_type": "code",
   "execution_count": null,
   "metadata": {},
   "outputs": [],
   "source": [
    "city_geometry8.head()"
   ]
  },
  {
   "cell_type": "code",
   "execution_count": null,
   "metadata": {},
   "outputs": [],
   "source": [
    "city_geometry8 = city_geometry8[city_geometry8['id']==1114252]"
   ]
  },
  {
   "cell_type": "code",
   "execution_count": null,
   "metadata": {},
   "outputs": [],
   "source": [
    "from tqdm import tqdm\n",
    "import pandas as pd\n",
    "from masterplan_tools.method.blocks.landuse_filter import LuFilter\n",
    "\n",
    "res = gpd.GeoDataFrame()\n",
    "for i in tqdm(range(city_geometry8.shape[0])):\n",
    "    mun_geom = gpd.GeoDataFrame(geometry=[city_geometry8.iloc[i, 2]], crs=city_geometry8.crs.to_epsg())\n",
    "    osm_landuse_mun = osm_landuse.clip(mun_geom)\n",
    "    no_development_mun = no_development.clip(mun_geom)\n",
    "    landuse_mun = landuse.clip(mun_geom)\n",
    "    buildings_geom_mun = buildings_geom.clip(mun_geom)\n",
    "    blocks_mun = blocks.clip(mun_geom)\n",
    "\n",
    "    lu_params = LandUseParameters(\n",
    "        no_development=no_development_mun,\n",
    "        landuse=landuse_mun,\n",
    "        buildings=buildings_geom_mun\n",
    "        )\n",
    "    \n",
    "    res = pd.concat([res, LuFilter(blocks_mun, landuse_geometries=lu_params).filter_lu(osm_landuse_mun)], axis=0)"
   ]
  },
  {
   "cell_type": "code",
   "execution_count": null,
   "metadata": {},
   "outputs": [],
   "source": [
    "res = res[~res.is_empty]\n",
    "res = res.reset_index().drop_duplicates(subset='index')"
   ]
  },
  {
   "cell_type": "code",
   "execution_count": null,
   "metadata": {},
   "outputs": [],
   "source": [
    "res.to_file('res.geojson')"
   ]
  },
  {
   "cell_type": "code",
   "execution_count": null,
   "metadata": {},
   "outputs": [],
   "source": [
    "res.reset_index().drop_duplicates(subset='index').explore()"
   ]
  },
  {
   "cell_type": "code",
   "execution_count": null,
   "metadata": {},
   "outputs": [],
   "source": [
    "res.explore()"
   ]
  },
  {
   "cell_type": "code",
   "execution_count": null,
   "metadata": {},
   "outputs": [],
   "source": [
    "from masterplan_tools.method.blocks.landuse_filter import LuFilter\n",
    "\n",
    "res = LuFilter(blocks, landuse_geometries=lu_params).filter_lu(osm_landuse)"
   ]
  },
  {
   "cell_type": "code",
   "execution_count": null,
   "metadata": {},
   "outputs": [],
   "source": [
    "no_development[no_development.geometry.geom_type.isin(['Polygon, MultiPolygon'])]"
   ]
  },
  {
   "cell_type": "code",
   "execution_count": null,
   "metadata": {},
   "outputs": [],
   "source": [
    "no_development[no_development.geom_type.isin(['Polygon', 'MultiPolygon'])]\n"
   ]
  },
  {
   "cell_type": "code",
   "execution_count": null,
   "metadata": {},
   "outputs": [],
   "source": [
    "no_development.geometry.geom_type.isin(['MultiPolygon'])"
   ]
  },
  {
   "cell_type": "code",
   "execution_count": null,
   "metadata": {},
   "outputs": [],
   "source": [
    "no_development = no_development.loc[:, ['OBJECT_ID', 'geometry']]\n",
    "no_development[no_development.geometry.geom_type.isin(['Polygon, MultiPolygon'])]"
   ]
  },
  {
   "cell_type": "code",
   "execution_count": null,
   "metadata": {},
   "outputs": [],
   "source": [
    "res.to_file('res1.geojson')"
   ]
  },
  {
   "cell_type": "code",
   "execution_count": null,
   "metadata": {},
   "outputs": [],
   "source": [
    "res.explore(legend='landuse')"
   ]
  },
  {
   "cell_type": "code",
   "execution_count": null,
   "metadata": {},
   "outputs": [],
   "source": [
    "res.landuse.unique()"
   ]
  },
  {
   "cell_type": "markdown",
   "metadata": {},
   "source": [
    "To generate city blocks GeoDataFrame we use the `BlockCutter` class"
   ]
  },
  {
   "cell_type": "code",
   "execution_count": null,
   "metadata": {},
   "outputs": [],
   "source": [
    "from masterplan_tools.method import BlocksCutter\n",
    "\n",
    "blocks = BlocksCutter(\n",
    "  cut_parameters=cut_params, \n",
    "  lu_parameters=lu_params,\n",
    ").get_blocks()"
   ]
  },
  {
   "cell_type": "code",
   "execution_count": null,
   "metadata": {},
   "outputs": [],
   "source": []
  },
  {
   "cell_type": "code",
   "execution_count": null,
   "metadata": {},
   "outputs": [],
   "source": [
    "''' \n",
    "5 минут на оверлэи дорог\n",
    "3 минуты на скачать лэндюз\n",
    "\n",
    "'''"
   ]
  },
  {
   "cell_type": "code",
   "execution_count": null,
   "metadata": {},
   "outputs": [],
   "source": [
    "blocks.to_gdf().head()"
   ]
  },
  {
   "cell_type": "markdown",
   "metadata": {},
   "source": [
    "There are three landuse tags in the blocks gdf:\n",
    "1. 'no_dev_area' -- according to th no_debelopment gdf and cutoff without any buildings or specified / selected landuse types;\n",
    "2. 'selected_area' -- according to the landuse gdf. We separate theese polygons since they have specified landuse types;\n",
    "3. 'buildings' -- there are polygons that have buildings landuse type. \n",
    "\n",
    "In further calculations we will use the in the following steps:\n",
    "- Only 'buildings' -- to find clusters of buildings in big polygons;\n",
    "- All of them while calculating the accessibility times among city blocks;\n",
    "- All of them except 'no_dev_area' while optimizing the development of new facilities."
   ]
  },
  {
   "cell_type": "code",
   "execution_count": null,
   "metadata": {},
   "outputs": [],
   "source": [
    "blocks.to_gdf().plot(column='landuse', legend=True)"
   ]
  },
  {
   "cell_type": "markdown",
   "metadata": {},
   "source": [
    "Save the result for the next example"
   ]
  },
  {
   "cell_type": "code",
   "execution_count": null,
   "metadata": {},
   "outputs": [],
   "source": [
    "blocks.to_gdf().to_parquet(os.path.join(example_data_path, \"blocks_cutter_result.parquet\"))"
   ]
  }
 ],
 "metadata": {
  "kernelspec": {
   "display_name": "Python 3.10.6 ('.venv': venv)",
   "language": "python",
   "name": "python3"
  },
  "language_info": {
   "codemirror_mode": {
    "name": "ipython",
    "version": 3
   },
   "file_extension": ".py",
   "mimetype": "text/x-python",
   "name": "python",
   "nbconvert_exporter": "python",
   "pygments_lexer": "ipython3",
   "version": "3.10.13"
  },
  "orig_nbformat": 4,
  "vscode": {
   "interpreter": {
    "hash": "10a17c1b6daec4f71e1a6be0c0f3dce45cab57590679db625cc1c5fc73cbfc9f"
   }
  }
 },
 "nbformat": 4,
 "nbformat_minor": 2
}
