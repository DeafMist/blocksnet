{
 "cells": [
  {
   "cell_type": "code",
   "execution_count": 1,
   "metadata": {},
   "outputs": [],
   "source": [
    "import os\n",
    "import pandas as pd\n",
    "import geopandas as gpd\n",
    "\n",
    "local_crs = 32636\n",
    "example_data_path = \"./data\""
   ]
  },
  {
   "cell_type": "code",
   "execution_count": 2,
   "metadata": {},
   "outputs": [],
   "source": [
    "# load aggregated info we have\n",
    "aggregated_blocks = gpd.read_parquet(os.path.join(example_data_path, \"data_getter_blocks.parquet\"))\n",
    "accessibility_matrix = pd.read_pickle(os.path.join(example_data_path, \"data_getter_matrix.pickle\"))"
   ]
  },
  {
   "cell_type": "code",
   "execution_count": 3,
   "metadata": {},
   "outputs": [],
   "source": [
    "from masterplan_tools.models import City\n",
    "\n",
    "city_model = City(\n",
    "  blocks_gdf=aggregated_blocks, \n",
    "  matrix=accessibility_matrix\n",
    ")"
   ]
  },
  {
   "cell_type": "code",
   "execution_count": null,
   "metadata": {},
   "outputs": [],
   "source": [
    "city_model.to_pickle(os.path.join(example_data_path, 'city_model.pickle'))"
   ]
  },
  {
   "cell_type": "code",
   "execution_count": 4,
   "metadata": {},
   "outputs": [],
   "source": [
    "schools = gpd.read_parquet(os.path.join(example_data_path, \"schools.parquet\"))\n",
    "kindergartens = gpd.read_parquet(os.path.join(example_data_path, \"kindergartens.parquet\"))\n",
    "city_model.update_layer('schools', schools)\n",
    "city_model.update_layer('kindergartens', kindergartens)"
   ]
  },
  {
   "cell_type": "code",
   "execution_count": 5,
   "metadata": {},
   "outputs": [
    {
     "data": {
      "text/plain": [
       "Block(id=16, geometry=<POLYGON ((344272.022 6648285.316, 344278.598 6648288.103, 344286.59 6648291...>, population=3946, floors=3.5, area=102276.4154130563, living_area=19338.336, green_area=1900.0, industrial_area=7108.819499999998, green_capacity=4095, parking_capacity=44, capacities={ServiceType(name='schools', accessibility=15, demand=120, buffer=0): 1200}, city=<masterplan_tools.models.city.City object at 0x7f0764dbbac0>)"
      ]
     },
     "execution_count": 5,
     "metadata": {},
     "output_type": "execute_result"
    }
   ],
   "source": [
    "city_model[16]"
   ]
  }
 ],
 "metadata": {
  "kernelspec": {
   "display_name": "Python 3.10.12 ('.venv': venv)",
   "language": "python",
   "name": "python3"
  },
  "language_info": {
   "codemirror_mode": {
    "name": "ipython",
    "version": 3
   },
   "file_extension": ".py",
   "mimetype": "text/x-python",
   "name": "python",
   "nbconvert_exporter": "python",
   "pygments_lexer": "ipython3",
   "version": "3.10.12"
  },
  "orig_nbformat": 4,
  "vscode": {
   "interpreter": {
    "hash": "10a17c1b6daec4f71e1a6be0c0f3dce45cab57590679db625cc1c5fc73cbfc9f"
   }
  }
 },
 "nbformat": 4,
 "nbformat_minor": 2
}
