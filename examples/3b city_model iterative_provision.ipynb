{
 "cells": [
  {
   "cell_type": "code",
   "execution_count": null,
   "metadata": {},
   "outputs": [],
   "source": [
    "import os\n",
    "import pandas as pd\n",
    "import geopandas as gpd\n",
    "\n",
    "# os.environ[\"USE_PYGEOS\"] = os.environ.get(\"USE_PYGEOS\", \"0\")\n",
    "local_crs = 32636\n",
    "# path to data\n",
    "example_data_path = \"./data\""
   ]
  },
  {
   "cell_type": "code",
   "execution_count": null,
   "metadata": {},
   "outputs": [],
   "source": [
    "# load aggregated info we have\n",
    "aggregated_blocks = gpd.read_parquet(os.path.join(example_data_path, \"data_getter_blocks.parquet\"))\n",
    "accessibility_matrix = pd.read_pickle(os.path.join(example_data_path, \"data_getter_matrix.pickle\"))"
   ]
  },
  {
   "cell_type": "code",
   "execution_count": null,
   "metadata": {},
   "outputs": [],
   "source": [
    "# load data required for service graphs creation\n",
    "schools = gpd.read_parquet(os.path.join(example_data_path, \"schools.parquet\"))\n",
    "kindergartens = gpd.read_parquet(os.path.join(example_data_path, \"kindergartens.parquet\"))\n",
    "recreational_areas = gpd.read_parquet(os.path.join(example_data_path, \"recreational_areas.parquet\")).rename_geometry('geometry')\n",
    "\n",
    "hospitals = gpd.read_file(os.path.join(example_data_path, \"hospitals.geojson\"))\n",
    "pharmacies = gpd.read_file(os.path.join(example_data_path, \"pharmacies.geojson\"))\n",
    "policlinics = gpd.read_file(os.path.join(example_data_path, \"policlinics.geojson\"))\n",
    "\n",
    "# services should be specified as a dictionary\n",
    "services = {\"kindergartens\": kindergartens}"
   ]
  },
  {
   "cell_type": "code",
   "execution_count": null,
   "metadata": {},
   "outputs": [],
   "source": [
    "services = {\"schools\": schools, \"kindergartens\": kindergartens, \"recreational_areas\": recreational_areas,\n",
    "            \"hospitals\": hospitals, \"pharmacies\": pharmacies, \"policlinics\": policlinics}"
   ]
  },
  {
   "cell_type": "code",
   "execution_count": null,
   "metadata": {},
   "outputs": [],
   "source": [
    "from masterplan_tools import CityModel\n",
    "\n",
    "city_model = CityModel(\n",
    "  blocks=aggregated_blocks, \n",
    "  accessibility_matrix=accessibility_matrix, \n",
    "  services=services\n",
    ")"
   ]
  },
  {
   "cell_type": "code",
   "execution_count": null,
   "metadata": {},
   "outputs": [],
   "source": [
    "from masterplan_tools import ProvisionModel\n",
    "\n",
    "services_prov = {}\n",
    "\n",
    "for service_type in city_model.get_service_types():\n",
    "    provision = ProvisionModel(city_model=city_model, service_name=service_type)\n",
    "    services_prov[service_type] = provision.run(overflow=True)\n",
    "    print(service_type)"
   ]
  },
  {
   "cell_type": "code",
   "execution_count": null,
   "metadata": {},
   "outputs": [],
   "source": [
    "import matplotlib.pyplot as plt\n",
    "from matplotlib.gridspec import GridSpec\n",
    "\n",
    "def show_me_chart(fig, gs, prov, name, i):\n",
    "  ax = fig.add_subplot(gs[i//3, i%3])\n",
    "  prov.plot(column=\"provision_\"+name, legend=True, ax=ax, cmap='RdYlGn')\n",
    "  ax.set_title(name +\" provision\")\n",
    "  prov[prov[\"population\"] == 0].plot(ax=ax, color=\"#ddd\", alpha=1)\n",
    "\n",
    "fig = plt.figure(figsize=(25, 15))\n",
    "gs = GridSpec(2, 3, figure=fig)\n",
    "\n",
    "i = 0\n",
    "for service_type in services_prov:\n",
    "  show_me_chart(fig, gs, services_prov[service_type], service_type, i)\n",
    "  i = i+1\n",
    "\n",
    "plt.show()\n"
   ]
  },
  {
   "cell_type": "code",
   "execution_count": null,
   "metadata": {},
   "outputs": [],
   "source": [
    "for service_type in city_model.get_service_types():\n",
    "    dem = services_prov[f'{service_type}'][f\"demand_{service_type}\"].sum()\n",
    "    prov = services_prov[f'{service_type}'][f\"population_prov_{service_type}\"].sum()\n",
    "    score = prov/dem\n",
    "    print(f'{service_type} = {score}')\n"
   ]
  },
  {
   "cell_type": "code",
   "execution_count": null,
   "metadata": {},
   "outputs": [],
   "source": [
    "updated_block = {'block_id': 242,\n",
    "  'population': 0,\n",
    "  'is_kindergartens_service': 1,\n",
    "  'kindergartens_capacity': 5000}"
   ]
  },
  {
   "cell_type": "code",
   "execution_count": null,
   "metadata": {},
   "outputs": [],
   "source": [
    "graph_base = city_model.services_graph.copy()\n",
    "graph = graph_base.copy()\n",
    "\n",
    "if updated_block['block_id'] in graph.nodes:\n",
    "    for attr_name, attr_value in updated_block.items():\n",
    "        if attr_name in graph.nodes[updated_block['block_id']]:\n",
    "            graph.nodes[updated_block['block_id']][attr_name] += attr_value\n",
    "\n",
    "city_model.services_graph = graph\n",
    "\n",
    "services_prov = {}\n",
    "for service_type in city_model.get_service_types():\n",
    "    provision = ProvisionModel(city_model=city_model, service_name=service_type)\n",
    "    services_prov[service_type] = provision.run(overflow=True)\n",
    "    print(service_type)\n",
    "\n",
    "city_model.services_graph = graph_base"
   ]
  },
  {
   "cell_type": "code",
   "execution_count": null,
   "metadata": {},
   "outputs": [],
   "source": [
    "import matplotlib.pyplot as plt\n",
    "from matplotlib.gridspec import GridSpec\n",
    "\n",
    "def show_me_chart(fig, gs, prov, name, i):\n",
    "  ax = fig.add_subplot(gs[i//3, i%3])\n",
    "  prov.plot(column=\"provision_\"+name, legend=True, ax=ax, cmap='RdYlGn')\n",
    "  ax.set_title(name +\" provision\")\n",
    "  prov[prov[\"population\"] == 0].plot(ax=ax, color=\"#ddd\", alpha=1)\n",
    "\n",
    "fig = plt.figure(figsize=(25, 15))\n",
    "gs = GridSpec(2, 3, figure=fig)\n",
    "\n",
    "i = 0\n",
    "for service_type in services_prov:\n",
    "  show_me_chart(fig, gs, services_prov[service_type], service_type, i)\n",
    "  i = i+1\n",
    "\n",
    "plt.show()"
   ]
  },
  {
   "cell_type": "code",
   "execution_count": null,
   "metadata": {},
   "outputs": [],
   "source": [
    "for service_type in city_model.get_service_types():\n",
    "    dem = services_prov[f'{service_type}'][f\"demand_{service_type}\"].sum()\n",
    "    prov = services_prov[f'{service_type}'][f\"population_prov_{service_type}\"].sum()\n",
    "    score = prov/dem\n",
    "    print(f'{service_type} = {score}')"
   ]
  }
 ],
 "metadata": {
  "kernelspec": {
   "display_name": "Python 3.10.11 ('env': venv)",
   "language": "python",
   "name": "python3"
  },
  "language_info": {
   "codemirror_mode": {
    "name": "ipython",
    "version": 3
   },
   "file_extension": ".py",
   "mimetype": "text/x-python",
   "name": "python",
   "nbconvert_exporter": "python",
   "pygments_lexer": "ipython3",
   "version": "3.10.12"
  },
  "orig_nbformat": 4,
  "vscode": {
   "interpreter": {
    "hash": "f70a709ce57d6d06b01efef477234eb411a810fd126907ce80c0bf8d4ea2db52"
   }
  }
 },
 "nbformat": 4,
 "nbformat_minor": 2
}
