{
 "cells": [
  {
   "cell_type": "code",
   "execution_count": 70,
   "metadata": {},
   "outputs": [],
   "source": [
    "import os\n",
    "import pandas as pd\n",
    "import geopandas as gpd\n",
    "\n",
    "# os.environ[\"USE_PYGEOS\"] = os.environ.get(\"USE_PYGEOS\", \"0\")\n",
    "local_crs = 32636\n",
    "# path to data\n",
    "example_data_path = \"./data\""
   ]
  },
  {
   "cell_type": "code",
   "execution_count": 71,
   "metadata": {},
   "outputs": [],
   "source": [
    "# load aggregated info we have\n",
    "aggregated_blocks = gpd.read_parquet(os.path.join(example_data_path, \"data_getter_blocks.parquet\"))\n",
    "accessibility_matrix = pd.read_pickle(os.path.join(example_data_path, \"data_getter_matrix.pickle\"))"
   ]
  },
  {
   "cell_type": "code",
   "execution_count": 72,
   "metadata": {},
   "outputs": [],
   "source": [
    "# load data required for service graphs creation\n",
    "schools = gpd.read_parquet(os.path.join(example_data_path, \"schools.parquet\"))\n",
    "kindergartens = gpd.read_parquet(os.path.join(example_data_path, \"kindergartens.parquet\"))\n",
    "recreational_areas = gpd.read_parquet(os.path.join(example_data_path, \"recreational_areas.parquet\")).rename_geometry('geometry')\n",
    "\n",
    "hospitals = gpd.read_file(os.path.join(example_data_path, \"hospitals.geojson\"))\n",
    "pharmacies = gpd.read_file(os.path.join(example_data_path, \"pharmacies.geojson\"))\n",
    "policlinics = gpd.read_file(os.path.join(example_data_path, \"policlinics.geojson\"))\n",
    "\n",
    "# services should be specified as a dictionary\n",
    "services = {\"schools\": schools, \"kindergartens\": kindergartens, \"recreational_areas\": recreational_areas,\n",
    "            \"hospitals\": hospitals, \"pharmacies\": pharmacies, \"policlinics\": policlinics}"
   ]
  },
  {
   "cell_type": "code",
   "execution_count": 73,
   "metadata": {},
   "outputs": [],
   "source": [
    "from masterplan_tools import CityModel\n",
    "\n",
    "city_model = CityModel(\n",
    "  blocks=aggregated_blocks, \n",
    "  accessibility_matrix=accessibility_matrix, \n",
    "  services=services\n",
    ")"
   ]
  },
  {
   "cell_type": "code",
   "execution_count": 74,
   "metadata": {
    "collapsed": false,
    "pycharm": {
     "name": "#%%\n"
    }
   },
   "outputs": [],
   "source": [
    "from masterplan_tools.method.balancing import MasterPlan\n",
    "\n",
    "try:\n",
    "    from rich import print\n",
    "except:\n",
    "    print(\"Install Rich package with `python -m pip install rich` for colored output\")"
   ]
  },
  {
   "cell_type": "code",
   "execution_count": 75,
   "metadata": {},
   "outputs": [
    {
     "data": {
      "text/plain": [
       "{'population': 0.0,\n",
       " 'is_living': False,\n",
       " 'id': 0,\n",
       " 'is_schools_service': 0,\n",
       " 'provision_schools': 0,\n",
       " 'id_schools': 0,\n",
       " 'schools_capacity': 0,\n",
       " 'is_kindergartens_service': 0,\n",
       " 'provision_kindergartens': 0,\n",
       " 'id_kindergartens': 0,\n",
       " 'kindergartens_capacity': 0,\n",
       " 'is_recreational_areas_service': 0,\n",
       " 'provision_recreational_areas': 0,\n",
       " 'id_recreational_areas': 0,\n",
       " 'recreational_areas_capacity': 0,\n",
       " 'is_hospitals_service': 0,\n",
       " 'provision_hospitals': 0,\n",
       " 'id_hospitals': 0,\n",
       " 'hospitals_capacity': 0,\n",
       " 'is_pharmacies_service': 0,\n",
       " 'provision_pharmacies': 0,\n",
       " 'id_pharmacies': 0,\n",
       " 'pharmacies_capacity': 0,\n",
       " 'is_policlinics_service': 0,\n",
       " 'provision_policlinics': 0,\n",
       " 'id_policlinics': 0,\n",
       " 'policlinics_capacity': 0}"
      ]
     },
     "execution_count": 75,
     "metadata": {},
     "output_type": "execute_result"
    }
   ],
   "source": [
    "city_model.services_graph.nodes[0]"
   ]
  },
  {
   "cell_type": "code",
   "execution_count": 76,
   "metadata": {
    "collapsed": false,
    "pycharm": {
     "name": "#%%\n"
    }
   },
   "outputs": [],
   "source": [
    "example_block = {\n",
    "    \"block_id\": 2157,\n",
    "    \"area\": 269.91357042657916,\n",
    "    \"current_living_area\": 14.3349511,\n",
    "    \"current_industrial_area\": 10.115001506,\n",
    "    \"current_population\": 28909,\n",
    "    \"current_green_area\": 24.4459,\n",
    "    \"floors\": 5,\n",
    "    \"population_unprov_schools\": 10,\n",
    "    \"population_unprov_kindergartens\": 20,\n",
    "    \"population_unprov_recreational_areas\": 30,\n",
    "}"
   ]
  },
  {
   "cell_type": "code",
   "execution_count": 77,
   "metadata": {},
   "outputs": [],
   "source": [
    "def example_to_result(example):\n",
    "  return {\n",
    "    'area': example['area'],\n",
    "    'living_area': example['current_living_area'],\n",
    "    # 'population': example['current_population'],\n",
    "    'green_area': example['current_green_area'],\n",
    "  }"
   ]
  },
  {
   "cell_type": "code",
   "execution_count": 78,
   "metadata": {},
   "outputs": [],
   "source": [
    "before = example_to_result(example_block)"
   ]
  },
  {
   "cell_type": "code",
   "execution_count": 79,
   "metadata": {
    "collapsed": false,
    "pycharm": {
     "name": "#%%\n"
    }
   },
   "outputs": [],
   "source": [
    "mp = MasterPlan(\n",
    "    area=example_block[\"area\"],\n",
    "    current_living_area=example_block[\"current_living_area\"],\n",
    "    current_industrial_area=example_block[\"current_industrial_area\"],\n",
    "    current_population=example_block[\"current_population\"],\n",
    "    current_green_area=example_block[\"current_green_area\"],\n",
    "    current_unprov_schoolkids=example_block[\"population_unprov_schools\"],\n",
    "    current_unprov_kids=example_block[\"population_unprov_kindergartens\"],\n",
    "    current_unprov_green_population=example_block[\"population_unprov_recreational_areas\"],\n",
    ")"
   ]
  },
  {
   "cell_type": "code",
   "execution_count": 80,
   "metadata": {
    "collapsed": false,
    "pycharm": {
     "name": "#%%\n"
    }
   },
   "outputs": [
    {
     "data": {
      "text/html": [
       "<pre style=\"white-space:pre;overflow-x:auto;line-height:normal;font-family:Menlo,'DejaVu Sans Mono',consolas,'Courier New',monospace\"><span style=\"font-weight: bold\">{</span>\n",
       "    <span style=\"color: #008000; text-decoration-color: #008000\">'area'</span>: <span style=\"color: #008080; text-decoration-color: #008080; font-weight: bold\">269.91357042657916</span>,\n",
       "    <span style=\"color: #008000; text-decoration-color: #008000\">'population'</span>: <span style=\"color: #008080; text-decoration-color: #008080; font-weight: bold\">54041</span>,\n",
       "    <span style=\"color: #008000; text-decoration-color: #008000\">'b'</span>: <span style=\"color: #008080; text-decoration-color: #008080; font-weight: bold\">24.000000000000004</span>,\n",
       "    <span style=\"color: #008000; text-decoration-color: #008000\">'green_coef_G'</span>: <span style=\"color: #008080; text-decoration-color: #008080; font-weight: bold\">9.0</span>,\n",
       "    <span style=\"color: #008000; text-decoration-color: #008000\">'living_area'</span>: <span style=\"color: #008080; text-decoration-color: #008080; font-weight: bold\">74.65175110000001</span>,\n",
       "    <span style=\"color: #008000; text-decoration-color: #008000\">'schools_area'</span>: <span style=\"color: #008080; text-decoration-color: #008080; font-weight: bold\">5.4</span>,\n",
       "    <span style=\"color: #008000; text-decoration-color: #008000\">'schools_capacity'</span>: <span style=\"color: #008080; text-decoration-color: #008080; font-weight: bold\">3300.0</span>,\n",
       "    <span style=\"color: #008000; text-decoration-color: #008000\">'kindergartens_area'</span>: <span style=\"color: #008080; text-decoration-color: #008080; font-weight: bold\">0</span>,\n",
       "    <span style=\"color: #008000; text-decoration-color: #008000\">'kindergartens_capacity'</span>: <span style=\"color: #008080; text-decoration-color: #008080; font-weight: bold\">0</span>,\n",
       "    <span style=\"color: #008000; text-decoration-color: #008000\">'green_area'</span>: <span style=\"color: #008080; text-decoration-color: #008080; font-weight: bold\">47.0917</span>,\n",
       "    <span style=\"color: #008000; text-decoration-color: #008000\">'G_min_capacity'</span>: <span style=\"color: #008080; text-decoration-color: #008080; font-weight: bold\">78486.16666666667</span>,\n",
       "    <span style=\"color: #008000; text-decoration-color: #008000\">'G_max_capacity'</span>: <span style=\"color: #008080; text-decoration-color: #008080; font-weight: bold\">39243.083333333336</span>,\n",
       "    <span style=\"color: #008000; text-decoration-color: #008000\">'green_coef_G_capacity'</span>: <span style=\"color: #008080; text-decoration-color: #008080; font-weight: bold\">52324.11111111112</span>,\n",
       "    <span style=\"color: #008000; text-decoration-color: #008000\">'op_area'</span>: <span style=\"color: #008080; text-decoration-color: #008080; font-weight: bold\">0.075396</span>,\n",
       "    <span style=\"color: #008000; text-decoration-color: #008000\">'parking1_area'</span>: <span style=\"color: #008080; text-decoration-color: #008080; font-weight: bold\">18.999792000000003</span>,\n",
       "    <span style=\"color: #008000; text-decoration-color: #008000\">'parking2_area'</span>: <span style=\"color: #008080; text-decoration-color: #008080; font-weight: bold\">18.47202</span>\n",
       "<span style=\"font-weight: bold\">}</span>\n",
       "</pre>\n"
      ],
      "text/plain": [
       "\u001b[1m{\u001b[0m\n",
       "    \u001b[32m'area'\u001b[0m: \u001b[1;36m269.91357042657916\u001b[0m,\n",
       "    \u001b[32m'population'\u001b[0m: \u001b[1;36m54041\u001b[0m,\n",
       "    \u001b[32m'b'\u001b[0m: \u001b[1;36m24.000000000000004\u001b[0m,\n",
       "    \u001b[32m'green_coef_G'\u001b[0m: \u001b[1;36m9.0\u001b[0m,\n",
       "    \u001b[32m'living_area'\u001b[0m: \u001b[1;36m74.65175110000001\u001b[0m,\n",
       "    \u001b[32m'schools_area'\u001b[0m: \u001b[1;36m5.4\u001b[0m,\n",
       "    \u001b[32m'schools_capacity'\u001b[0m: \u001b[1;36m3300.0\u001b[0m,\n",
       "    \u001b[32m'kindergartens_area'\u001b[0m: \u001b[1;36m0\u001b[0m,\n",
       "    \u001b[32m'kindergartens_capacity'\u001b[0m: \u001b[1;36m0\u001b[0m,\n",
       "    \u001b[32m'green_area'\u001b[0m: \u001b[1;36m47.0917\u001b[0m,\n",
       "    \u001b[32m'G_min_capacity'\u001b[0m: \u001b[1;36m78486.16666666667\u001b[0m,\n",
       "    \u001b[32m'G_max_capacity'\u001b[0m: \u001b[1;36m39243.083333333336\u001b[0m,\n",
       "    \u001b[32m'green_coef_G_capacity'\u001b[0m: \u001b[1;36m52324.11111111112\u001b[0m,\n",
       "    \u001b[32m'op_area'\u001b[0m: \u001b[1;36m0.075396\u001b[0m,\n",
       "    \u001b[32m'parking1_area'\u001b[0m: \u001b[1;36m18.999792000000003\u001b[0m,\n",
       "    \u001b[32m'parking2_area'\u001b[0m: \u001b[1;36m18.47202\u001b[0m\n",
       "\u001b[1m}\u001b[0m\n"
      ]
     },
     "metadata": {},
     "output_type": "display_data"
    }
   ],
   "source": [
    "after = mp.optimal_solution_indicators()\n",
    "print(after)"
   ]
  },
  {
   "cell_type": "code",
   "execution_count": 81,
   "metadata": {},
   "outputs": [
    {
     "data": {
      "image/png": "[encoded data removed]",
      "text/plain": [
       "<Figure size 640x480 with 1 Axes>"
      ]
     },
     "metadata": {},
     "output_type": "display_data"
    }
   ],
   "source": [
    "import numpy as np \n",
    "import matplotlib.pyplot as plt \n",
    "  \n",
    "X = list(before.keys())\n",
    "Ybefore = list(before.values())\n",
    "Yafter = []\n",
    "for key in X:\n",
    "  Yafter.append(after[key])\n",
    "  \n",
    "X_axis = np.arange(len(X))\n",
    "  \n",
    "plt.bar(X_axis - 0.2, Ybefore, 0.4, label = 'Before')\n",
    "plt.bar(X_axis + 0.2, Yafter, 0.4, label = 'After')\n",
    "  \n",
    "plt.xticks(X_axis, X)\n",
    "plt.xlabel(\"Parameters\")\n",
    "plt.ylabel(\"Value\")\n",
    "plt.title(\"Master plan\")\n",
    "plt.legend()\n",
    "plt.show()"
   ]
  }
 ],
 "metadata": {
  "kernelspec": {
   "display_name": "Python 3.10.12 ('.venv': venv)",
   "language": "python",
   "name": "python3"
  },
  "language_info": {
   "codemirror_mode": {
    "name": "ipython",
    "version": 3
   },
   "file_extension": ".py",
   "mimetype": "text/x-python",
   "name": "python",
   "nbconvert_exporter": "python",
   "pygments_lexer": "ipython3",
   "version": "3.10.12"
  },
  "vscode": {
   "interpreter": {
    "hash": "10a17c1b6daec4f71e1a6be0c0f3dce45cab57590679db625cc1c5fc73cbfc9f"
   }
  }
 },
 "nbformat": 4,
 "nbformat_minor": 0
}
