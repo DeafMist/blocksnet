{
 "cells": [
  {
   "cell_type": "markdown",
   "metadata": {},
   "source": [
    "# Imports"
   ]
  },
  {
   "cell_type": "code",
   "execution_count": 31,
   "metadata": {},
   "outputs": [],
   "source": [
    "import blocksnet as bn\n",
    "%matplotlib inline\n",
    "from shapely.geometry import Point\n",
    "from geopandas import GeoDataFrame\n",
    "from blocksnet.models.land_use import LandUse"
   ]
  },
  {
   "cell_type": "code",
   "execution_count": 32,
   "metadata": {},
   "outputs": [],
   "source": [
    "import pandas as pd\n",
    "pd.set_option('display.max_rows', 500)\n",
    "pd.set_option('display.max_columns', 500)\n",
    "pd.set_option('display.width', 1000)"
   ]
  },
  {
   "cell_type": "markdown",
   "metadata": {},
   "source": [
    "# Model"
   ]
  },
  {
   "cell_type": "markdown",
   "metadata": {},
   "source": [
    "## Читаем модель"
   ]
  },
  {
   "cell_type": "code",
   "execution_count": 33,
   "metadata": {},
   "outputs": [],
   "source": [
    "city = bn.City.from_pickle(r'C:\\Users\\rkozl\\Desktop\\BlocksNet\\blocksnet\\small_model.pickle')"
   ]
  },
  {
   "cell_type": "markdown",
   "metadata": {},
   "source": [
    "Выбираем квартал который хотим менять и выбираем новое землепользование для него"
   ]
  },
  {
   "cell_type": "code",
   "execution_count": 34,
   "metadata": {},
   "outputs": [],
   "source": [
    "blocks_landuse_dict ={\n",
    "    104:LandUse.TRANSPORT,\n",
    "    10:LandUse.RESIDENTIAL\n",
    "}\n",
    "\n",
    "scenario = {\n",
    "    'substation': 0.9\n",
    "}"
   ]
  },
  {
   "cell_type": "markdown",
   "metadata": {},
   "source": [
    "# Optimizer"
   ]
  },
  {
   "cell_type": "markdown",
   "metadata": {},
   "source": [
    "Инициализируем класс для подбора оптимальной застройки сервисов в соответсвии с выбранным землепользование"
   ]
  },
  {
   "cell_type": "code",
   "execution_count": 35,
   "metadata": {},
   "outputs": [
    {
     "name": "stdout",
     "output_type": "stream",
     "text": [
      "Optimal\n"
     ]
    }
   ],
   "source": [
    "opt = bn.BlockOptimizer(city_model=city)\n",
    "result = opt.calculate(blocks_landuse_dict, scenario, max_facilities=None)"
   ]
  },
  {
   "cell_type": "markdown",
   "metadata": {},
   "source": [
    "Метод выдает оптимальные типы сервисов и их вместимость"
   ]
  },
  {
   "cell_type": "code",
   "execution_count": 36,
   "metadata": {},
   "outputs": [
    {
     "data": {
      "text/html": [
       "<div>\n",
       "<style scoped>\n",
       "    .dataframe tbody tr th:only-of-type {\n",
       "        vertical-align: middle;\n",
       "    }\n",
       "\n",
       "    .dataframe tbody tr th {\n",
       "        vertical-align: top;\n",
       "    }\n",
       "\n",
       "    .dataframe thead th {\n",
       "        text-align: right;\n",
       "    }\n",
       "</style>\n",
       "<table border=\"1\" class=\"dataframe\">\n",
       "  <thead>\n",
       "    <tr style=\"text-align: right;\">\n",
       "      <th></th>\n",
       "      <th>substation</th>\n",
       "      <th>bus_stop</th>\n",
       "    </tr>\n",
       "  </thead>\n",
       "  <tbody>\n",
       "    <tr>\n",
       "      <th>104</th>\n",
       "      <td>18980.0</td>\n",
       "      <td>0.0</td>\n",
       "    </tr>\n",
       "    <tr>\n",
       "      <th>10</th>\n",
       "      <td>3930.0</td>\n",
       "      <td>4.0</td>\n",
       "    </tr>\n",
       "  </tbody>\n",
       "</table>\n",
       "</div>"
      ],
      "text/plain": [
       "     substation  bus_stop\n",
       "104     18980.0       0.0\n",
       "10       3930.0       4.0"
      ]
     },
     "execution_count": 36,
     "metadata": {},
     "output_type": "execute_result"
    }
   ],
   "source": [
    "result['optimal_update_df']"
   ]
  },
  {
   "cell_type": "code",
   "execution_count": 37,
   "metadata": {},
   "outputs": [
    {
     "name": "stdout",
     "output_type": "stream",
     "text": [
      "block index 104\n",
      "filled area 379600/379638 coef 0.9998999046460049\n",
      "   service_type  capacity   area  capacity_agg  area_agg  service_counts  demand_in_need      coef\n",
      "21   substation         5  100.0       18980.0  379600.0          3796.0          166486  0.114004\n",
      "\n",
      "block index 10\n",
      "filled area 78607/78629 coef 0.9997202050134174\n",
      "    service_type  capacity   area  capacity_agg  area_agg  service_counts  demand_in_need      coef\n",
      "171   substation         5  100.0        3930.0   78600.0           786.0          166116  0.023658\n",
      "177     bus_stop         4    7.0           4.0       7.0             1.0               5  0.800000\n",
      "\n"
     ]
    }
   ],
   "source": [
    "from pprint import pprint\n",
    "for key in result['bricks_to_build_df']:\n",
    "    print(f\"block index {key}\")\n",
    "    if 'population' in result['optimal_update_df'].columns:\n",
    "        print(result['optimal_update_df']['population'].loc[key])\n",
    "    result['bricks_to_build_df'][key]['coef'] = result['bricks_to_build_df'][key]['capacity_agg']/result['bricks_to_build_df'][key]['demand_in_need']\n",
    "    area = int(result['bricks_to_build_df'][key]['area_agg'].sum())\n",
    "    area_2 = int(city[key].site_area)\n",
    "    print(f\"filled area {area}/{area_2} coef {area/area_2}\")\n",
    "    print(result['bricks_to_build_df'][key])\n",
    "    print()"
   ]
  },
  {
   "cell_type": "markdown",
   "metadata": {},
   "source": [
    "Если изменять значение в сценарии можно контролировать количество сервисов"
   ]
  },
  {
   "cell_type": "code",
   "execution_count": 38,
   "metadata": {},
   "outputs": [],
   "source": [
    "blocks_landuse_dict ={\n",
    "    104:LandUse.TRANSPORT,\n",
    "    10:LandUse.RESIDENTIAL\n",
    "}\n",
    "\n",
    "scenario = {\n",
    "    'substation': 0.01\n",
    "}"
   ]
  },
  {
   "cell_type": "code",
   "execution_count": 39,
   "metadata": {},
   "outputs": [
    {
     "name": "stdout",
     "output_type": "stream",
     "text": [
      "Optimal\n"
     ]
    }
   ],
   "source": [
    "opt = bn.BlockOptimizer(city_model=city)\n",
    "result = opt.calculate(blocks_landuse_dict, scenario, max_facilities=None)"
   ]
  },
  {
   "cell_type": "code",
   "execution_count": 40,
   "metadata": {},
   "outputs": [
    {
     "name": "stdout",
     "output_type": "stream",
     "text": [
      "Optimal\n",
      "block index 104\n",
      "filled area 379630/379638 coef 0.9999789272938958\n",
      "     service_type  capacity    area  capacity_agg  area_agg  service_counts  demand_in_need      coef\n",
      "13       dog_park       106   400.0         106.0     400.0             1.0           112.0  0.946429\n",
      "21     substation         5   100.0        8450.0  169000.0          1690.0        166486.0  0.050755\n",
      "25  train_station        40   650.0          40.0     650.0             1.0          6348.0  0.006301\n",
      "26  train_station       100  1300.0        6300.0   81900.0            63.0          6348.0  0.992439\n",
      "27    bus_station        70   150.0         630.0    1350.0             9.0         77939.0  0.008083\n",
      "28    bus_station       100   160.0         500.0     800.0             5.0         77939.0  0.006415\n",
      "29    bus_station       200   320.0       76800.0  122880.0           384.0         77939.0  0.985386\n",
      "33           pier        50    50.0        2650.0    2650.0            53.0          2679.0  0.989175\n",
      "\n",
      "block index 10\n",
      "filled area 78547/78629 coef 0.9989571277772832\n",
      "    service_type  capacity    area  capacity_agg  area_agg  service_counts  demand_in_need      coef\n",
      "70        market      8000  6000.0      104000.0   78000.0            13.0        147892.0  0.703216\n",
      "146         post       480    60.0         480.0      60.0             1.0           617.0  0.777958\n",
      "175  bus_station       100   160.0         300.0     480.0             3.0         77766.0  0.003858\n",
      "177     bus_stop         4     7.0           4.0       7.0             1.0             5.0  0.800000\n",
      "\n"
     ]
    }
   ],
   "source": [
    "opt = bn.BlockOptimizer(city_model=city)\n",
    "result = opt.calculate(blocks_landuse_dict, scenario, max_facilities=None)\n",
    "from pprint import pprint\n",
    "for key in result['bricks_to_build_df']:\n",
    "    print(f\"block index {key}\")\n",
    "    if 'population' in result['optimal_update_df'].columns:\n",
    "        print(result['optimal_update_df']['population'].loc[key])\n",
    "    result['bricks_to_build_df'][key]['coef'] = result['bricks_to_build_df'][key]['capacity_agg']/result['bricks_to_build_df'][key]['demand_in_need']\n",
    "    area = int(result['bricks_to_build_df'][key]['area_agg'].sum())\n",
    "    area_2 = int(city[key].site_area)\n",
    "    print(f\"filled area {area}/{area_2} coef {area/area_2}\")\n",
    "    print(result['bricks_to_build_df'][key])\n",
    "    print()"
   ]
  },
  {
   "cell_type": "markdown",
   "metadata": {},
   "source": [
    "Также можно узнать какие сервисы были снесены перед постройкой новых"
   ]
  },
  {
   "cell_type": "code",
   "execution_count": 42,
   "metadata": {},
   "outputs": [
    {
     "data": {
      "text/html": [
       "<div>\n",
       "<style scoped>\n",
       "    .dataframe tbody tr th:only-of-type {\n",
       "        vertical-align: middle;\n",
       "    }\n",
       "\n",
       "    .dataframe tbody tr th {\n",
       "        vertical-align: top;\n",
       "    }\n",
       "\n",
       "    .dataframe thead th {\n",
       "        text-align: right;\n",
       "    }\n",
       "</style>\n",
       "<table border=\"1\" class=\"dataframe\">\n",
       "  <thead>\n",
       "    <tr style=\"text-align: right;\">\n",
       "      <th></th>\n",
       "      <th>cemetery</th>\n",
       "      <th>embankment</th>\n",
       "      <th>park</th>\n",
       "      <th>fuel</th>\n",
       "      <th>religion</th>\n",
       "      <th>hospital</th>\n",
       "      <th>museum</th>\n",
       "      <th>university</th>\n",
       "      <th>market</th>\n",
       "      <th>population</th>\n",
       "      <th>pitch</th>\n",
       "      <th>restaurant</th>\n",
       "      <th>convenience</th>\n",
       "      <th>bank</th>\n",
       "      <th>lawyer</th>\n",
       "      <th>cafe</th>\n",
       "      <th>multifunctional_center</th>\n",
       "      <th>hotel</th>\n",
       "      <th>parking</th>\n",
       "    </tr>\n",
       "  </thead>\n",
       "  <tbody>\n",
       "    <tr>\n",
       "      <th>0</th>\n",
       "      <td>-207.0</td>\n",
       "      <td>-700.0</td>\n",
       "      <td>-290</td>\n",
       "      <td>-740.0</td>\n",
       "      <td>-1172.0</td>\n",
       "      <td>-6062.0</td>\n",
       "      <td>-6620.0</td>\n",
       "      <td>-7429.0</td>\n",
       "      <td>-734.0</td>\n",
       "      <td>-24</td>\n",
       "      <td>0.0</td>\n",
       "      <td>0.0</td>\n",
       "      <td>0.0</td>\n",
       "      <td>0.0</td>\n",
       "      <td>0.0</td>\n",
       "      <td>0.0</td>\n",
       "      <td>0.0</td>\n",
       "      <td>0.0</td>\n",
       "      <td>0.0</td>\n",
       "    </tr>\n",
       "    <tr>\n",
       "      <th>1</th>\n",
       "      <td>0.0</td>\n",
       "      <td>0.0</td>\n",
       "      <td>-278</td>\n",
       "      <td>0.0</td>\n",
       "      <td>0.0</td>\n",
       "      <td>0.0</td>\n",
       "      <td>0.0</td>\n",
       "      <td>0.0</td>\n",
       "      <td>0.0</td>\n",
       "      <td>-1175</td>\n",
       "      <td>-28.0</td>\n",
       "      <td>-540.0</td>\n",
       "      <td>-511.0</td>\n",
       "      <td>-63.0</td>\n",
       "      <td>-250.0</td>\n",
       "      <td>-45.0</td>\n",
       "      <td>-2705.0</td>\n",
       "      <td>-655.0</td>\n",
       "      <td>-18.0</td>\n",
       "    </tr>\n",
       "  </tbody>\n",
       "</table>\n",
       "</div>"
      ],
      "text/plain": [
       "   cemetery  embankment  park   fuel  religion  hospital  museum  university  market  population  pitch  restaurant  convenience  bank  lawyer  cafe  multifunctional_center  hotel  parking\n",
       "0    -207.0      -700.0  -290 -740.0   -1172.0   -6062.0 -6620.0     -7429.0  -734.0         -24    0.0         0.0          0.0   0.0     0.0   0.0                     0.0    0.0      0.0\n",
       "1       0.0         0.0  -278    0.0       0.0       0.0     0.0         0.0     0.0       -1175  -28.0      -540.0       -511.0 -63.0  -250.0 -45.0                 -2705.0 -655.0    -18.0"
      ]
     },
     "execution_count": 42,
     "metadata": {},
     "output_type": "execute_result"
    }
   ],
   "source": [
    "result['deleting_df']"
   ]
  },
  {
   "cell_type": "markdown",
   "metadata": {},
   "source": [
    "И посмотреть число обеспеченности"
   ]
  },
  {
   "cell_type": "code",
   "execution_count": 43,
   "metadata": {},
   "outputs": [
    {
     "data": {
      "text/plain": [
       "-48140.896538461544"
      ]
     },
     "execution_count": 43,
     "metadata": {},
     "output_type": "execute_result"
    }
   ],
   "source": [
    "result['provision']"
   ]
  },
  {
   "cell_type": "markdown",
   "metadata": {},
   "source": [
    "С помощью метода plot мы можем отобразить гистограмму изменений в в квартале по сравнению с оригинальной застройкой"
   ]
  },
  {
   "cell_type": "code",
   "execution_count": null,
   "metadata": {},
   "outputs": [],
   "source": [
    "opt.plot(**result)"
   ]
  },
  {
   "cell_type": "markdown",
   "metadata": {},
   "source": [
    "Также можно выбрать оптимальное землепользование использовав метод для всех возможных типов землепользования"
   ]
  },
  {
   "cell_type": "code",
   "execution_count": null,
   "metadata": {},
   "outputs": [],
   "source": [
    "best_landuse = selected_block.land_use\n",
    "temp_diff = 0\n",
    "for lanuse in LandUse:\n",
    "    if lanuse == orig_landuse:\n",
    "        continue\n",
    "    result = opt.calculate(selected_block=selected_block, new_landuse=lanuse)\n",
    "    diff = result['total_after'] - result['total_before']\n",
    "    print(f'{selected_block.land_use} -> {lanuse}: {round(diff, 3)}')\n",
    "    if diff > temp_diff:\n",
    "        temp_diff = diff\n",
    "        best_landuse = lanuse\n",
    "\n",
    "print(f'best lanuse {best_landuse}')"
   ]
  }
 ],
 "metadata": {
  "kernelspec": {
   "display_name": "Python 3.10.12 ('.venv': venv)",
   "language": "python",
   "name": "python3"
  },
  "language_info": {
   "codemirror_mode": {
    "name": "ipython",
    "version": 3
   },
   "file_extension": ".py",
   "mimetype": "text/x-python",
   "name": "python",
   "nbconvert_exporter": "python",
   "pygments_lexer": "ipython3",
   "version": "3.11.0"
  },
  "vscode": {
   "interpreter": {
    "hash": "10a17c1b6daec4f71e1a6be0c0f3dce45cab57590679db625cc1c5fc73cbfc9f"
   }
  }
 },
 "nbformat": 4,
 "nbformat_minor": 2
}
