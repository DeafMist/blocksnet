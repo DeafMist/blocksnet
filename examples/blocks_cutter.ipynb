{
 "cells": [
  {
   "cell_type": "code",
   "execution_count": null,
   "metadata": {},
   "outputs": [],
   "source": [
    "import os\n",
    "import geopandas as gpd\n",
    "import pandas as pd\n",
    "\n",
    "# os.environ[\"USE_PYGEOS\"] = os.environ.get(\"USE_PYGEOS\", \"0\")\n",
    "\n",
    "local_crs = 32636\n",
    "# path to data\n",
    "example_data_path = \"../data\""
   ]
  },
  {
   "cell_type": "code",
   "execution_count": null,
   "metadata": {},
   "outputs": [],
   "source": [
    "from masterplan_tools.method import BlocksCutter\n",
    "from masterplan_tools.method.blocks import BlocksCutterGeometries\n",
    "\n",
    "city_geometry = gpd.read_parquet(os.path.join(example_data_path, \"city_geometry.parquet\")).to_crs(local_crs)\n",
    "water_geometry = gpd.read_parquet(os.path.join(example_data_path, \"water_geometry.parquet\")).to_crs(local_crs)\n",
    "roads_geometry = gpd.read_parquet(os.path.join(example_data_path, \"roads_geometry.parquet\")).to_crs(local_crs)\n",
    "railways_geometry = gpd.read_parquet(os.path.join(example_data_path, \"railways_geometry.parquet\")).to_crs(local_crs)\n",
    "#ne nuzhna?????\n",
    "nature_geometry = gpd.read_parquet(os.path.join(example_data_path, \"nature_geometry_boundaries.parquet\")).to_crs(local_crs)"
   ]
  },
  {
   "cell_type": "code",
   "execution_count": null,
   "metadata": {},
   "outputs": [],
   "source": [
    "# load data required for blocks cutter\n",
    "no_development = gpd.read_file(os.path.join(example_data_path, \"no_development_pzz.geojson\"), mask=city_geometry.to_crs(4326)).to_crs(local_crs)\n",
    "no_development = no_development[no_development['RAYON']=='Василеостровский']\n",
    "landuse = gpd.read_file(os.path.join(example_data_path, \"landuse_zone_pzz.geojson\"), mask=city_geometry.to_crs(4326)).to_crs(local_crs)\n",
    "okn = gpd.read_file(os.path.join(example_data_path, \"petropavlovsraya_delete.geojson\"), mask=city_geometry.to_crs(4326)).to_crs(local_crs)\n",
    "\n",
    "# no_development = pd.concat([no_development[[\"geometry\"]], okn[[\"geometry\"]]], axis=0)"
   ]
  },
  {
   "cell_type": "code",
   "execution_count": null,
   "metadata": {},
   "outputs": [],
   "source": [
    "geoms = BlocksCutterGeometries(\n",
    "  city=city_geometry,\n",
    "  water=water_geometry,\n",
    "  roads=roads_geometry,\n",
    "  railways=railways_geometry,\n",
    "  nature=nature_geometry, \n",
    "  no_dev=no_development,\n",
    "  landuse=landuse\n",
    ")"
   ]
  },
  {
   "cell_type": "code",
   "execution_count": null,
   "metadata": {},
   "outputs": [],
   "source": [
    "from masterplan_tools.method.blocks import BlocksCutter\n",
    "\n",
    "blocks = BlocksCutter(geometries = geoms).get_blocks() "
   ]
  },
  {
   "cell_type": "code",
   "execution_count": null,
   "metadata": {},
   "outputs": [],
   "source": [
    "blocks.to_gdf().explore()"
   ]
  },
  {
   "cell_type": "code",
   "execution_count": null,
   "metadata": {},
   "outputs": [],
   "source": [
    "landuse.explore()"
   ]
  },
  {
   "cell_type": "code",
   "execution_count": null,
   "metadata": {},
   "outputs": [],
   "source": [
    "no_development.explore()"
   ]
  },
  {
   "cell_type": "code",
   "execution_count": null,
   "metadata": {},
   "outputs": [],
   "source": [
    "blocks.to_gdf().explore()"
   ]
  },
  {
   "cell_type": "code",
   "execution_count": null,
   "metadata": {},
   "outputs": [],
   "source": [
    "from masterplan_tools.method import LuFilter\n",
    "\n",
    "blocks = LuFilter(blocks.to_gdf(), landuse_geometries = geoms).filter_lu()"
   ]
  },
  {
   "cell_type": "code",
   "execution_count": null,
   "metadata": {},
   "outputs": [],
   "source": [
    "\"\"\"\n",
    "There are three landuse tags in the blocks gdf:\n",
    "    1. 'no_dev_area' -- according to th no_debelopment gdf and cutoff without any buildings or specified / selected landuse types;\n",
    "    2. 'selected_area' -- according to the landuse gdf. We separate theese polygons since they have specified landuse types;\n",
    "    3. 'buildings' -- there are polygons that have buildings landuse type. \n",
    "\n",
    "    In further calculations we will use the in the following steps:\n",
    "    Only 'buildings' -- to find clusters of buildings in big polygons;\n",
    "    All of them while calculating the accessibility times among city blocks;\n",
    "    All of them except 'no_dev_area' while optimizing the development of new facilities.\n",
    "\n",
    "\"\"\""
   ]
  },
  {
   "cell_type": "code",
   "execution_count": null,
   "metadata": {},
   "outputs": [],
   "source": [
    "from masterplan_tools.method.blocks.blocks_clustering import BlocksClusterization\n",
    "\n",
    "buildings_geom = gpd.read_file(os.path.join(example_data_path, \"buildings_blocks.geojson\"), mask=city_geometry.to_crs(4326)).to_crs(local_crs)\n",
    "blocks = BlocksClusterization(blocks, buildings_geom).run()"
   ]
  },
  {
   "cell_type": "code",
   "execution_count": null,
   "metadata": {},
   "outputs": [],
   "source": [
    "blocks[blocks[\"landuse\"].isin([\"new_buildings\", \"buildings\"])].explore()"
   ]
  },
  {
   "cell_type": "code",
   "execution_count": null,
   "metadata": {},
   "outputs": [],
   "source": [
    "blocks.explore()"
   ]
  }
 ],
 "metadata": {
  "kernelspec": {
   "display_name": "Python 3.10.6 ('.venv': venv)",
   "language": "python",
   "name": "python3"
  },
  "language_info": {
   "codemirror_mode": {
    "name": "ipython",
    "version": 3
   },
   "file_extension": ".py",
   "mimetype": "text/x-python",
   "name": "python",
   "nbconvert_exporter": "python",
   "pygments_lexer": "ipython3",
   "version": "3.10.12"
  },
  "orig_nbformat": 4,
  "vscode": {
   "interpreter": {
    "hash": "10a17c1b6daec4f71e1a6be0c0f3dce45cab57590679db625cc1c5fc73cbfc9f"
   }
  }
 },
 "nbformat": 4,
 "nbformat_minor": 2
}
