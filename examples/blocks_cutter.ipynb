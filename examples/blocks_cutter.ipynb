{
 "cells": [
  {
   "cell_type": "code",
   "execution_count": null,
   "metadata": {},
   "outputs": [],
   "source": [
    "import os\n",
    "import sys\n",
    "import geopandas as gpd\n",
    "import pandas as pd\n",
    "from pathlib import Path\n",
    "\n",
    "project_dir = Path().resolve().parent.parent\n",
    "sys.path.append(str(project_dir))\n",
    "\n",
    "local_crs = 32636\n",
    "\n",
    "files_base_dir = Path(...)  # insert path to geojsons directory here\n",
    "no_development_pzz_file = files_base_dir / \"no_development_pzz.geojson\"\n",
    "landuse_zone_pzz_file = files_base_dir / \"landuse_zone_pzz.geojson\"\n",
    "petropavlovsraya_file = files_base_dir / \"petropavlovsraya_delete.geojson\""
   ]
  },
  {
   "cell_type": "code",
   "execution_count": null,
   "metadata": {},
   "outputs": [],
   "source": [
    "from DataGetter_example import DataGetter as dg\n",
    "\n",
    "dg = dg(city_crs=local_crs)"
   ]
  },
  {
   "cell_type": "code",
   "execution_count": null,
   "metadata": {},
   "outputs": [],
   "source": [
    "city_admin_level = 5\n",
    "city_name = \"Санкт-Петербург\"\n",
    "buffer = 5\n",
    "cutoff_area = 10_000\n",
    "\n",
    "water = dg.get_water_geometry(city_name=city_name, water_buffer=buffer)\n",
    "city_geom = dg.get_city_geometry(city_name=city_name, city_admin_level=city_admin_level)\n",
    "nature = dg.get_nature_geometry(city_name=city_name, nature_buffer=buffer, park_cutoff_area=cutoff_area)\n",
    "rails = dg.get_railways_geometry(city_name=city_name, railways_buffer=buffer)\n",
    "roads = dg.get_roads_geometry(city_geometry=city_geom, roads_buffer=buffer)"
   ]
  },
  {
   "cell_type": "code",
   "execution_count": null,
   "metadata": {},
   "outputs": [],
   "source": [
    "no_dev_zone = gpd.read_file(no_development_pzz_file)\n",
    "no_dev_zone = no_dev_zone.to_crs(local_crs)\n",
    "landuse_zone = gpd.read_file(landuse_zone_pzz_file)\n",
    "landuse_zone = landuse_zone.to_crs(local_crs)"
   ]
  },
  {
   "cell_type": "code",
   "execution_count": null,
   "metadata": {},
   "outputs": [],
   "source": [
    "petropavlovskaya = gpd.read_file(petropavlovsraya_file)\n",
    "petropavlovskaya = petropavlovskaya.to_crs(local_crs)"
   ]
  },
  {
   "cell_type": "code",
   "execution_count": null,
   "metadata": {},
   "outputs": [],
   "source": [
    "no_dev_zone = pd.concat([no_dev_zone[[\"geometry\"]], petropavlovskaya[[\"geometry\"]]], axis=0)"
   ]
  },
  {
   "cell_type": "code",
   "execution_count": null,
   "metadata": {},
   "outputs": [],
   "source": [
    "from masterplan_tools.City_model.city_model import CityModel\n",
    "\n",
    "cm = CityModel(\n",
    "    water_geometry=water,\n",
    "    roads_geometry=roads,\n",
    "    railways_geometry=rails,\n",
    "    nature_geometry_boundaries=nature,\n",
    "    city_geometry=city_geom,\n",
    "    landuse_zone=landuse_zone,\n",
    "    no_dev_zone=no_dev_zone,\n",
    ")"
   ]
  },
  {
   "cell_type": "code",
   "execution_count": null,
   "metadata": {},
   "outputs": [],
   "source": [
    "from masterplan_tools.Blocks_getter import BlocksCutter\n",
    "\n",
    "blocks = BlocksCutter(city_model=cm).get_blocks()"
   ]
  },
  {
   "cell_type": "code",
   "execution_count": null,
   "metadata": {},
   "outputs": [],
   "source": [
    "from masterplan_tools.Blocks_getter import LuFilter\n",
    "\n",
    "blocks = LuFilter(blocks).filter_lu()"
   ]
  },
  {
   "cell_type": "code",
   "execution_count": null,
   "metadata": {},
   "outputs": [],
   "source": [
    "from masterplan_tools.Blocks_getter import BlocksClusterization\n",
    "\n",
    "buildings_geom = gpd.read_feather(\"/home/gk/code/blocks_ysc/spb_buildings_geom.feather\")\n",
    "blocks = BlocksClusterization(blocks, buildings_geom).run()\n",
    "blocks = blocks[blocks[\"landuse\"].isin([\"new_buildings\", \"buildings\"])]"
   ]
  }
 ],
 "metadata": {
  "kernelspec": {
   "display_name": "Python 3",
   "language": "python",
   "name": "python3"
  },
  "language_info": {
   "codemirror_mode": {
    "name": "ipython",
    "version": 3
   },
   "file_extension": ".py",
   "mimetype": "text/x-python",
   "name": "python",
   "nbconvert_exporter": "python",
   "pygments_lexer": "ipython3",
   "version": "3.8.10"
  },
  "orig_nbformat": 4
 },
 "nbformat": 4,
 "nbformat_minor": 2
}
