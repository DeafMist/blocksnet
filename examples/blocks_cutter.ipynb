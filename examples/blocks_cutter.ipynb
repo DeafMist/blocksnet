{
 "cells": [
  {
   "cell_type": "code",
   "execution_count": 2,
   "metadata": {},
   "outputs": [],
   "source": [
    "import os\n",
    "import geopandas as gpd\n",
    "import pandas as pd\n",
    "\n",
    "# os.environ[\"USE_PYGEOS\"] = os.environ.get(\"USE_PYGEOS\", \"0\")\n",
    "\n",
    "local_crs = 32636\n",
    "# path to data\n",
    "example_data_path = \"./data\"\n",
    "\n",
    "# load data required for blocks cutter\n",
    "no_development = gpd.read_file(os.path.join(example_data_path, \"no_development_pzz.geojson\")).to_crs(local_crs)\n",
    "landuse = gpd.read_file(os.path.join(example_data_path, \"landuse_zone_pzz.geojson\")).to_crs(local_crs)\n",
    "okn = gpd.read_file(os.path.join(example_data_path, \"petropavlovsraya_delete.geojson\")).to_crs(local_crs)"
   ]
  },
  {
   "cell_type": "code",
   "execution_count": 2,
   "metadata": {},
   "outputs": [],
   "source": [
    "no_development = pd.concat([no_development[[\"geometry\"]], okn[[\"geometry\"]]], axis=0)"
   ]
  },
  {
   "cell_type": "code",
   "execution_count": 10,
   "metadata": {},
   "outputs": [],
   "source": [
    "from masterplan_tools.method import BlocksCutter\n",
    "from masterplan_tools.method.blocks import BlocksCutterParameters, BlocksCutterGeometries\n",
    "\n",
    "city_geometry = gpd.read_parquet(os.path.join(example_data_path, \"city_geometry.parquet\")).to_crs(local_crs)\n",
    "water_geometry = gpd.read_parquet(os.path.join(example_data_path, \"water_geometry.parquet\")).to_crs(local_crs)\n",
    "roads_geometry = gpd.read_parquet(os.path.join(example_data_path, \"roads_geometry.parquet\")).to_crs(local_crs)\n",
    "railways_geometry = gpd.read_parquet(os.path.join(example_data_path, \"railways_geometry.parquet\")).to_crs(local_crs)\n",
    "nature_geometry = gpd.read_parquet(os.path.join(example_data_path, \"nature_geometry_boundaries.parquet\")).to_crs(local_crs)"
   ]
  },
  {
   "cell_type": "code",
   "execution_count": 13,
   "metadata": {},
   "outputs": [],
   "source": [
    "geoms = BlocksCutterGeometries(\n",
    "  city=city_geometry,\n",
    "  water=water_geometry,\n",
    "  roads=roads_geometry,\n",
    "  railways=railways_geometry,\n",
    "  nature=nature_geometry,\n",
    "  no_development=no_development,\n",
    "  landuse=landuse\n",
    ")"
   ]
  },
  {
   "cell_type": "code",
   "execution_count": 15,
   "metadata": {},
   "outputs": [
    {
     "ename": "AttributeError",
     "evalue": "'BlocksCutterParameters' object has no attribute 'roads_buffer'",
     "output_type": "error",
     "traceback": [
      "\u001b[0;31m---------------------------------------------------------------------------\u001b[0m",
      "\u001b[0;31mAttributeError\u001b[0m                            Traceback (most recent call last)",
      "Cell \u001b[0;32mIn[15], line 3\u001b[0m\n\u001b[1;32m      1\u001b[0m \u001b[39mfrom\u001b[39;00m \u001b[39mmasterplan_tools\u001b[39;00m\u001b[39m.\u001b[39;00m\u001b[39mmethod\u001b[39;00m\u001b[39m.\u001b[39;00m\u001b[39mblocks\u001b[39;00m \u001b[39mimport\u001b[39;00m BlocksCutter\n\u001b[0;32m----> 3\u001b[0m blocks \u001b[39m=\u001b[39m BlocksCutter(geometries \u001b[39m=\u001b[39;49m geoms)\u001b[39m.\u001b[39;49mget_blocks()\n",
      "File \u001b[0;32m~/masterplanning/masterplan_tools/method/blocks/blocks_cutter.py:210\u001b[0m, in \u001b[0;36mBlocksCutter.get_blocks\u001b[0;34m(self)\u001b[0m\n\u001b[1;32m    188\u001b[0m \u001b[39mdef\u001b[39;00m \u001b[39mget_blocks\u001b[39m(\u001b[39mself\u001b[39m) \u001b[39m-\u001b[39m\u001b[39m>\u001b[39m gpd\u001b[39m.\u001b[39mGeoDataFrame:\n\u001b[1;32m    189\u001b[0m \u001b[39m    \u001b[39m\u001b[39m\"\"\"\u001b[39;00m\n\u001b[1;32m    190\u001b[0m \u001b[39m    Main method.\u001b[39;00m\n\u001b[1;32m    191\u001b[0m \n\u001b[0;32m   (...)\u001b[0m\n\u001b[1;32m    207\u001b[0m \u001b[39m        a GeoDataFrame of city blocks\u001b[39;00m\n\u001b[1;32m    208\u001b[0m \u001b[39m    \"\"\"\u001b[39;00m\n\u001b[0;32m--> 210\u001b[0m     blocks \u001b[39m=\u001b[39m \u001b[39mself\u001b[39;49m\u001b[39m.\u001b[39;49m_split_city_geometry()\n\u001b[1;32m    211\u001b[0m     blocks \u001b[39m=\u001b[39m blocks\u001b[39m.\u001b[39mexplode(index_parts\u001b[39m=\u001b[39m\u001b[39mTrue\u001b[39;00m)\u001b[39m.\u001b[39mreset_index()[[\u001b[39m\"\u001b[39m\u001b[39mgeometry\u001b[39m\u001b[39m\"\u001b[39m]]\n\u001b[1;32m    213\u001b[0m     \u001b[39mreturn\u001b[39;00m GeoJSON[BlocksCutterFeature]\u001b[39m.\u001b[39mfrom_gdf(blocks)\n",
      "File \u001b[0;32m~/masterplanning/masterplan_tools/method/blocks/blocks_cutter.py:174\u001b[0m, in \u001b[0;36mBlocksCutter._split_city_geometry\u001b[0;34m(self)\u001b[0m\n\u001b[1;32m    172\u001b[0m blocks \u001b[39m=\u001b[39m \u001b[39mself\u001b[39m\u001b[39m.\u001b[39m_cut_blocks_by_polygons(blocks, \u001b[39mself\u001b[39m\u001b[39m.\u001b[39mgeometries\u001b[39m.\u001b[39mroads\u001b[39m.\u001b[39mto_gdf())\n\u001b[1;32m    173\u001b[0m blocks \u001b[39m=\u001b[39m \u001b[39mself\u001b[39m\u001b[39m.\u001b[39m_cut_blocks_by_polygons(blocks, \u001b[39mself\u001b[39m\u001b[39m.\u001b[39mgeometries\u001b[39m.\u001b[39mnature\u001b[39m.\u001b[39mto_gdf())\n\u001b[0;32m--> 174\u001b[0m blocks \u001b[39m=\u001b[39m \u001b[39mself\u001b[39;49m\u001b[39m.\u001b[39;49m_fill_deadends(blocks)\n\u001b[1;32m    175\u001b[0m blocks \u001b[39m=\u001b[39m \u001b[39mself\u001b[39m\u001b[39m.\u001b[39m_cut_blocks_by_polygons(blocks, \u001b[39mself\u001b[39m\u001b[39m.\u001b[39mgeometries\u001b[39m.\u001b[39mwater\u001b[39m.\u001b[39mto_gdf())\n\u001b[1;32m    176\u001b[0m blocks \u001b[39m=\u001b[39m \u001b[39mself\u001b[39m\u001b[39m.\u001b[39m_fix_blocks_geometries(blocks)\n",
      "File \u001b[0;32m~/masterplanning/masterplan_tools/method/blocks/blocks_cutter.py:83\u001b[0m, in \u001b[0;36mBlocksCutter._fill_deadends\u001b[0;34m(self, blocks)\u001b[0m\n\u001b[1;32m     81\u001b[0m \u001b[39m# To make multi-part geometries into several single-part so they coud be processed separatedly\u001b[39;00m\n\u001b[1;32m     82\u001b[0m blocks \u001b[39m=\u001b[39m blocks\u001b[39m.\u001b[39mexplode(ignore_index\u001b[39m=\u001b[39m\u001b[39mTrue\u001b[39;00m)\n\u001b[0;32m---> 83\u001b[0m blocks[\u001b[39m\"\u001b[39m\u001b[39mgeometry\u001b[39m\u001b[39m\"\u001b[39m] \u001b[39m=\u001b[39m blocks[\u001b[39m\"\u001b[39;49m\u001b[39mgeometry\u001b[39;49m\u001b[39m\"\u001b[39;49m]\u001b[39m.\u001b[39;49mmap(\n\u001b[1;32m     84\u001b[0m     \u001b[39mlambda\u001b[39;49;00m block: block\u001b[39m.\u001b[39;49mbuffer(\u001b[39mself\u001b[39;49m\u001b[39m.\u001b[39;49mparameters\u001b[39m.\u001b[39;49mroads_buffer \u001b[39m+\u001b[39;49m \u001b[39m1\u001b[39;49m)\u001b[39m.\u001b[39;49mbuffer(\u001b[39m-\u001b[39;49m(\u001b[39mself\u001b[39;49m\u001b[39m.\u001b[39;49mparameters\u001b[39m.\u001b[39;49mroads_buffer \u001b[39m+\u001b[39;49m \u001b[39m1\u001b[39;49m))\n\u001b[1;32m     85\u001b[0m )\n\u001b[1;32m     86\u001b[0m \u001b[39mreturn\u001b[39;00m blocks\n",
      "File \u001b[0;32m~/masterplanning/.venv/lib/python3.10/site-packages/pandas/core/series.py:4539\u001b[0m, in \u001b[0;36mSeries.map\u001b[0;34m(self, arg, na_action)\u001b[0m\n\u001b[1;32m   4460\u001b[0m \u001b[39mdef\u001b[39;00m \u001b[39mmap\u001b[39m(\n\u001b[1;32m   4461\u001b[0m     \u001b[39mself\u001b[39m,\n\u001b[1;32m   4462\u001b[0m     arg: Callable \u001b[39m|\u001b[39m Mapping \u001b[39m|\u001b[39m Series,\n\u001b[1;32m   4463\u001b[0m     na_action: Literal[\u001b[39m\"\u001b[39m\u001b[39mignore\u001b[39m\u001b[39m\"\u001b[39m] \u001b[39m|\u001b[39m \u001b[39mNone\u001b[39;00m \u001b[39m=\u001b[39m \u001b[39mNone\u001b[39;00m,\n\u001b[1;32m   4464\u001b[0m ) \u001b[39m-\u001b[39m\u001b[39m>\u001b[39m Series:\n\u001b[1;32m   4465\u001b[0m \u001b[39m    \u001b[39m\u001b[39m\"\"\"\u001b[39;00m\n\u001b[1;32m   4466\u001b[0m \u001b[39m    Map values of Series according to an input mapping or function.\u001b[39;00m\n\u001b[1;32m   4467\u001b[0m \n\u001b[0;32m   (...)\u001b[0m\n\u001b[1;32m   4537\u001b[0m \u001b[39m    dtype: object\u001b[39;00m\n\u001b[1;32m   4538\u001b[0m \u001b[39m    \"\"\"\u001b[39;00m\n\u001b[0;32m-> 4539\u001b[0m     new_values \u001b[39m=\u001b[39m \u001b[39mself\u001b[39;49m\u001b[39m.\u001b[39;49m_map_values(arg, na_action\u001b[39m=\u001b[39;49mna_action)\n\u001b[1;32m   4540\u001b[0m     \u001b[39mreturn\u001b[39;00m \u001b[39mself\u001b[39m\u001b[39m.\u001b[39m_constructor(new_values, index\u001b[39m=\u001b[39m\u001b[39mself\u001b[39m\u001b[39m.\u001b[39mindex)\u001b[39m.\u001b[39m__finalize__(\n\u001b[1;32m   4541\u001b[0m         \u001b[39mself\u001b[39m, method\u001b[39m=\u001b[39m\u001b[39m\"\u001b[39m\u001b[39mmap\u001b[39m\u001b[39m\"\u001b[39m\n\u001b[1;32m   4542\u001b[0m     )\n",
      "File \u001b[0;32m~/masterplanning/.venv/lib/python3.10/site-packages/pandas/core/base.py:890\u001b[0m, in \u001b[0;36mIndexOpsMixin._map_values\u001b[0;34m(self, mapper, na_action)\u001b[0m\n\u001b[1;32m    887\u001b[0m         \u001b[39mraise\u001b[39;00m \u001b[39mValueError\u001b[39;00m(msg)\n\u001b[1;32m    889\u001b[0m \u001b[39m# mapper is a function\u001b[39;00m\n\u001b[0;32m--> 890\u001b[0m new_values \u001b[39m=\u001b[39m map_f(values, mapper)\n\u001b[1;32m    892\u001b[0m \u001b[39mreturn\u001b[39;00m new_values\n",
      "File \u001b[0;32m~/masterplanning/.venv/lib/python3.10/site-packages/pandas/_libs/lib.pyx:2924\u001b[0m, in \u001b[0;36mpandas._libs.lib.map_infer\u001b[0;34m()\u001b[0m\n",
      "File \u001b[0;32m~/masterplanning/masterplan_tools/method/blocks/blocks_cutter.py:84\u001b[0m, in \u001b[0;36mBlocksCutter._fill_deadends.<locals>.<lambda>\u001b[0;34m(block)\u001b[0m\n\u001b[1;32m     81\u001b[0m \u001b[39m# To make multi-part geometries into several single-part so they coud be processed separatedly\u001b[39;00m\n\u001b[1;32m     82\u001b[0m blocks \u001b[39m=\u001b[39m blocks\u001b[39m.\u001b[39mexplode(ignore_index\u001b[39m=\u001b[39m\u001b[39mTrue\u001b[39;00m)\n\u001b[1;32m     83\u001b[0m blocks[\u001b[39m\"\u001b[39m\u001b[39mgeometry\u001b[39m\u001b[39m\"\u001b[39m] \u001b[39m=\u001b[39m blocks[\u001b[39m\"\u001b[39m\u001b[39mgeometry\u001b[39m\u001b[39m\"\u001b[39m]\u001b[39m.\u001b[39mmap(\n\u001b[0;32m---> 84\u001b[0m     \u001b[39mlambda\u001b[39;00m block: block\u001b[39m.\u001b[39mbuffer(\u001b[39mself\u001b[39;49m\u001b[39m.\u001b[39;49mparameters\u001b[39m.\u001b[39;49mroads_buffer \u001b[39m+\u001b[39m \u001b[39m1\u001b[39m)\u001b[39m.\u001b[39mbuffer(\u001b[39m-\u001b[39m(\u001b[39mself\u001b[39m\u001b[39m.\u001b[39mparameters\u001b[39m.\u001b[39mroads_buffer \u001b[39m+\u001b[39m \u001b[39m1\u001b[39m))\n\u001b[1;32m     85\u001b[0m )\n\u001b[1;32m     86\u001b[0m \u001b[39mreturn\u001b[39;00m blocks\n",
      "File \u001b[0;32m~/masterplanning/.venv/lib/python3.10/site-packages/pydantic/main.py:706\u001b[0m, in \u001b[0;36mBaseModel.__getattr__\u001b[0;34m(self, item)\u001b[0m\n\u001b[1;32m    704\u001b[0m         \u001b[39mraise\u001b[39;00m \u001b[39mAttributeError\u001b[39;00m(\u001b[39mf\u001b[39m\u001b[39m'\u001b[39m\u001b[39m{\u001b[39;00m\u001b[39mtype\u001b[39m(\u001b[39mself\u001b[39m)\u001b[39m.\u001b[39m\u001b[39m__name__\u001b[39m\u001b[39m!r}\u001b[39;00m\u001b[39m object has no attribute \u001b[39m\u001b[39m{\u001b[39;00mitem\u001b[39m!r}\u001b[39;00m\u001b[39m'\u001b[39m) \u001b[39mfrom\u001b[39;00m \u001b[39mexc\u001b[39;00m\n\u001b[1;32m    705\u001b[0m \u001b[39melse\u001b[39;00m:\n\u001b[0;32m--> 706\u001b[0m     \u001b[39mraise\u001b[39;00m \u001b[39mAttributeError\u001b[39;00m(\u001b[39mf\u001b[39m\u001b[39m'\u001b[39m\u001b[39m{\u001b[39;00m\u001b[39mtype\u001b[39m(\u001b[39mself\u001b[39m)\u001b[39m.\u001b[39m\u001b[39m__name__\u001b[39m\u001b[39m!r}\u001b[39;00m\u001b[39m object has no attribute \u001b[39m\u001b[39m{\u001b[39;00mitem\u001b[39m!r}\u001b[39;00m\u001b[39m'\u001b[39m)\n",
      "\u001b[0;31mAttributeError\u001b[0m: 'BlocksCutterParameters' object has no attribute 'roads_buffer'"
     ]
    }
   ],
   "source": [
    "from masterplan_tools.method.blocks import BlocksCutter\n",
    "\n",
    "blocks = BlocksCutter(geometries = geoms).get_blocks()"
   ]
  },
  {
   "cell_type": "code",
   "execution_count": null,
   "metadata": {},
   "outputs": [],
   "source": [
    "from masterplan_tools.method.blocks import LuFilter\n",
    "\n",
    "blocks = LuFilter(blocks).filter_lu()"
   ]
  },
  {
   "cell_type": "code",
   "execution_count": null,
   "metadata": {},
   "outputs": [],
   "source": [
    "from masterplan_tools.Blocks_getter import BlocksClusterization\n",
    "\n",
    "buildings_geom = gpd.read_feather(\"/home/gk/code/blocks_ysc/spb_buildings_geom.feather\")\n",
    "blocks = BlocksClusterization(blocks, buildings_geom).run()\n",
    "blocks = blocks[blocks[\"landuse\"].isin([\"new_buildings\", \"buildings\"])]"
   ]
  }
 ],
 "metadata": {
  "kernelspec": {
   "display_name": "Python 3.10.6 ('.venv': venv)",
   "language": "python",
   "name": "python3"
  },
  "language_info": {
   "codemirror_mode": {
    "name": "ipython",
    "version": 3
   },
   "file_extension": ".py",
   "mimetype": "text/x-python",
   "name": "python",
   "nbconvert_exporter": "python",
   "pygments_lexer": "ipython3",
   "version": "3.10.6"
  },
  "orig_nbformat": 4,
  "vscode": {
   "interpreter": {
    "hash": "10a17c1b6daec4f71e1a6be0c0f3dce45cab57590679db625cc1c5fc73cbfc9f"
   }
  }
 },
 "nbformat": 4,
 "nbformat_minor": 2
}
