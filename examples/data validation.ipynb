{
 "cells": [
  {
   "cell_type": "code",
   "execution_count": 1,
   "metadata": {},
   "outputs": [],
   "source": [
    "import os\n",
    "import geopandas as gpd\n",
    "example_data_path = \"./data\"\n",
    "\n",
    "local_crs = 32636\n",
    "city_geometry = gpd.read_parquet(os.path.join(example_data_path, \"city_geometry.parquet\")).to_crs(local_crs)"
   ]
  },
  {
   "cell_type": "code",
   "execution_count": null,
   "metadata": {},
   "outputs": [],
   "source": [
    "from pydantic import BaseModel"
   ]
  },
  {
   "cell_type": "code",
   "execution_count": 39,
   "metadata": {},
   "outputs": [
    {
     "data": {
      "text/html": [
       "<div>\n",
       "<style scoped>\n",
       "    .dataframe tbody tr th:only-of-type {\n",
       "        vertical-align: middle;\n",
       "    }\n",
       "\n",
       "    .dataframe tbody tr th {\n",
       "        vertical-align: top;\n",
       "    }\n",
       "\n",
       "    .dataframe thead th {\n",
       "        text-align: right;\n",
       "    }\n",
       "</style>\n",
       "<table border=\"1\" class=\"dataframe\">\n",
       "  <thead>\n",
       "    <tr style=\"text-align: right;\">\n",
       "      <th></th>\n",
       "      <th>geometry</th>\n",
       "      <th>id</th>\n",
       "    </tr>\n",
       "  </thead>\n",
       "  <tbody>\n",
       "    <tr>\n",
       "      <th>0</th>\n",
       "      <td>POLYGON ((346757.90975715907 6645502.598731382...</td>\n",
       "      <td>337424</td>\n",
       "    </tr>\n",
       "  </tbody>\n",
       "</table>\n",
       "</div>"
      ],
      "text/plain": [
       "                                            geometry      id\n",
       "0  POLYGON ((346757.90975715907 6645502.598731382...  337424"
      ]
     },
     "execution_count": 39,
     "metadata": {},
     "output_type": "execute_result"
    }
   ],
   "source": [
    "from typing import Generic, TypeVar\n",
    "import pandera as pa\n",
    "from pandera.typing import Series, DataFrame, Index\n",
    "from pandera.typing.geopandas import GeoDataFrame, GeoSeries\n",
    "from shapely import Polygon, Point\n",
    "from pydantic import BaseModel, Field, InstanceOf\n",
    "from pandera.engines.pandas_engine import PydanticModel\n",
    "\n",
    "class Record(BaseModel):\n",
    "  geometry: InstanceOf[Polygon]\n",
    "  id: int\n",
    "  # index: int\n",
    "\n",
    "from pandera.engines.pandas_engine import PydanticModel\n",
    "\n",
    "T = TypeVar('T', BaseModel)\n",
    "\n",
    "class PydanticSchema(pa.DataFrameModel, Generic[T]):\n",
    "    \"\"\"Pandera schema using the pydantic model.\"\"\"\n",
    "    index: Index[str]\n",
    "\n",
    "    class Config:\n",
    "        \"\"\"Config with dataframe-level data type.\"\"\"\n",
    "\n",
    "        dtype = PydanticModel(Record)\n",
    "        coerce = True  # this is required, otherwise a SchemaInitError is raised\n",
    "\n",
    "DataFrame[PydanticSchema](city_geometry)"
   ]
  }
 ],
 "metadata": {
  "kernelspec": {
   "display_name": "venv",
   "language": "python",
   "name": "python3"
  },
  "language_info": {
   "codemirror_mode": {
    "name": "ipython",
    "version": 3
   },
   "file_extension": ".py",
   "mimetype": "text/x-python",
   "name": "python",
   "nbconvert_exporter": "python",
   "pygments_lexer": "ipython3",
   "version": "3.10.12"
  },
  "orig_nbformat": 4
 },
 "nbformat": 4,
 "nbformat_minor": 2
}
