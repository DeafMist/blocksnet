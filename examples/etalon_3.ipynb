{
 "cells": [
  {
   "cell_type": "markdown",
   "metadata": {},
   "source": [
    "## Московские ворота, Московский район"
   ]
  },
  {
   "cell_type": "code",
   "execution_count": null,
   "metadata": {},
   "outputs": [],
   "source": [
    "import os\n",
    "import networkx as nx\n",
    "import osmnx as ox\n",
    "import geopandas as gpd"
   ]
  },
  {
   "cell_type": "code",
   "execution_count": null,
   "metadata": {},
   "outputs": [],
   "source": [
    "ox_crs = 4326\n",
    "local_crs = 32636\n",
    "example_data_path = './data'\n",
    "\n",
    "city_geometry = gpd.read_file(os.path.join(example_data_path, \"etalon_moskovskiy.geojson\")).to_crs(ox_crs)"
   ]
  },
  {
   "cell_type": "code",
   "execution_count": null,
   "metadata": {},
   "outputs": [],
   "source": [
    "from masterplan_tools.preprocessing import GraphGenerator\n",
    "intermodal_graph = GraphGenerator(city_geometry=city_geometry, local_crs=local_crs).get_graph()"
   ]
  },
  {
   "cell_type": "code",
   "execution_count": null,
   "metadata": {},
   "outputs": [],
   "source": [
    "blocks = gpd.read_parquet(os.path.join(example_data_path, \"etalon_blocks.parquet\")).to_crs(local_crs)\n",
    "blocks = blocks.sjoin(city_geometry.to_crs(local_crs))"
   ]
  },
  {
   "cell_type": "code",
   "execution_count": null,
   "metadata": {},
   "outputs": [],
   "source": [
    "from masterplan_tools.preprocessing import DataGetter, AggregateParameters\n",
    "dg = DataGetter(blocks=blocks)"
   ]
  },
  {
   "cell_type": "code",
   "execution_count": null,
   "metadata": {},
   "outputs": [],
   "source": [
    "accessibility_matrix = dg.get_accessibility_matrix(intermodal_graph)"
   ]
  },
  {
   "cell_type": "code",
   "execution_count": null,
   "metadata": {},
   "outputs": [],
   "source": [
    "import math\n",
    "\n",
    "buildings = gpd.read_file(os.path.join(example_data_path, \"etalon_buildings_moskovskiy.geojson\")).to_crs(local_crs)\n",
    "greenings = gpd.read_parquet(os.path.join(example_data_path, \"greenings.parquet\")).rename_geometry('geometry').to_crs(local_crs)\n",
    "parkings = gpd.read_parquet(os.path.join(example_data_path, \"parkings.parquet\")).rename_geometry('geometry').to_crs(local_crs)\n",
    "\n",
    "buildings.drop(labels=['name', 'address', 'municipality', 'ukname'], axis=1, inplace=True)\n",
    "buildings['living_area_pyatno'] = 0\n",
    "buildings['total_area'] = 0\n",
    "buildings['storeys_count'] = 0\n",
    "buildings['population_balanced'] = buildings['population_balanced'].fillna(0).apply(math.ceil)\n",
    "buildings['is_living'] = buildings['population_balanced']>0\n",
    "\n",
    "aggr_params = AggregateParameters(\n",
    "  buildings=buildings,\n",
    "  greenings=greenings,\n",
    "  parkings=parkings\n",
    ")\n",
    "aggregated_blocks = dg.aggregate_blocks_info(aggr_params)"
   ]
  },
  {
   "cell_type": "code",
   "execution_count": null,
   "metadata": {},
   "outputs": [],
   "source": [
    "from masterplan_tools.models import City\n",
    "\n",
    "city_model = City(accessibility_matrix.df, aggregated_blocks.to_gdf())"
   ]
  },
  {
   "cell_type": "code",
   "execution_count": null,
   "metadata": {},
   "outputs": [],
   "source": [
    "schools = gpd.read_file(os.path.join(example_data_path, \"etalon_schools.geojson\")).to_crs(local_crs)\n",
    "kindergartens = gpd.read_file(os.path.join(example_data_path, \"etalon_kindergartens.geojson\")).to_crs(local_crs)\n",
    "kindergartens.loc[kindergartens['id'] == 146055,'capacity'] = 0\n",
    "\n",
    "city_model.update_service_type_layer(city_model['schools'], schools)\n",
    "city_model.update_service_type_layer(city_model['kindergartens'], kindergartens)"
   ]
  },
  {
   "cell_type": "code",
   "execution_count": null,
   "metadata": {},
   "outputs": [],
   "source": [
    "from masterplan_tools.method.provision import Provision\n",
    "\n",
    "selected_block = city_model[376]\n",
    "provision = Provision(city_model=city_model)"
   ]
  },
  {
   "cell_type": "code",
   "execution_count": null,
   "metadata": {},
   "outputs": [],
   "source": [
    "from masterplan_tools.method.accessibility import Accessibility\n",
    "\n",
    "accessibility_gdf = Accessibility(city_model=city_model).calculate_accessibility(selected_block)\n",
    "Accessibility.plot(accessibility_gdf)"
   ]
  },
  {
   "cell_type": "code",
   "execution_count": null,
   "metadata": {},
   "outputs": [],
   "source": [
    "provisions_before = provision.calculate_provisions(['schools', 'kindergartens'])\n",
    "Provision.plot_provisions(provisions_before)"
   ]
  },
  {
   "cell_type": "code",
   "execution_count": null,
   "metadata": {},
   "outputs": [],
   "source": [
    "update = {\n",
    "  selected_block.id : {\n",
    "    'population': 482+2040+1178+500+175,\n",
    "    'kindergartens': 220,\n",
    "    'schools': 1000\n",
    "  }\n",
    "} \n",
    "update_gdf = gpd.GeoDataFrame.from_dict(update, orient='index')"
   ]
  },
  {
   "cell_type": "code",
   "execution_count": null,
   "metadata": {},
   "outputs": [],
   "source": [
    "provisions_after = provision.calculate_provisions(['schools', 'kindergartens'], update_gdf)\n",
    "Provision.plot_provisions(provisions_after)"
   ]
  },
  {
   "cell_type": "code",
   "execution_count": null,
   "metadata": {},
   "outputs": [],
   "source": [
    "for service_type in ['schools', 'kindergartens']:\n",
    "  prov_before = Provision.total_provision(provisions_before[service_type])\n",
    "  prov_after = Provision.total_provision(provisions_after[service_type])\n",
    "  print(f\"{prov_before} -> {prov_after}, delta = {prov_after-prov_before}\")"
   ]
  },
  {
   "cell_type": "code",
   "execution_count": null,
   "metadata": {},
   "outputs": [],
   "source": [
    "for service_type in ['schools', 'kindergartens']:\n",
    "  before = provisions_before[service_type]['demand_within'].sum()\n",
    "  after = provisions_after[service_type]['demand_within'].sum()\n",
    "  print(f\"{before} -> {after}, delta = {after-before}\")"
   ]
  }
 ],
 "metadata": {
  "kernelspec": {
   "display_name": "Python 3.10.12 ('.venv': venv)",
   "language": "python",
   "name": "python3"
  },
  "language_info": {
   "codemirror_mode": {
    "name": "ipython",
    "version": 3
   },
   "file_extension": ".py",
   "mimetype": "text/x-python",
   "name": "python",
   "nbconvert_exporter": "python",
   "pygments_lexer": "ipython3",
   "version": "3.10.12"
  },
  "orig_nbformat": 4,
  "vscode": {
   "interpreter": {
    "hash": "10a17c1b6daec4f71e1a6be0c0f3dce45cab57590679db625cc1c5fc73cbfc9f"
   }
  }
 },
 "nbformat": 4,
 "nbformat_minor": 2
}
