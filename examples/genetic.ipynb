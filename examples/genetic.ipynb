{
 "cells": [
  {
   "cell_type": "code",
   "execution_count": 1,
   "metadata": {
    "collapsed": false,
    "pycharm": {
     "name": "#%%\n"
    }
   },
   "outputs": [],
   "source": [
    "import os\n",
    "import pandas as pd\n",
    "import geopandas as gpd\n",
    "import numpy as np\n",
    "\n",
    "# os.environ[\"USE_PYGEOS\"] = os.environ.get(\"USE_PYGEOS\", \"0\")\n",
    "local_crs = 32636\n",
    "# path to data\n",
    "example_data_path = \"./data\""
   ]
  },
  {
   "cell_type": "code",
   "execution_count": 2,
   "metadata": {
    "collapsed": false,
    "pycharm": {
     "name": "#%%\n"
    }
   },
   "outputs": [],
   "source": [
    "# load aggregated info we have\n",
    "aggregated_blocks = gpd.read_parquet(os.path.join(example_data_path, \"data_getter_blocks.parquet\"))\n",
    "accessibility_matrix = pd.read_pickle(os.path.join(example_data_path, \"data_getter_matrix.pickle\"))"
   ]
  },
  {
   "cell_type": "code",
   "execution_count": 3,
   "metadata": {
    "collapsed": false,
    "pycharm": {
     "name": "#%%\n"
    }
   },
   "outputs": [],
   "source": [
    "# load data required for service graphs creation\n",
    "schools = gpd.read_parquet(os.path.join(example_data_path, \"schools.parquet\"))\n",
    "kindergartens = gpd.read_parquet(os.path.join(example_data_path, \"kindergartens.parquet\"))\n",
    "recreational_areas = gpd.read_parquet(os.path.join(example_data_path, \"recreational_areas.parquet\")).rename_geometry('geometry')\n",
    "\n",
    "hospitals = gpd.read_file(os.path.join(example_data_path, \"hospitals.geojson\"))\n",
    "pharmacies = gpd.read_file(os.path.join(example_data_path, \"pharmacies.geojson\"))\n",
    "policlinics = gpd.read_file(os.path.join(example_data_path, \"policlinics.geojson\"))\n",
    "\n",
    "# services should be specified as a dictionary\n",
    "services = {\"schools\": schools, \"kindergartens\": kindergartens, \"recreational_areas\": recreational_areas,\n",
    "            \"hospitals\": hospitals, \"pharmacies\": pharmacies, \"policlinics\": policlinics}"
   ]
  },
  {
   "cell_type": "code",
   "execution_count": 4,
   "metadata": {
    "collapsed": false,
    "pycharm": {
     "name": "#%%\n"
    }
   },
   "outputs": [
    {
     "name": "stderr",
     "output_type": "stream",
     "text": [
      "/Users/mvin/Desktop/masterplanning/env/lib/python3.10/site-packages/tqdm/auto.py:21: TqdmWarning: IProgress not found. Please update jupyter and ipywidgets. See https://ipywidgets.readthedocs.io/en/stable/user_install.html\n",
      "  from .autonotebook import tqdm as notebook_tqdm\n"
     ]
    }
   ],
   "source": [
    "from masterplan_tools import CityModel\n",
    "\n",
    "city_model = CityModel(\n",
    "  blocks=aggregated_blocks,\n",
    "  accessibility_matrix=accessibility_matrix,\n",
    "  services=services\n",
    ")"
   ]
  },
  {
   "cell_type": "code",
   "execution_count": 5,
   "metadata": {
    "collapsed": false,
    "pycharm": {
     "name": "#%%\n"
    }
   },
   "outputs": [
    {
     "name": "stdout",
     "output_type": "stream",
     "text": [
      "schools\n",
      "total load = 24945\n",
      "total capacity = 31356\n",
      "fin\n",
      " load = 0\n",
      " cap = 6411\n",
      "kindergartens\n",
      "total load = 12650\n",
      "total capacity = 10459\n",
      "fin\n",
      " load = 2191\n",
      " cap = 0\n",
      "recreational_areas\n",
      "total load = 12443\n",
      "total capacity = 13056\n",
      "fin\n",
      " load = 0\n",
      " cap = 613\n",
      "hospitals\n",
      "total load = 1813\n",
      "total capacity = 15789\n",
      "fin\n",
      " load = 0\n",
      " cap = 13976\n",
      "pharmacies\n",
      "total load = 10357\n",
      "total capacity = 12942\n",
      "fin\n",
      " load = 0\n",
      " cap = 2585\n",
      "policlinics\n",
      "total load = 5565\n",
      "total capacity = 24665\n",
      "fin\n",
      " load = 0\n",
      " cap = 19100\n"
     ]
    }
   ],
   "source": [
    "from masterplan_tools import ProvisionModel\n",
    "\n",
    "services_prov = {}\n",
    "\n",
    "for service_type in city_model.get_service_types():\n",
    "    provision = ProvisionModel(city_model=city_model, service_name=service_type)\n",
    "    print(service_type)\n",
    "    services_prov[service_type] = provision.run(overflow=True)"
   ]
  },
  {
   "cell_type": "code",
   "execution_count": 6,
   "metadata": {
    "collapsed": false,
    "pycharm": {
     "name": "#%%\n"
    }
   },
   "outputs": [],
   "source": [
    "# import matplotlib.pyplot as plt\n",
    "# from matplotlib.gridspec import GridSpec\n",
    "\n",
    "# def show_me_chart(fig, gs, prov, name, i):\n",
    "#   ax = fig.add_subplot(gs[i//3, i%3])\n",
    "#   prov.plot(column=\"provision_\"+name, legend=True, ax=ax, cmap='RdYlGn')\n",
    "#   ax.set_title(name +\" provision\")\n",
    "#   prov[prov[\"population\"] == 0].plot(ax=ax, color=\"#ddd\", alpha=1)\n",
    "\n",
    "\n",
    "# kindergartens_prov = services_prov[\"kindergartens\"]\n",
    "# schools_prov = services_prov[\"schools\"]\n",
    "# recreational_areas_prov = services_prov[\"recreational_areas\"]\n",
    "# hospitals_prov = services_prov[\"hospitals\"]\n",
    "# pharmacies_prov = services_prov[\"pharmacies\"]\n",
    "# policlinics_prov = services_prov[\"policlinics\"]\n",
    "\n",
    "# fig = plt.figure(figsize=(25, 15))\n",
    "# gs = GridSpec(2, 3, figure=fig)\n",
    "\n",
    "# i = 0\n",
    "# for service_type in services_prov:\n",
    "#   show_me_chart(fig, gs, services_prov[service_type], service_type, i)\n",
    "#   i = i+1\n",
    "\n",
    "# plt.show()"
   ]
  },
  {
   "cell_type": "code",
   "execution_count": 7,
   "metadata": {
    "collapsed": false,
    "pycharm": {
     "name": "#%%\n"
    }
   },
   "outputs": [],
   "source": [
    "all_services = {\n",
    "    'schools': {250: 1.2, 300: 1.1, 600: 1.3, 800: 1.5, 1100: 1.8},\n",
    "    'kindergartens': {180: 0.72, 250: 1.44, 280: 1.1},\n",
    "    'recreational_areas': {1000: 0.12},\n",
    "    'pharmacies': {1000: 0.005},\n",
    "    'hospitals': {500: 4, 1000: 8, 5000: 40, 10000: 80},\n",
    "    'policlinics': {1000: 1.1, 3000: 3, 5000: 5},\n",
    "    'random_key1': {123: 1.23, 456: 4.56},\n",
    "    'random_key2': {234: 2.34, 345: 3.45}\n",
    "}\n",
    "\n",
    "scenario = ['hospitals', 'policlinics', 'recreational_areas', 'pharmacies']\n",
    "weights = None\n",
    "if not weights:\n",
    "    weights = [round(1/len(scenario), 2) for i in range(len(scenario))]\n",
    "\n",
    "scenario = dict(zip(scenario, weights))"
   ]
  },
  {
   "cell_type": "code",
   "execution_count": 8,
   "metadata": {
    "collapsed": false,
    "pycharm": {
     "name": "#%%\n"
    }
   },
   "outputs": [
    {
     "data": {
      "text/plain": [
       "{'hospitals': 0.25,\n",
       " 'policlinics': 0.25,\n",
       " 'recreational_areas': 0.25,\n",
       " 'pharmacies': 0.25}"
      ]
     },
     "execution_count": 8,
     "metadata": {},
     "output_type": "execute_result"
    }
   ],
   "source": [
    "scenario"
   ]
  },
  {
   "cell_type": "code",
   "execution_count": 9,
   "metadata": {
    "collapsed": false,
    "pycharm": {
     "name": "#%%\n"
    }
   },
   "outputs": [
    {
     "data": {
      "text/plain": [
       "0.7463249042057656"
      ]
     },
     "execution_count": 9,
     "metadata": {},
     "output_type": "execute_result"
    }
   ],
   "source": [
    "res = []\n",
    "for k,v in scenario.items():\n",
    "    res.append(v*((services_prov[k]['population_prov_' + k]/\n",
    "    (services_prov[k]['population_prov_' + k] +\n",
    "    services_prov[k]['population_unprov_' + k])).mean()))\n",
    "sum(res)"
   ]
  },
  {
   "cell_type": "code",
   "execution_count": 10,
   "metadata": {
    "collapsed": false,
    "pycharm": {
     "name": "#%%\n"
    }
   },
   "outputs": [
    {
     "data": {
      "text/plain": [
       "[0.2483142327700481,\n",
       " 0.24790745501285347,\n",
       " 0.0025070625767102503,\n",
       " 0.24759615384615385]"
      ]
     },
     "execution_count": 10,
     "metadata": {},
     "output_type": "execute_result"
    }
   ],
   "source": [
    "res"
   ]
  },
  {
   "cell_type": "code",
   "execution_count": 11,
   "metadata": {
    "collapsed": false,
    "pycharm": {
     "name": "#%%\n"
    }
   },
   "outputs": [],
   "source": [
    "HECTARE_IN_SQUARE_METERS = 10_000\n",
    "\n",
    "\n",
    "def read_df(services_prov):\n",
    "\n",
    "    df = pd.concat([df.drop('geometry', axis=1) for df in services_prov.values()], axis=1)\n",
    "    df = df.loc[:,~df.columns.duplicated()].copy()\n",
    "    df['floors'].fillna(0, inplace=True)\n",
    "\n",
    "    df[['area', 'current_living_area',\n",
    "        'current_industrial_area', 'current_green_area']] = df[['area', 'current_living_area',\n",
    "                                                                'current_industrial_area', 'current_green_area']]/HECTARE_IN_SQUARE_METERS\n",
    "    df['free_area'] = df['area']*0.8 - df['current_green_area'] - df['current_industrial_area'] - df['current_living_area']\n",
    "\n",
    "    return df\n"
   ]
  },
  {
   "cell_type": "code",
   "execution_count": 12,
   "metadata": {
    "collapsed": false,
    "pycharm": {
     "name": "#%%\n"
    }
   },
   "outputs": [
    {
     "data": {
      "text/html": [
       "<div>\n",
       "<style scoped>\n",
       "    .dataframe tbody tr th:only-of-type {\n",
       "        vertical-align: middle;\n",
       "    }\n",
       "\n",
       "    .dataframe tbody tr th {\n",
       "        vertical-align: top;\n",
       "    }\n",
       "\n",
       "    .dataframe thead th {\n",
       "        text-align: right;\n",
       "    }\n",
       "</style>\n",
       "<table border=\"1\" class=\"dataframe\">\n",
       "  <thead>\n",
       "    <tr style=\"text-align: right;\">\n",
       "      <th></th>\n",
       "      <th>landuse</th>\n",
       "      <th>block_id</th>\n",
       "      <th>is_living</th>\n",
       "      <th>current_population</th>\n",
       "      <th>floors</th>\n",
       "      <th>current_living_area</th>\n",
       "      <th>current_green_capacity</th>\n",
       "      <th>current_green_area</th>\n",
       "      <th>current_parking_capacity</th>\n",
       "      <th>current_industrial_area</th>\n",
       "      <th>...</th>\n",
       "      <th>weakly_prov_hospitals</th>\n",
       "      <th>provision_pharmacies</th>\n",
       "      <th>population_prov_pharmacies</th>\n",
       "      <th>population_unprov_pharmacies</th>\n",
       "      <th>weakly_prov_pharmacies</th>\n",
       "      <th>provision_policlinics</th>\n",
       "      <th>population_prov_policlinics</th>\n",
       "      <th>population_unprov_policlinics</th>\n",
       "      <th>weakly_prov_policlinics</th>\n",
       "      <th>free_area</th>\n",
       "    </tr>\n",
       "  </thead>\n",
       "  <tbody>\n",
       "    <tr>\n",
       "      <th>0</th>\n",
       "      <td>buildings</td>\n",
       "      <td>0</td>\n",
       "      <td>False</td>\n",
       "      <td>0.0</td>\n",
       "      <td>0.0</td>\n",
       "      <td>0.0</td>\n",
       "      <td>0.0</td>\n",
       "      <td>0.0</td>\n",
       "      <td>0.0</td>\n",
       "      <td>0.000000</td>\n",
       "      <td>...</td>\n",
       "      <td>0</td>\n",
       "      <td>0</td>\n",
       "      <td>0</td>\n",
       "      <td>0</td>\n",
       "      <td>0</td>\n",
       "      <td>0</td>\n",
       "      <td>0</td>\n",
       "      <td>0</td>\n",
       "      <td>0</td>\n",
       "      <td>0.003290</td>\n",
       "    </tr>\n",
       "    <tr>\n",
       "      <th>1</th>\n",
       "      <td>buildings</td>\n",
       "      <td>1</td>\n",
       "      <td>False</td>\n",
       "      <td>0.0</td>\n",
       "      <td>0.0</td>\n",
       "      <td>0.0</td>\n",
       "      <td>0.0</td>\n",
       "      <td>0.0</td>\n",
       "      <td>0.0</td>\n",
       "      <td>0.000000</td>\n",
       "      <td>...</td>\n",
       "      <td>0</td>\n",
       "      <td>0</td>\n",
       "      <td>0</td>\n",
       "      <td>0</td>\n",
       "      <td>0</td>\n",
       "      <td>0</td>\n",
       "      <td>0</td>\n",
       "      <td>0</td>\n",
       "      <td>0</td>\n",
       "      <td>0.012978</td>\n",
       "    </tr>\n",
       "    <tr>\n",
       "      <th>2</th>\n",
       "      <td>buildings</td>\n",
       "      <td>2</td>\n",
       "      <td>False</td>\n",
       "      <td>0.0</td>\n",
       "      <td>0.0</td>\n",
       "      <td>0.0</td>\n",
       "      <td>0.0</td>\n",
       "      <td>0.0</td>\n",
       "      <td>0.0</td>\n",
       "      <td>0.004264</td>\n",
       "      <td>...</td>\n",
       "      <td>0</td>\n",
       "      <td>0</td>\n",
       "      <td>0</td>\n",
       "      <td>0</td>\n",
       "      <td>0</td>\n",
       "      <td>0</td>\n",
       "      <td>0</td>\n",
       "      <td>0</td>\n",
       "      <td>0</td>\n",
       "      <td>-0.000372</td>\n",
       "    </tr>\n",
       "    <tr>\n",
       "      <th>3</th>\n",
       "      <td>buildings</td>\n",
       "      <td>3</td>\n",
       "      <td>False</td>\n",
       "      <td>0.0</td>\n",
       "      <td>0.0</td>\n",
       "      <td>0.0</td>\n",
       "      <td>0.0</td>\n",
       "      <td>0.0</td>\n",
       "      <td>0.0</td>\n",
       "      <td>0.000000</td>\n",
       "      <td>...</td>\n",
       "      <td>0</td>\n",
       "      <td>0</td>\n",
       "      <td>0</td>\n",
       "      <td>0</td>\n",
       "      <td>0</td>\n",
       "      <td>0</td>\n",
       "      <td>0</td>\n",
       "      <td>0</td>\n",
       "      <td>0</td>\n",
       "      <td>0.004919</td>\n",
       "    </tr>\n",
       "    <tr>\n",
       "      <th>4</th>\n",
       "      <td>buildings</td>\n",
       "      <td>4</td>\n",
       "      <td>False</td>\n",
       "      <td>0.0</td>\n",
       "      <td>0.0</td>\n",
       "      <td>0.0</td>\n",
       "      <td>0.0</td>\n",
       "      <td>0.0</td>\n",
       "      <td>0.0</td>\n",
       "      <td>0.000000</td>\n",
       "      <td>...</td>\n",
       "      <td>0</td>\n",
       "      <td>0</td>\n",
       "      <td>0</td>\n",
       "      <td>0</td>\n",
       "      <td>0</td>\n",
       "      <td>0</td>\n",
       "      <td>0</td>\n",
       "      <td>0</td>\n",
       "      <td>0</td>\n",
       "      <td>0.031183</td>\n",
       "    </tr>\n",
       "  </tbody>\n",
       "</table>\n",
       "<p>5 rows × 37 columns</p>\n",
       "</div>"
      ],
      "text/plain": [
       "     landuse  block_id  is_living  current_population  floors  \\\n",
       "0  buildings         0      False                 0.0     0.0   \n",
       "1  buildings         1      False                 0.0     0.0   \n",
       "2  buildings         2      False                 0.0     0.0   \n",
       "3  buildings         3      False                 0.0     0.0   \n",
       "4  buildings         4      False                 0.0     0.0   \n",
       "\n",
       "   current_living_area  current_green_capacity  current_green_area  \\\n",
       "0                  0.0                     0.0                 0.0   \n",
       "1                  0.0                     0.0                 0.0   \n",
       "2                  0.0                     0.0                 0.0   \n",
       "3                  0.0                     0.0                 0.0   \n",
       "4                  0.0                     0.0                 0.0   \n",
       "\n",
       "   current_parking_capacity  current_industrial_area  ...  \\\n",
       "0                       0.0                 0.000000  ...   \n",
       "1                       0.0                 0.000000  ...   \n",
       "2                       0.0                 0.004264  ...   \n",
       "3                       0.0                 0.000000  ...   \n",
       "4                       0.0                 0.000000  ...   \n",
       "\n",
       "   weakly_prov_hospitals  provision_pharmacies  population_prov_pharmacies  \\\n",
       "0                      0                     0                           0   \n",
       "1                      0                     0                           0   \n",
       "2                      0                     0                           0   \n",
       "3                      0                     0                           0   \n",
       "4                      0                     0                           0   \n",
       "\n",
       "   population_unprov_pharmacies  weakly_prov_pharmacies  \\\n",
       "0                             0                       0   \n",
       "1                             0                       0   \n",
       "2                             0                       0   \n",
       "3                             0                       0   \n",
       "4                             0                       0   \n",
       "\n",
       "   provision_policlinics  population_prov_policlinics  \\\n",
       "0                      0                            0   \n",
       "1                      0                            0   \n",
       "2                      0                            0   \n",
       "3                      0                            0   \n",
       "4                      0                            0   \n",
       "\n",
       "   population_unprov_policlinics  weakly_prov_policlinics  free_area  \n",
       "0                              0                        0   0.003290  \n",
       "1                              0                        0   0.012978  \n",
       "2                              0                        0  -0.000372  \n",
       "3                              0                        0   0.004919  \n",
       "4                              0                        0   0.031183  \n",
       "\n",
       "[5 rows x 37 columns]"
      ]
     },
     "execution_count": 12,
     "metadata": {},
     "output_type": "execute_result"
    }
   ],
   "source": [
    "df = read_df(services_prov)\n",
    "df.head()"
   ]
  },
  {
   "cell_type": "code",
   "execution_count": 13,
   "metadata": {
    "collapsed": false,
    "pycharm": {
     "name": "#%%\n"
    }
   },
   "outputs": [],
   "source": [
    "upd = {}\n",
    "for i, id in enumerate(df['block_id']):\n",
    "    upd[i] = {'block_id': id, 'pharmacies_capacity': 500, 'is_pharmacies_service': 1}"
   ]
  },
  {
   "cell_type": "code",
   "execution_count": 14,
   "metadata": {
    "collapsed": false,
    "pycharm": {
     "name": "#%%\n"
    }
   },
   "outputs": [
    {
     "name": "stdout",
     "output_type": "stream",
     "text": [
      "total load = 24945\n",
      "total capacity = 31356\n",
      "fin\n",
      " load = 0\n",
      " cap = 6411\n",
      "total load = 12650\n",
      "total capacity = 10459\n",
      "fin\n",
      " load = 2191\n",
      " cap = 0\n",
      "total load = 12443\n",
      "total capacity = 13056\n",
      "fin\n",
      " load = 0\n",
      " cap = 613\n",
      "total load = 1813\n",
      "total capacity = 15789\n",
      "fin\n",
      " load = 0\n",
      " cap = 13976\n",
      "total load = 10357\n",
      "total capacity = 690442\n",
      "fin\n",
      " load = 0\n",
      " cap = 680085\n",
      "total load = 5565\n",
      "total capacity = 24665\n",
      "fin\n",
      " load = 0\n",
      " cap = 19100\n"
     ]
    }
   ],
   "source": [
    "graph_base = city_model.services_graph.copy()\n",
    "graph = graph_base.copy()\n",
    "\n",
    "for updated_block in upd.values():\n",
    "    if updated_block['block_id'] in graph.nodes:\n",
    "        for attr_name, attr_value in updated_block.items():\n",
    "            if attr_name in graph.nodes[updated_block['block_id']]:\n",
    "                graph.nodes[updated_block['block_id']][attr_name] += attr_value\n",
    "\n",
    "city_model.services_graph = graph\n",
    "\n",
    "services_prov = {}\n",
    "for service_type in services.keys():\n",
    "    provision = ProvisionModel(city_model=city_model, service_name=service_type)\n",
    "    temp = provision.run(overflow=True)\n",
    "    services_prov[service_type] = temp\n",
    "\n",
    "city_model.services_graph = graph_base"
   ]
  },
  {
   "cell_type": "code",
   "execution_count": 15,
   "metadata": {
    "collapsed": false,
    "pycharm": {
     "name": "#%%\n"
    }
   },
   "outputs": [
    {
     "data": {
      "text/plain": [
       "0.748345193231789"
      ]
     },
     "execution_count": 15,
     "metadata": {},
     "output_type": "execute_result"
    }
   ],
   "source": [
    "res = []\n",
    "for k,v in scenario.items():\n",
    "    res.append(v*((services_prov[k]['population_prov_' + k]/\n",
    "    (services_prov[k]['population_prov_' + k] +\n",
    "    services_prov[k]['population_unprov_' + k])).mean()))\n",
    "sum(res)"
   ]
  },
  {
   "cell_type": "code",
   "execution_count": null,
   "metadata": {
    "collapsed": false,
    "pycharm": {
     "name": "#%%\n"
    }
   },
   "outputs": [
    {
     "data": {
      "text/plain": [
       "[0.25, 0.244, 0.24907908713597207, 0.20275590551181102]"
      ]
     },
     "execution_count": 38,
     "metadata": {},
     "output_type": "execute_result"
    }
   ],
   "source": [
    "res"
   ]
  },
  {
   "cell_type": "code",
   "execution_count": 22,
   "metadata": {},
   "outputs": [],
   "source": [
    "city_model.services_graph = graph_base"
   ]
  },
  {
   "cell_type": "code",
   "execution_count": null,
   "metadata": {
    "collapsed": false,
    "pycharm": {
     "name": "#%%\n"
    }
   },
   "outputs": [],
   "source": []
  },
  {
   "cell_type": "code",
   "execution_count": null,
   "metadata": {
    "collapsed": false,
    "pycharm": {
     "name": "#%%\n"
    }
   },
   "outputs": [],
   "source": []
  },
  {
   "cell_type": "code",
   "execution_count": 66,
   "metadata": {
    "collapsed": false,
    "pycharm": {
     "name": "#%%\n"
    }
   },
   "outputs": [],
   "source": [
    "df = read_df(services_prov)"
   ]
  },
  {
   "cell_type": "code",
   "execution_count": 67,
   "metadata": {
    "collapsed": false,
    "pycharm": {
     "name": "#%%\n"
    }
   },
   "outputs": [
    {
     "data": {
      "text/plain": [
       "(1360, 31)"
      ]
     },
     "execution_count": 67,
     "metadata": {},
     "output_type": "execute_result"
    }
   ],
   "source": [
    "df.shape"
   ]
  },
  {
   "cell_type": "code",
   "execution_count": 9,
   "metadata": {
    "collapsed": false,
    "pycharm": {
     "name": "#%%\n"
    }
   },
   "outputs": [],
   "source": [
    "def flatten_dict(services, scenario):\n",
    "    services_dict = {}\n",
    "    for k,v in services.items():\n",
    "        if k not in scenario:\n",
    "            continue\n",
    "        for kk,vv in v.items():\n",
    "            services_dict[k+'_'+str(kk)] = vv\n",
    "    services_df = pd.DataFrame([services_dict]).T\n",
    "    return services_dict, services_df"
   ]
  },
  {
   "cell_type": "code",
   "execution_count": 10,
   "metadata": {
    "collapsed": false,
    "pycharm": {
     "name": "#%%\n"
    }
   },
   "outputs": [],
   "source": [
    "import itertools\n",
    "\n",
    "def combo(services_dict):\n",
    "    comb = [list(itertools.combinations(list(services_dict.keys()), i)) for i in range(1, 4)]\n",
    "    return [item for sublist in comb for item in sublist]\n"
   ]
  },
  {
   "cell_type": "code",
   "execution_count": 11,
   "metadata": {
    "collapsed": false,
    "pycharm": {
     "name": "#%%\n"
    }
   },
   "outputs": [],
   "source": [
    "def df_update_variants(df, comb_weights):\n",
    "    df['variants'] = df['free_area'].apply(lambda x: [i for i,com in enumerate(comb_weights) if com<=x])"
   ]
  },
  {
   "cell_type": "code",
   "execution_count": 52,
   "metadata": {
    "collapsed": false,
    "pycharm": {
     "name": "#%%\n"
    }
   },
   "outputs": [
    {
     "data": {
      "text/plain": [
       "[0.25, 0.244, 0.24671197269773562, 0.19588255120102097]"
      ]
     },
     "execution_count": 52,
     "metadata": {},
     "output_type": "execute_result"
    }
   ],
   "source": [
    "res"
   ]
  },
  {
   "cell_type": "code",
   "execution_count": 20,
   "metadata": {
    "collapsed": false,
    "pycharm": {
     "name": "#%%\n"
    }
   },
   "outputs": [],
   "source": [
    "df = read_df(services_prov)\n",
    "df = df[df['landuse']!='no_dev_area']"
   ]
  },
  {
   "cell_type": "code",
   "execution_count": 21,
   "metadata": {
    "collapsed": false,
    "pycharm": {
     "name": "#%%\n"
    }
   },
   "outputs": [],
   "source": [
    "scenario_services = {k:v for k,v in services.items() if k in list(scenario.keys())}\n",
    "services_dict, services_df = flatten_dict(scenario_services, list(scenario.keys()))"
   ]
  },
  {
   "cell_type": "code",
   "execution_count": 22,
   "metadata": {
    "collapsed": false,
    "pycharm": {
     "name": "#%%\n"
    }
   },
   "outputs": [],
   "source": [
    "comb = combo(services_dict)\n",
    "\n",
    "comb_w = []\n",
    "for comb_ in comb:\n",
    "    comb_w.append(services_df.loc[list(comb_)].sum()[0])"
   ]
  },
  {
   "cell_type": "code",
   "execution_count": 23,
   "metadata": {
    "collapsed": false,
    "pycharm": {
     "name": "#%%\n"
    }
   },
   "outputs": [],
   "source": [
    "df_update_variants(df, comb_w)"
   ]
  },
  {
   "cell_type": "code",
   "execution_count": 24,
   "metadata": {
    "collapsed": false,
    "pycharm": {
     "name": "#%%\n"
    }
   },
   "outputs": [],
   "source": [
    "df = df[df['variants'].apply(lambda x: len(x))!=0]"
   ]
  },
  {
   "cell_type": "code",
   "execution_count": 25,
   "metadata": {
    "collapsed": false,
    "pycharm": {
     "name": "#%%\n"
    }
   },
   "outputs": [
    {
     "data": {
      "text/html": [
       "<div>\n",
       "<style scoped>\n",
       "    .dataframe tbody tr th:only-of-type {\n",
       "        vertical-align: middle;\n",
       "    }\n",
       "\n",
       "    .dataframe tbody tr th {\n",
       "        vertical-align: top;\n",
       "    }\n",
       "\n",
       "    .dataframe thead th {\n",
       "        text-align: right;\n",
       "    }\n",
       "</style>\n",
       "<table border=\"1\" class=\"dataframe\">\n",
       "  <thead>\n",
       "    <tr style=\"text-align: right;\">\n",
       "      <th></th>\n",
       "      <th>landuse</th>\n",
       "      <th>block_id</th>\n",
       "      <th>is_living</th>\n",
       "      <th>current_population</th>\n",
       "      <th>floors</th>\n",
       "      <th>current_living_area</th>\n",
       "      <th>current_green_capacity</th>\n",
       "      <th>current_green_area</th>\n",
       "      <th>current_parking_capacity</th>\n",
       "      <th>current_industrial_area</th>\n",
       "      <th>...</th>\n",
       "      <th>population_prov_hospitals</th>\n",
       "      <th>population_unprov_hospitals</th>\n",
       "      <th>provision_pharmacies</th>\n",
       "      <th>population_prov_pharmacies</th>\n",
       "      <th>population_unprov_pharmacies</th>\n",
       "      <th>provision_policlinics</th>\n",
       "      <th>population_prov_policlinics</th>\n",
       "      <th>population_unprov_policlinics</th>\n",
       "      <th>free_area</th>\n",
       "      <th>variants</th>\n",
       "    </tr>\n",
       "  </thead>\n",
       "  <tbody>\n",
       "    <tr>\n",
       "      <th>1</th>\n",
       "      <td>buildings</td>\n",
       "      <td>1</td>\n",
       "      <td>False</td>\n",
       "      <td>0.0</td>\n",
       "      <td>0.0</td>\n",
       "      <td>0.0</td>\n",
       "      <td>0.0</td>\n",
       "      <td>0.0</td>\n",
       "      <td>0.0</td>\n",
       "      <td>0.0</td>\n",
       "      <td>...</td>\n",
       "      <td>0</td>\n",
       "      <td>0</td>\n",
       "      <td>0</td>\n",
       "      <td>0</td>\n",
       "      <td>0</td>\n",
       "      <td>0</td>\n",
       "      <td>0</td>\n",
       "      <td>0</td>\n",
       "      <td>0.012978</td>\n",
       "      <td>[1]</td>\n",
       "    </tr>\n",
       "    <tr>\n",
       "      <th>4</th>\n",
       "      <td>buildings</td>\n",
       "      <td>4</td>\n",
       "      <td>False</td>\n",
       "      <td>0.0</td>\n",
       "      <td>0.0</td>\n",
       "      <td>0.0</td>\n",
       "      <td>0.0</td>\n",
       "      <td>0.0</td>\n",
       "      <td>0.0</td>\n",
       "      <td>0.0</td>\n",
       "      <td>...</td>\n",
       "      <td>0</td>\n",
       "      <td>0</td>\n",
       "      <td>0</td>\n",
       "      <td>0</td>\n",
       "      <td>0</td>\n",
       "      <td>0</td>\n",
       "      <td>0</td>\n",
       "      <td>0</td>\n",
       "      <td>0.031183</td>\n",
       "      <td>[1]</td>\n",
       "    </tr>\n",
       "    <tr>\n",
       "      <th>6</th>\n",
       "      <td>buildings</td>\n",
       "      <td>6</td>\n",
       "      <td>False</td>\n",
       "      <td>0.0</td>\n",
       "      <td>0.0</td>\n",
       "      <td>0.0</td>\n",
       "      <td>0.0</td>\n",
       "      <td>0.0</td>\n",
       "      <td>0.0</td>\n",
       "      <td>0.0</td>\n",
       "      <td>...</td>\n",
       "      <td>0</td>\n",
       "      <td>0</td>\n",
       "      <td>0</td>\n",
       "      <td>0</td>\n",
       "      <td>0</td>\n",
       "      <td>0</td>\n",
       "      <td>0</td>\n",
       "      <td>0</td>\n",
       "      <td>0.183895</td>\n",
       "      <td>[0, 1, 9]</td>\n",
       "    </tr>\n",
       "    <tr>\n",
       "      <th>7</th>\n",
       "      <td>buildings</td>\n",
       "      <td>7</td>\n",
       "      <td>False</td>\n",
       "      <td>0.0</td>\n",
       "      <td>0.0</td>\n",
       "      <td>0.0</td>\n",
       "      <td>0.0</td>\n",
       "      <td>0.0</td>\n",
       "      <td>0.0</td>\n",
       "      <td>0.0</td>\n",
       "      <td>...</td>\n",
       "      <td>0</td>\n",
       "      <td>0</td>\n",
       "      <td>0</td>\n",
       "      <td>0</td>\n",
       "      <td>0</td>\n",
       "      <td>0</td>\n",
       "      <td>0</td>\n",
       "      <td>0</td>\n",
       "      <td>0.008738</td>\n",
       "      <td>[1]</td>\n",
       "    </tr>\n",
       "    <tr>\n",
       "      <th>9</th>\n",
       "      <td>buildings</td>\n",
       "      <td>9</td>\n",
       "      <td>False</td>\n",
       "      <td>0.0</td>\n",
       "      <td>0.0</td>\n",
       "      <td>0.0</td>\n",
       "      <td>0.0</td>\n",
       "      <td>0.0</td>\n",
       "      <td>0.0</td>\n",
       "      <td>0.0</td>\n",
       "      <td>...</td>\n",
       "      <td>0</td>\n",
       "      <td>0</td>\n",
       "      <td>0</td>\n",
       "      <td>0</td>\n",
       "      <td>0</td>\n",
       "      <td>0</td>\n",
       "      <td>0</td>\n",
       "      <td>0</td>\n",
       "      <td>0.039372</td>\n",
       "      <td>[1]</td>\n",
       "    </tr>\n",
       "  </tbody>\n",
       "</table>\n",
       "<p>5 rows × 32 columns</p>\n",
       "</div>"
      ],
      "text/plain": [
       "     landuse  block_id  is_living  current_population  floors  \\\n",
       "1  buildings         1      False                 0.0     0.0   \n",
       "4  buildings         4      False                 0.0     0.0   \n",
       "6  buildings         6      False                 0.0     0.0   \n",
       "7  buildings         7      False                 0.0     0.0   \n",
       "9  buildings         9      False                 0.0     0.0   \n",
       "\n",
       "   current_living_area  current_green_capacity  current_green_area  \\\n",
       "1                  0.0                     0.0                 0.0   \n",
       "4                  0.0                     0.0                 0.0   \n",
       "6                  0.0                     0.0                 0.0   \n",
       "7                  0.0                     0.0                 0.0   \n",
       "9                  0.0                     0.0                 0.0   \n",
       "\n",
       "   current_parking_capacity  current_industrial_area  ...  \\\n",
       "1                       0.0                      0.0  ...   \n",
       "4                       0.0                      0.0  ...   \n",
       "6                       0.0                      0.0  ...   \n",
       "7                       0.0                      0.0  ...   \n",
       "9                       0.0                      0.0  ...   \n",
       "\n",
       "   population_prov_hospitals  population_unprov_hospitals  \\\n",
       "1                          0                            0   \n",
       "4                          0                            0   \n",
       "6                          0                            0   \n",
       "7                          0                            0   \n",
       "9                          0                            0   \n",
       "\n",
       "   provision_pharmacies  population_prov_pharmacies  \\\n",
       "1                     0                           0   \n",
       "4                     0                           0   \n",
       "6                     0                           0   \n",
       "7                     0                           0   \n",
       "9                     0                           0   \n",
       "\n",
       "   population_unprov_pharmacies  provision_policlinics  \\\n",
       "1                             0                      0   \n",
       "4                             0                      0   \n",
       "6                             0                      0   \n",
       "7                             0                      0   \n",
       "9                             0                      0   \n",
       "\n",
       "   population_prov_policlinics  population_unprov_policlinics  free_area  \\\n",
       "1                            0                              0   0.012978   \n",
       "4                            0                              0   0.031183   \n",
       "6                            0                              0   0.183895   \n",
       "7                            0                              0   0.008738   \n",
       "9                            0                              0   0.039372   \n",
       "\n",
       "    variants  \n",
       "1        [1]  \n",
       "4        [1]  \n",
       "6  [0, 1, 9]  \n",
       "7        [1]  \n",
       "9        [1]  \n",
       "\n",
       "[5 rows x 32 columns]"
      ]
     },
     "execution_count": 25,
     "metadata": {},
     "output_type": "execute_result"
    }
   ],
   "source": [
    "df.head()"
   ]
  },
  {
   "cell_type": "code",
   "execution_count": 26,
   "metadata": {
    "collapsed": false,
    "pycharm": {
     "name": "#%%\n"
    }
   },
   "outputs": [],
   "source": [
    "total_vars = list(set([item for sublist in df['variants'].tolist() for item in sublist]))\n",
    "variants = pd.DataFrame(columns=list(scenario.keys()), index=range(len(total_vars))).fillna(0)\n",
    "for i,_ in enumerate(comb):\n",
    "    for el in [x.rsplit('_', maxsplit=1) for x in _]:\n",
    "        variants.loc[i, el[0]] += int(el[1])"
   ]
  },
  {
   "cell_type": "code",
   "execution_count": 62,
   "metadata": {
    "collapsed": false,
    "pycharm": {
     "name": "#%%\n"
    }
   },
   "outputs": [],
   "source": [
    "blocks = np.zeros(df.shape[0])\n",
    "blocks_for_change = np.random.randint(0, df.shape[0], 10)\n",
    "change_variants = np.random.randint(0, variants.shape[0], 10)\n",
    "blocks[blocks_for_change] = change_variants"
   ]
  },
  {
   "cell_type": "code",
   "execution_count": 63,
   "metadata": {
    "collapsed": false,
    "pycharm": {
     "name": "#%%\n"
    }
   },
   "outputs": [],
   "source": [
    "ids = blocks.nonzero()[0]\n",
    "vars_ = blocks[ids]\n",
    "temp1 = df.iloc[ids][['block_id', 'population']].reset_index(drop=True)\n",
    "temp2 = variants.iloc[vars_].reset_index(drop=True)\n",
    "\n",
    "updated_blocks = pd.concat([temp1, temp2.add_suffix('_capacity')], axis=1).to_dict('index')"
   ]
  },
  {
   "cell_type": "code",
   "execution_count": 56,
   "metadata": {
    "collapsed": false,
    "pycharm": {
     "name": "#%%\n"
    }
   },
   "outputs": [],
   "source": [
    "graph_base = city_model.services_graph.copy()\n",
    "\n",
    "def fitness_func(ga_instance, blocks, solution_idx):\n",
    "    ids = blocks.nonzero()[0]\n",
    "    vars_ = blocks[ids]\n",
    "    temp1 = df.iloc[ids][['block_id', 'population']].reset_index(drop=True)\n",
    "    temp2 = variants.iloc[vars_].reset_index(drop=True)\n",
    "\n",
    "    updated_blocks = pd.concat([temp1, temp2.add_suffix('_capacity')], axis=1).to_dict('index')\n",
    "\n",
    "    graph = graph_base.copy()\n",
    "\n",
    "    for updated_block in updated_blocks.values():\n",
    "        if updated_block['block_id'] in graph.nodes:\n",
    "            for attr_name, attr_value in updated_block.items():\n",
    "                if attr_name in graph.nodes[updated_block['block_id']]:\n",
    "                    graph.nodes[updated_block['block_id']][attr_name] += attr_value\n",
    "\n",
    "    city_model.services_graph = graph\n",
    "\n",
    "    services_prov = {}\n",
    "    for service_type in list(scenario.keys()):\n",
    "        provision = ProvisionModel(city_model=city_model, service_name=service_type)\n",
    "        temp = provision.run()\n",
    "        temp = temp[temp['population']!=0][['population_prov_' + service_type, 'population_unprov_' + service_type]]\n",
    "        services_prov[service_type] = temp\n",
    "\n",
    "    res = []\n",
    "    for k,v in scenario.items():\n",
    "        res.append(v*((services_prov[k]['population_prov_' + k]/\n",
    "         (services_prov[k]['population_prov_' + k] +\n",
    "          services_prov[k]['population_unprov_' + k])).mean()))\n",
    "\n",
    "    fitness = sum(res)\n",
    "    print(res)\n",
    "\n",
    "    city_model.services_graph = graph_base\n",
    "\n",
    "    return fitness"
   ]
  },
  {
   "cell_type": "code",
   "execution_count": 57,
   "metadata": {
    "collapsed": false,
    "pycharm": {
     "name": "#%%\n"
    }
   },
   "outputs": [
    {
     "name": "stdout",
     "output_type": "stream",
     "text": [
      "[0.25, 0.244, 0.24674890499789254, 0.19392954729501316]\n",
      "CPU times: total: 34.7 s\n",
      "Wall time: 34.9 s\n"
     ]
    },
    {
     "data": {
      "text/plain": [
       "0.9346784522929057"
      ]
     },
     "execution_count": 57,
     "metadata": {},
     "output_type": "execute_result"
    }
   ],
   "source": [
    "%%time\n",
    "fitness_func(None, blocks, None)"
   ]
  },
  {
   "cell_type": "code",
   "execution_count": 58,
   "metadata": {
    "collapsed": false,
    "pycharm": {
     "name": "#%%\n"
    }
   },
   "outputs": [
    {
     "data": {
      "text/plain": [
       "array([  0.,  37.,   0.,   0.,   0.,   0.,  30.,   0.,   0.,   0.,   0.,\n",
       "         0.,   0.,   0.,   0.,   0.,   0.,   0.,   0.,   0.,   0.,   0.,\n",
       "         0.,  34.,  13.,   0.,  34.,  44.,   0.,   0.,   0.,   0.,   0.,\n",
       "        12.,   0.,   0.,   0.,  84.,   0., 101.,   0.,   0.,   0.,   0.,\n",
       "         0.,   0.,  14.,   0.,   0.,   0.,  35.,   0., 104.,   0.,   0.,\n",
       "         0.,   7.,   0.,   0.,  17.,   0., 107.,   0.,   0.,   0.,  93.,\n",
       "         0.,  92.,   0.,   0.,   0.,   0.,   0.,   0.,   0.,   0.,   0.,\n",
       "         0.,   0.,   0., 114.,   0., 102.,   0.,   0.,   0.,   0.,   0.,\n",
       "        80.,   0.,   0.,   0.,   0.,   0.,   0.,   0.,   0.,   0.,  27.,\n",
       "        80.,   0.,   0.,  24.,   0.,   0.,  33.,   1.,   0.,   0.,   0.,\n",
       "         0.,   0.,   0.,   0.,   0.,   0.,   0.,   0.,   0.,   0.,   0.,\n",
       "         0.,   0.,   0.,  92.,  81.,   0.,   0.,   0.,  29.,   0.,   0.,\n",
       "         0.,  45.,   0.,   0.,   0.,   0.,   0.,   0.,   0.,   0.,   0.,\n",
       "         0.,   0.,   0.,   0.,   0.,   6.,  38.,   0.,   0.,   0.,   0.,\n",
       "        42.,   0.,   0.,   0., 123.,  71.,   0.,  61.,   0.,   0.,   0.,\n",
       "         0.,  14.,   0.,   0.,  26.,   0.,   0.,   0.,   0.,   0.,  11.,\n",
       "         0.,   0.,   0.,   0.,   0.,   0.,   0.,   0.,   0.,   0.,   0.,\n",
       "         0.,   0., 102.,  52.,   0.,  99.,   0.,   0.,   0.,  30.,   5.,\n",
       "         0.,   0.,   0.,   0.,   0.,   0.,   0.,   0.,   0.,   0.,   0.,\n",
       "         0.,   0.,   0.,  64.,   0.,   0.,   0.,  35.,   0.,  34.,   0.,\n",
       "         0.,   0., 110.,   0.,   0.,   0.,   0.,   0.,   0.,   0.,   0.,\n",
       "         0.,   0., 110.,   0.,  59.,   0.,   0.,   0., 115.,   0.,   0.,\n",
       "         0.,   0.,   0.,   0.,   0.,   0.,   0.,   0.,   0.,  78.,   0.,\n",
       "         0.,  35.,   0.,   0.,   0.,   0., 112.,   0.,   0.,   6.,   0.,\n",
       "        51.,   0.,   0.,   0.,   0.,  80.,   0.,  11.,   0.,   0.,   0.,\n",
       "        86.,   0.,   0.,   0.,   0.,   0.,   0.,   0.,   0.,   0.,   0.,\n",
       "         0.,   0.,   0.,   0.,  38.,   0.,  15.,  72.,   0.,   0.,   0.,\n",
       "         0.,   0.,   0.,   0., 111.,   0.,  70.,  59.,   0.,   0.,   0.,\n",
       "        65.,  18.,   0.,  89.,   0.,   0.,   0.,   0.,   0.,   0.,   0.,\n",
       "         0.,  39.,   0.,   0.,   0.,   0., 116.,   0., 116.,   0.,   0.,\n",
       "         0.,   0.,   0.,   0.,  60.,   0., 121.,   0.,   0.,   0.,   0.,\n",
       "         0., 115.,   0.,  25., 112.,  43.,  71.,   0.,   0.,   0.,   0.,\n",
       "         0.,   0.,   0.,   0.,   0.,   0.,   0.,   0.,   0.,   0.,   0.,\n",
       "         0.,  89.,   0.,   0.,   0.,   0.,   0.,   0.,   0.,   0.,   8.,\n",
       "         0.,  73.,   0.,   0.,   0.,   0.,  58.,  83.,   0., 124.,   0.,\n",
       "         0.,  15.,   0.,   0.,   0., 115.,   0.,   0.,   0.,   0.,   0.,\n",
       "         0.,   0.,   0.,   0.,   0.,   0.,   0.,   0.,   0.,   0.,   0.,\n",
       "         0.,   9.,   0.,   0.,   0.,  51.,   0.,   0.])"
      ]
     },
     "execution_count": 58,
     "metadata": {},
     "output_type": "execute_result"
    }
   ],
   "source": [
    "blocks"
   ]
  },
  {
   "cell_type": "code",
   "execution_count": 21,
   "metadata": {
    "collapsed": false,
    "pycharm": {
     "name": "#%%\n"
    }
   },
   "outputs": [],
   "source": []
  },
  {
   "cell_type": "code",
   "execution_count": 21,
   "metadata": {
    "collapsed": false,
    "pycharm": {
     "name": "#%%\n"
    }
   },
   "outputs": [],
   "source": []
  },
  {
   "cell_type": "code",
   "execution_count": 22,
   "metadata": {
    "collapsed": false,
    "pycharm": {
     "name": "#%%\n"
    }
   },
   "outputs": [],
   "source": [
    "df['len_variants'] = df['variants'].apply(lambda x: len(x))"
   ]
  },
  {
   "cell_type": "code",
   "execution_count": 23,
   "metadata": {
    "collapsed": false,
    "pycharm": {
     "name": "#%%\n"
    }
   },
   "outputs": [],
   "source": [
    "import pygad"
   ]
  },
  {
   "cell_type": "code",
   "execution_count": 24,
   "metadata": {
    "collapsed": false,
    "pycharm": {
     "name": "#%%\n"
    }
   },
   "outputs": [],
   "source": [
    "ga_instance = pygad.GA(num_generations=3,\n",
    "                       num_parents_mating=6,\n",
    "\n",
    "                       fitness_func=fitness_func,\n",
    "\n",
    "                       sol_per_pop=6,\n",
    "                       num_genes=df[df['len_variants']!=0].reset_index(drop=True).shape[0],\n",
    "                       gene_space=df[df['len_variants']!=0].reset_index(drop=True)['variants'].tolist(),\n",
    "                       gene_type=int,\n",
    "\n",
    "                       mutation_type='adaptive',\n",
    "                       mutation_percent_genes=(90, 10),\n",
    "\n",
    "                       # on_crossover = on_crossover,\n",
    "                       crossover_type='scattered',\n",
    "\n",
    "                       parent_selection_type='tournament',\n",
    "                       K_tournament=3,\n",
    "\n",
    "                       stop_criteria='saturate_50',\n",
    "                       parallel_processing=12)"
   ]
  },
  {
   "cell_type": "code",
   "execution_count": 25,
   "metadata": {
    "collapsed": false,
    "pycharm": {
     "name": "#%%\n"
    }
   },
   "outputs": [],
   "source": [
    "# ga_instance.plot_fitness()"
   ]
  },
  {
   "cell_type": "code",
   "execution_count": null,
   "metadata": {
    "collapsed": false,
    "pycharm": {
     "name": "#%%\n"
    }
   },
   "outputs": [],
   "source": [
    "solution = ga_instance.best_solution()[0]"
   ]
  },
  {
   "cell_type": "code",
   "execution_count": null,
   "metadata": {
    "collapsed": false,
    "pycharm": {
     "name": "#%%\n"
    }
   },
   "outputs": [],
   "source": [
    "updated_block_dict = {}\n",
    "\n",
    "for i, block_id in enumerate(solution.nonzero()[0]):\n",
    "    updated_block = {\n",
    "        'block_id': df.loc[block_id]['block_id'],\n",
    "        'population': df.loc[block_id]['population']}\n",
    "    for k,v in variants.loc[solution[block_id]].to_dict().items():\n",
    "        updated_block[k+'_capacity'] = v\n",
    "\n",
    "    updated_block_dict[i] = updated_block"
   ]
  },
  {
   "cell_type": "code",
   "execution_count": null,
   "metadata": {
    "collapsed": false,
    "pycharm": {
     "name": "#%%\n"
    }
   },
   "outputs": [],
   "source": []
  },
  {
   "cell_type": "code",
   "execution_count": null,
   "metadata": {
    "collapsed": false,
    "pycharm": {
     "name": "#%%\n"
    }
   },
   "outputs": [],
   "source": []
  },
  {
   "cell_type": "code",
   "execution_count": null,
   "metadata": {
    "collapsed": false,
    "pycharm": {
     "name": "#%%\n"
    }
   },
   "outputs": [],
   "source": []
  }
 ],
 "metadata": {
  "kernelspec": {
   "display_name": "Python 3.10.11 ('env': venv)",
   "language": "python",
   "name": "python3"
  },
  "language_info": {
   "codemirror_mode": {
    "name": "ipython",
    "version": 3
   },
   "file_extension": ".py",
   "mimetype": "text/x-python",
   "name": "python",
   "nbconvert_exporter": "python",
   "pygments_lexer": "ipython3",
   "version": "3.10.11"
  },
  "vscode": {
   "interpreter": {
    "hash": "f70a709ce57d6d06b01efef477234eb411a810fd126907ce80c0bf8d4ea2db52"
   }
  }
 },
 "nbformat": 4,
 "nbformat_minor": 0
}
