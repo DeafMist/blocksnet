{
 "cells": [
  {
   "cell_type": "code",
   "execution_count": null,
   "metadata": {
    "collapsed": false,
    "pycharm": {
     "name": "#%%\n"
    }
   },
   "outputs": [],
   "source": [
    "import os\n",
    "import sys\n",
    "from pathlib import Path\n",
    "project_dir = Path().resolve().parent.parent\n",
    "sys.path.append(str(project_dir))\n",
    "\n",
    "\n",
    "os.environ['USE_PYGEOS'] = os.environ.get('USE_PYGEOS', '0')\n",
    "\n",
    "import geopandas as gpd\n",
    "import matplotlib.pyplot as plt\n",
    "import networkx as nx\n",
    "import pandas as pd\n",
    "from IPython.display import Markdown\n",
    "\n",
    "from masterplan_tools.method import MasterPlan\n",
    "from masterplan_tools.method.provision import ProvisionModel\n",
    "from masterplan_tools.models import CityModel\n",
    "from masterplan_tools.preprocessing import DataGetter\n",
    "\n",
    "\n",
    "\n",
    "def pandas_to_markdown(df_or_series: pd.DataFrame | pd.Series, value_name: str | None = None) -> Markdown:\n",
    "    if isinstance(df_or_series, pd.DataFrame):\n",
    "        return Markdown(\n",
    "            \"\\n\".join(\n",
    "                (\n",
    "                    f\"| {' | '.join(column for column in df_or_series.columns)} |\",\n",
    "                    f\"| {' | '.join(('---',) * df_or_series.shape[1])} |\",\n",
    "                    \"\\n\".join(\n",
    "                        f\"| {' | '.join(str(value) for value in values)} |\" for _, values in df_or_series.iterrows()\n",
    "                    ),\n",
    "                )\n",
    "            )\n",
    "        )\n",
    "    elif isinstance(df_or_series, pd.Series):\n",
    "        if value_name is None:\n",
    "            value_name = \"value\"\n",
    "        return Markdown(\n",
    "            \"\\n\".join(\n",
    "                (\n",
    "                    f\"| {df_or_series.name} | {value_name} |\",\n",
    "                    \"| --- | --- |\",\n",
    "                    \"\\n\".join(f\"| {key} | {round(value)} |\" for key, value in df_or_series.items()),\n",
    "                )\n",
    "            )\n",
    "        )\n",
    "    raise ValueError(f\"'{df_or_series}' is neither DataFrame nor Series\")"
   ]
  },
  {
   "cell_type": "code",
   "execution_count": null,
   "metadata": {
    "collapsed": false,
    "pycharm": {
     "name": "#%%\n"
    }
   },
   "outputs": [],
   "source": [
    "# path to data\n",
    "example_data_path = \"./data\"\n",
    "# TODO: upload example data somewhere and download it in script\n",
    "\n",
    "\n",
    "# load data required for blocks creation\n",
    "city_geometry = gpd.read_parquet(os.path.join(example_data_path, \"city_geometry.parquet\"))\n",
    "water_geometry = gpd.read_parquet(os.path.join(example_data_path, \"water_geometry.parquet\"))\n",
    "roads_geometry = gpd.read_parquet(os.path.join(example_data_path, \"roads_geometry.parquet\"))\n",
    "railways_geometry = gpd.read_parquet(os.path.join(example_data_path, \"railways_geometry.parquet\"))\n",
    "nature_geometry_boundaries = gpd.read_parquet(os.path.join(example_data_path, \"nature_geometry_boundaries.parquet\"))\n",
    "\n",
    "# load data required for service graphs creation\n",
    "schools = gpd.read_parquet(os.path.join(example_data_path, \"schools.parquet\"))\n",
    "kindergartens = gpd.read_parquet(os.path.join(example_data_path, \"kindergartens.parquet\"))\n",
    "recreational_areas = gpd.read_parquet(os.path.join(example_data_path, \"recreational_areas.parquet\"))\n",
    "\n",
    "hospitals = gpd.read_file(os.path.join(example_data_path, \"hospitals.geojson\"))\n",
    "pharmacies = gpd.read_file(os.path.join(example_data_path, \"pharmacies.geojson\"))\n",
    "policlinics = gpd.read_file(os.path.join(example_data_path, \"policlinics.geojson\"))\n",
    "\n",
    "# load data required for\n",
    "buildings = gpd.read_parquet(os.path.join(example_data_path, \"buildings.parquet\"))\n",
    "greenings = gpd.read_parquet(os.path.join(example_data_path, \"greenings.parquet\"))\n",
    "parkings = gpd.read_parquet(os.path.join(example_data_path, \"parkings.parquet\"))\n",
    "\n",
    "\n",
    "transport_graph = nx.read_graphml(os.path.join(example_data_path, \"new_graph.graphml\"))\n",
    "\n",
    "# data loading with planning area\n",
    "polygon = gpd.read_file(os.path.join(example_data_path, \"polygon.geojson\"))"
   ]
  },
  {
   "cell_type": "code",
   "execution_count": null,
   "metadata": {
    "collapsed": false,
    "pycharm": {
     "name": "#%%\n"
    }
   },
   "outputs": [],
   "source": [
    "# services should be specified as a dictionary\n",
    "services = {\"schools\": schools, \"kindergartens\": kindergartens, \"recreational_areas\": recreational_areas,\n",
    "            \"hospitals\": hospitals, \"pharmacies\": pharmacies, \"policlinics\": policlinics}"
   ]
  },
  {
   "cell_type": "code",
   "execution_count": null,
   "metadata": {},
   "outputs": [],
   "source": [
    "local_crs = 32636\n",
    "\n",
    "no_development = gpd.read_file(os.path.join(example_data_path, \"no_development_pzz.geojson\"), mask=city_geometry.to_crs(4326)).to_crs(local_crs)\n",
    "no_development = no_development[no_development['RAYON']=='Василеостровский']\n",
    "landuse = gpd.read_file(os.path.join(example_data_path, \"landuse_zone_pzz.geojson\"), mask=city_geometry.to_crs(4326)).to_crs(local_crs)\n",
    "okn = gpd.read_file(os.path.join(example_data_path, \"petropavlovsraya_delete.geojson\"), mask=city_geometry.to_crs(4326)).to_crs(local_crs)"
   ]
  },
  {
   "cell_type": "code",
   "execution_count": null,
   "metadata": {},
   "outputs": [],
   "source": [
    "from masterplan_tools.method import BlocksCutter\n",
    "from masterplan_tools.method.blocks import BlocksCutterGeometries\n",
    "\n",
    "geoms = BlocksCutterGeometries(\n",
    "  city=city_geometry,\n",
    "  water=water_geometry,\n",
    "  roads=roads_geometry,\n",
    "  railways=railways_geometry,\n",
    "  nature=nature_geometry_boundaries, \n",
    "  no_dev=no_development,\n",
    "  landuse=landuse\n",
    ")\n",
    "blocks = BlocksCutter(geometries = geoms).get_blocks() "
   ]
  },
  {
   "cell_type": "code",
   "execution_count": null,
   "metadata": {},
   "outputs": [],
   "source": [
    "from masterplan_tools.method import LuFilter\n",
    "\"\"\"\n",
    "There are three landuse tags in the blocks gdf:\n",
    "    1. 'no_dev_area' -- according to th no_debelopment gdf and cutoff without any buildings or specified / selected landuse types;\n",
    "    2. 'selected_area' -- according to the landuse gdf. We separate theese polygons since they have specified landuse types;\n",
    "    3. 'buildings' -- there are polygons that have buildings landuse type. \n",
    "\n",
    "    In further calculations we will use the in the following steps:\n",
    "    Only 'buildings' -- to find clusters of buildings in big polygons;\n",
    "    All of them while calculating the accessibility times among city blocks;\n",
    "    All of them except 'no_dev_area' while optimizing the development of new facilities.\n",
    "\"\"\"\n",
    "blocks = LuFilter(blocks.to_gdf(), landuse_geometries = geoms).filter_lu()"
   ]
  },
  {
   "cell_type": "code",
   "execution_count": null,
   "metadata": {},
   "outputs": [],
   "source": [
    "from masterplan_tools.method.blocks.blocks_clustering import BlocksClusterization\n",
    "\n",
    "buildings_geom = gpd.read_file(os.path.join(example_data_path, \"buildings_blocks.geojson\"), mask=city_geometry.to_crs(4326)).to_crs(local_crs)\n",
    "blocks = BlocksClusterization(blocks, buildings_geom).run()"
   ]
  },
  {
   "cell_type": "code",
   "execution_count": null,
   "metadata": {},
   "outputs": [],
   "source": [
    "\n",
    "block_t = blocks\n",
    "block_t.reset_index(drop=True, inplace=True)\n",
    "block_t['id'] = block_t.index\n",
    "block_t['index'] = block_t['id']\n",
    "block_t.drop('landuse', axis=1, inplace=True)\n",
    "block_t.reset_index(drop=True, inplace=True)\n"
   ]
  },
  {
   "cell_type": "code",
   "execution_count": null,
   "metadata": {},
   "outputs": [],
   "source": [
    "# City data model creation\n",
    "city_model = CityModel(\n",
    "    services=services,\n",
    "    city_blocks = block_t,\n",
    "    city_geometry=city_geometry,\n",
    "    water_geometry=water_geometry,\n",
    "    roads_geometry=roads_geometry,\n",
    "    railways_geometry=railways_geometry,\n",
    "    nature_geometry_boundaries=nature_geometry_boundaries,\n",
    "    # accessibility_matrix=accessibility_matrix,\n",
    "    transport_graph=transport_graph,\n",
    "    buildings=buildings,\n",
    "    greenings=greenings,\n",
    "    parkings=parkings,\n",
    "\n",
    ")"
   ]
  },
  {
   "cell_type": "code",
   "execution_count": null,
   "metadata": {
    "collapsed": false,
    "pycharm": {
     "name": "#%%\n"
    }
   },
   "outputs": [],
   "source": [
    "services_prov = {}\n",
    "\n",
    "for service_type in services.keys():\n",
    "    provision = ProvisionModel(city_model=city_model, service_name=service_type)\n",
    "    print(service_type)\n",
    "    services_prov[service_type] = provision.run()"
   ]
  },
  {
   "cell_type": "code",
   "execution_count": null,
   "metadata": {},
   "outputs": [],
   "source": [
    "from matplotlib.gridspec import GridSpec\n",
    "\n",
    "kindergartens_prov = services_prov[\"kindergartens\"]\n",
    "schools_prov = services_prov[\"schools\"]\n",
    "recreational_areas_prov = services_prov[\"recreational_areas\"]\n",
    "hospitals_prov = services_prov[\"hospitals\"]\n",
    "pharmacies_prov = services_prov[\"pharmacies\"]\n",
    "policlinics_prov = services_prov[\"policlinics\"]\n",
    "\n",
    "fig = plt.figure(figsize=(25, 15))\n",
    "gs = GridSpec(2, 3, figure=fig)\n",
    "\n",
    "ax1 = fig.add_subplot(gs[0, 0])\n",
    "kindergartens_prov.plot(column=\"provision_kindergartens\", legend=True, ax=ax1)\n",
    "ax1.set_title(\"Kindergartens provision\")\n",
    "kindergartens_prov[kindergartens_prov[\"population\"] == 0].plot(ax=ax1, color=\"grey\", alpha=1)\n",
    "\n",
    "ax2 = fig.add_subplot(gs[0, 1])\n",
    "schools_prov.plot(column=\"provision_schools\", legend=True, ax=ax2)\n",
    "ax2.set_title(\"Schools provision\")\n",
    "schools_prov[schools_prov[\"population\"] == 0].plot(ax=ax2, color=\"grey\", alpha=1)\n",
    "\n",
    "ax3 = fig.add_subplot(gs[0, 2])\n",
    "recreational_areas_prov.plot(column=\"provision_recreational_areas\", legend=True, ax=ax3)\n",
    "ax3.set_title(\"Recreational areas provision\")\n",
    "recreational_areas_prov[recreational_areas_prov[\"population\"] == 0].plot(ax=ax3, color=\"grey\", alpha=1)\n",
    "\n",
    "ax4 = fig.add_subplot(gs[1, 0])\n",
    "hospitals_prov.plot(column=\"provision_hospitals\", legend=True, ax=ax4)\n",
    "ax4.set_title(\"Hospitals provision\")\n",
    "hospitals_prov[hospitals_prov[\"population\"] == 0].plot(ax=ax4, color=\"grey\", alpha=1)\n",
    "\n",
    "ax5 = fig.add_subplot(gs[1, 1])\n",
    "pharmacies_prov.plot(column=\"provision_pharmacies\", legend=True, ax=ax5)\n",
    "ax5.set_title(\"Pharmacies provision\")\n",
    "pharmacies_prov[pharmacies_prov[\"population\"] == 0].plot(ax=ax5, color=\"grey\", alpha=1)\n",
    "\n",
    "ax6 = fig.add_subplot(gs[1, 2])\n",
    "policlinics_prov.plot(column=\"provision_policlinics\", legend=True, ax=ax6)\n",
    "ax6.set_title(\"Policlinics provision\")\n",
    "policlinics_prov[policlinics_prov[\"population\"] == 0].plot(ax=ax6, color=\"grey\", alpha=1)\n",
    "\n",
    "plt.show()"
   ]
  },
  {
   "cell_type": "code",
   "execution_count": null,
   "metadata": {
    "collapsed": false,
    "pycharm": {
     "name": "#%%\n"
    }
   },
   "outputs": [],
   "source": [
    "prov = pd.concat([df if i==0 else df.drop(['id', 'geometry', 'population'], axis=1) for i, df in enumerate(services_prov.values())], axis=1)"
   ]
  },
  {
   "cell_type": "code",
   "execution_count": null,
   "metadata": {},
   "outputs": [],
   "source": [
    "prov.drop('level_0', axis=1, inplace=True)\n",
    "prov"
   ]
  },
  {
   "cell_type": "code",
   "execution_count": null,
   "metadata": {
    "collapsed": false,
    "pycharm": {
     "name": "#%%\n"
    }
   },
   "outputs": [],
   "source": [
    "df = city_model.blocks_aggregated_info.merge(prov)\n",
    "del prov\n",
    "df"
   ]
  },
  {
   "cell_type": "code",
   "execution_count": null,
   "metadata": {
    "collapsed": false,
    "pycharm": {
     "name": "#%%\n"
    }
   },
   "outputs": [],
   "source": [
    "df = df[['block_id', 'geometry' , 'current_population', 'population', 'area',\n",
    "    'floors', 'current_living_area', 'current_industrial_area',\n",
    "    'current_green_area',\n",
    "    'current_green_capacity', 'current_parking_capacity',\n",
    "    'population_prov_schools', 'population_unprov_schools',\n",
    "    'population_prov_kindergartens', 'population_unprov_kindergartens',\n",
    "    'population_prov_recreational_areas', 'population_unprov_recreational_areas',\n",
    "    'population_prov_hospitals', 'population_unprov_hospitals',\n",
    "    'population_prov_policlinics', 'population_unprov_policlinics',\n",
    "    'population_prov_pharmacies', 'population_unprov_pharmacies']]"
   ]
  },
  {
   "cell_type": "code",
   "execution_count": null,
   "metadata": {
    "collapsed": false,
    "pycharm": {
     "name": "#%%\n"
    }
   },
   "outputs": [],
   "source": [
    "# df.isna().sum()[df.isna().sum()!=0]\n",
    "# df[df['floors'].isna()][['population', 'current_living_area']].describe()\n",
    "df['floors'].fillna(0, inplace=True)\n",
    "# (df['current_population'] != df['population']).sum()\n",
    "df.drop(['current_population'], axis=1, inplace=True)"
   ]
  },
  {
   "cell_type": "code",
   "execution_count": null,
   "metadata": {
    "collapsed": false,
    "pycharm": {
     "name": "#%%\n"
    }
   },
   "outputs": [],
   "source": [
    "HECTARE_IN_SQUARE_METERS = 10_000\n",
    "\n",
    "df[['area', 'current_living_area', 'current_industrial_area', 'current_green_area']] = df[['area', 'current_living_area', 'current_industrial_area', 'current_green_area']]/HECTARE_IN_SQUARE_METERS"
   ]
  },
  {
   "cell_type": "code",
   "execution_count": null,
   "metadata": {
    "collapsed": false,
    "pycharm": {
     "name": "#%%\n"
    }
   },
   "outputs": [],
   "source": [
    "df['free_area'] = df['area']*0.8 - df['current_green_area'] - df['current_industrial_area'] - df['current_living_area']"
   ]
  },
  {
   "cell_type": "code",
   "execution_count": null,
   "metadata": {
    "collapsed": false,
    "pycharm": {
     "name": "#%%\n"
    }
   },
   "outputs": [],
   "source": [
    "services_dict = {\n",
    "    'schools': {250: 1.2, 300: 1.1, 600: 1.3, 800: 1.5, 1100: 1.8},\n",
    "    'kindergartens': {180: 0.72, 250: 1.44, 280: 1.1},\n",
    "    'recreational_areas': {1000: 0.12},\n",
    "    'pharmacies': {1000: 0.005},\n",
    "    'hospitals': {500: 4, 1000: 8, 5000: 40, 10000: 80},\n",
    "    'policlinics': {1000: 1.1, 3000: 3, 5000: 5}\n",
    "}"
   ]
  },
  {
   "cell_type": "code",
   "execution_count": null,
   "metadata": {
    "collapsed": false,
    "pycharm": {
     "name": "#%%\n"
    }
   },
   "outputs": [],
   "source": [
    "d = {}\n",
    "for k,v in services_dict.items():\n",
    "    for kk,vv in v.items():\n",
    "        d[k+'_'+str(kk)]=vv\n",
    "d_ = pd.DataFrame([d]).T"
   ]
  },
  {
   "cell_type": "code",
   "execution_count": null,
   "metadata": {},
   "outputs": [],
   "source": [
    "d_"
   ]
  },
  {
   "cell_type": "code",
   "execution_count": null,
   "metadata": {
    "collapsed": false,
    "pycharm": {
     "name": "#%%\n"
    }
   },
   "outputs": [],
   "source": [
    "import itertools"
   ]
  },
  {
   "cell_type": "code",
   "execution_count": null,
   "metadata": {
    "collapsed": false,
    "pycharm": {
     "name": "#%%\n"
    }
   },
   "outputs": [],
   "source": [
    "comb = [list(itertools.combinations(list(d.keys()), i)) for i in range(1, 4)]\n",
    "comb = [item for sublist in comb for item in sublist]"
   ]
  },
  {
   "cell_type": "code",
   "execution_count": null,
   "metadata": {
    "collapsed": false,
    "pycharm": {
     "name": "#%%\n"
    }
   },
   "outputs": [],
   "source": [
    "comb_w = []\n",
    "for comb_ in comb:\n",
    "    comb_w.append(d_.loc[list(comb_)].sum()[0])"
   ]
  },
  {
   "cell_type": "code",
   "execution_count": null,
   "metadata": {
    "collapsed": false,
    "pycharm": {
     "name": "#%%\n"
    }
   },
   "outputs": [],
   "source": [
    "df['variants'] = df['free_area'].apply(lambda x: [i for i,com in enumerate(comb_w) if com<=x])"
   ]
  },
  {
   "cell_type": "code",
   "execution_count": null,
   "metadata": {
    "collapsed": false,
    "pycharm": {
     "name": "#%%\n"
    }
   },
   "outputs": [],
   "source": [
    "df['variants']"
   ]
  },
  {
   "cell_type": "code",
   "execution_count": null,
   "metadata": {
    "collapsed": false,
    "pycharm": {
     "name": "#%%\n"
    }
   },
   "outputs": [],
   "source": [
    "total_vars = list(set([item for sublist in df['variants'].tolist() for item in sublist]))"
   ]
  },
  {
   "cell_type": "code",
   "execution_count": null,
   "metadata": {
    "collapsed": false,
    "pycharm": {
     "name": "#%%\n"
    }
   },
   "outputs": [],
   "source": [
    "variants = pd.DataFrame(columns=services.keys(), index=range(833)).fillna(0)\n",
    "for i,_ in enumerate(comb):\n",
    "    for el in [x.rsplit('_', maxsplit=1) for x in _]:\n",
    "        variants.loc[i, el[0]] += int(el[1])"
   ]
  },
  {
   "cell_type": "code",
   "execution_count": null,
   "metadata": {},
   "outputs": [],
   "source": [
    "variants"
   ]
  },
  {
   "cell_type": "code",
   "execution_count": null,
   "metadata": {
    "collapsed": false,
    "pycharm": {
     "name": "#%%\n"
    }
   },
   "outputs": [],
   "source": [
    "import numpy as np"
   ]
  },
  {
   "cell_type": "code",
   "execution_count": null,
   "metadata": {
    "collapsed": false,
    "pycharm": {
     "name": "#%%\n"
    }
   },
   "outputs": [],
   "source": [
    "blocks = np.zeros(140)"
   ]
  },
  {
   "cell_type": "code",
   "execution_count": null,
   "metadata": {
    "collapsed": false,
    "pycharm": {
     "name": "#%%\n"
    }
   },
   "outputs": [],
   "source": [
    "blocks_for_change = np.random.randint(0, 140, 10)\n",
    "change_variants = np.random.randint(0, 832, 10)"
   ]
  },
  {
   "cell_type": "code",
   "execution_count": null,
   "metadata": {
    "collapsed": false,
    "pycharm": {
     "name": "#%%\n"
    }
   },
   "outputs": [],
   "source": [
    "blocks[blocks_for_change] = change_variants"
   ]
  },
  {
   "cell_type": "code",
   "execution_count": null,
   "metadata": {
    "collapsed": false,
    "pycharm": {
     "name": "#%%\n"
    }
   },
   "outputs": [],
   "source": [
    "def fitness_func(ga_instance, blocks, solution_idx):\n",
    "    updated_block_dict = {}\n",
    "\n",
    "    for i, block_id in enumerate(blocks.nonzero()[0]):\n",
    "        updated_block = {\n",
    "            'block_id': df.loc[block_id]['block_id'],\n",
    "            'population': df.loc[block_id]['population']}\n",
    "        for k,v in variants.loc[blocks[block_id]].to_dict().items():\n",
    "            updated_block[k+'_capacity'] = v\n",
    "\n",
    "        updated_block_dict[i] = updated_block\n",
    "\n",
    "    services_graph_new = nx.Graph()\n",
    "    for service_type in services.keys():\n",
    "        services_graph_new = DataGetter().prepare_graph(\n",
    "            blocks=city_model.city_blocks,\n",
    "            service_type=service_type,\n",
    "            buildings=city_model.buildings,\n",
    "            service_gdf=city_model.services_gdfs[service_type],\n",
    "            updated_block_info=updated_block_dict,\n",
    "            accessibility_matrix=city_model.accessibility_matrix,\n",
    "            services_graph=services_graph_new,\n",
    "        )\n",
    "\n",
    "    city_model.services_graph = services_graph_new\n",
    "\n",
    "    services_prov = {}\n",
    "    for service_type in services.keys():\n",
    "        provision = ProvisionModel(city_model=city_model, service_name=service_type)\n",
    "        temp = provision.run()\n",
    "        temp = temp[temp['population']!=0]\n",
    "        services_prov[service_type] = 1/6*(temp['population_prov_' + service_type]/\n",
    "                                           (temp['population_prov_' + service_type] +\n",
    "                                            temp['population_unprov_' + service_type])).mean()\n",
    "\n",
    "    fitness = sum(services_prov.values())\n",
    "\n",
    "    return fitness"
   ]
  },
  {
   "cell_type": "code",
   "execution_count": null,
   "metadata": {
    "collapsed": false,
    "pycharm": {
     "name": "#%%\n"
    }
   },
   "outputs": [],
   "source": [
    "fitness_func(None, blocks, None)"
   ]
  },
  {
   "cell_type": "code",
   "execution_count": null,
   "metadata": {
    "collapsed": false,
    "pycharm": {
     "name": "#%%\n"
    }
   },
   "outputs": [],
   "source": [
    "df['len_variants'] = df['variants'].apply(lambda x: len(x))"
   ]
  },
  {
   "cell_type": "code",
   "execution_count": null,
   "metadata": {
    "collapsed": false,
    "pycharm": {
     "name": "#%%\n"
    }
   },
   "outputs": [],
   "source": [
    "import pygad"
   ]
  },
  {
   "cell_type": "code",
   "execution_count": null,
   "metadata": {
    "collapsed": false,
    "pycharm": {
     "name": "#%%\n"
    }
   },
   "outputs": [],
   "source": [
    "ga_instance = pygad.GA(num_generations=3,\n",
    "                       num_parents_mating=6,\n",
    "\n",
    "                       fitness_func=fitness_func,\n",
    "\n",
    "                       sol_per_pop=6,\n",
    "                       num_genes=df[df['len_variants']!=0].reset_index(drop=True).shape[0],\n",
    "                       gene_space=df[df['len_variants']!=0].reset_index(drop=True)['variants'].tolist(),\n",
    "                       gene_type=int,\n",
    "\n",
    "                       mutation_type='adaptive',\n",
    "                       mutation_percent_genes=(90, 10),\n",
    "\n",
    "                       # on_crossover = on_crossover,\n",
    "                       crossover_type='scattered',\n",
    "\n",
    "                       parent_selection_type='tournament',\n",
    "                       K_tournament=3,\n",
    "\n",
    "                       stop_criteria='saturate_50',\n",
    "                       parallel_processing=12)"
   ]
  },
  {
   "cell_type": "code",
   "execution_count": null,
   "metadata": {
    "collapsed": false,
    "pycharm": {
     "name": "#%%\n"
    }
   },
   "outputs": [],
   "source": [
    "# ga_instance.plot_fitness()"
   ]
  },
  {
   "cell_type": "code",
   "execution_count": null,
   "metadata": {
    "collapsed": false,
    "pycharm": {
     "name": "#%%\n"
    }
   },
   "outputs": [],
   "source": [
    "solution = ga_instance.best_solution()[0]"
   ]
  },
  {
   "cell_type": "code",
   "execution_count": null,
   "metadata": {
    "collapsed": false,
    "pycharm": {
     "name": "#%%\n"
    }
   },
   "outputs": [],
   "source": [
    "updated_block_dict = {}\n",
    "\n",
    "for i, block_id in enumerate(solution.nonzero()[0]):\n",
    "    updated_block = {\n",
    "        'block_id': df.loc[block_id]['block_id'],\n",
    "        'population': df.loc[block_id]['population']}\n",
    "    for k,v in variants.loc[solution[block_id]].to_dict().items():\n",
    "        updated_block[k+'_capacity'] = v\n",
    "\n",
    "    updated_block_dict[i] = updated_block"
   ]
  },
  {
   "cell_type": "code",
   "execution_count": null,
   "metadata": {
    "collapsed": false,
    "pycharm": {
     "name": "#%%\n"
    }
   },
   "outputs": [],
   "source": [
    "# city_model.services_graph = services_graph\n",
    "# services_prov = {}\n",
    "# for service_type in services.keys():\n",
    "#     provision = ProvisionModel(city_model=city_model, service_name=service_type)\n",
    "#     services_prov[service_type] = provision.run()"
   ]
  },
  {
   "cell_type": "code",
   "execution_count": null,
   "metadata": {},
   "outputs": [],
   "source": [
    "comb[9]"
   ]
  },
  {
   "cell_type": "code",
   "execution_count": null,
   "metadata": {},
   "outputs": [],
   "source": [
    "solution"
   ]
  },
  {
   "cell_type": "code",
   "execution_count": null,
   "metadata": {
    "collapsed": false,
    "pycharm": {
     "name": "#%%\n"
    }
   },
   "outputs": [],
   "source": [
    "services_graph_new = nx.Graph()\n",
    "for service_type in services.keys():\n",
    "    services_graph_new = DataGetter().prepare_graph(\n",
    "        blocks=city_model.city_blocks,\n",
    "        service_type=service_type,\n",
    "        buildings=city_model.buildings,\n",
    "        service_gdf=city_model.services_gdfs[service_type],\n",
    "        updated_block_info=updated_block_dict,\n",
    "        accessibility_matrix=city_model.accessibility_matrix,\n",
    "        services_graph=services_graph_new,\n",
    "    )\n",
    "\n",
    "city_model.services_graph = services_graph_new\n",
    "\n",
    "services_prov_new = {}\n",
    "for service_type in services.keys():\n",
    "    provision = ProvisionModel(city_model=city_model, service_name=service_type)\n",
    "    services_prov_new[service_type] = provision.run()"
   ]
  },
  {
   "cell_type": "code",
   "execution_count": null,
   "metadata": {
    "collapsed": false,
    "pycharm": {
     "name": "#%%\n"
    }
   },
   "outputs": [],
   "source": [
    "from matplotlib.gridspec import GridSpec\n",
    "\n",
    "kindergartens_prov = services_prov[\"kindergartens\"]\n",
    "schools_prov = services_prov[\"schools\"]\n",
    "recreational_areas_prov = services_prov[\"recreational_areas\"]\n",
    "hospitals_prov = services_prov[\"hospitals\"]\n",
    "pharmacies_prov = services_prov[\"pharmacies\"]\n",
    "policlinics_prov = services_prov[\"policlinics\"]\n",
    "\n",
    "fig = plt.figure(figsize=(25, 15))\n",
    "gs = GridSpec(2, 3, figure=fig)\n",
    "\n",
    "ax1 = fig.add_subplot(gs[0, 0])\n",
    "kindergartens_prov.plot(column=\"provision_kindergartens\", legend=True, ax=ax1)\n",
    "ax1.set_title(\"Kindergartens provision\")\n",
    "kindergartens_prov[kindergartens_prov[\"population\"] == 0].plot(ax=ax1, color=\"grey\", alpha=1)\n",
    "\n",
    "ax2 = fig.add_subplot(gs[0, 1])\n",
    "schools_prov.plot(column=\"provision_schools\", legend=True, ax=ax2)\n",
    "ax2.set_title(\"Schools provision\")\n",
    "schools_prov[schools_prov[\"population\"] == 0].plot(ax=ax2, color=\"grey\", alpha=1)\n",
    "\n",
    "ax3 = fig.add_subplot(gs[0, 2])\n",
    "recreational_areas_prov.plot(column=\"provision_recreational_areas\", legend=True, ax=ax3)\n",
    "ax3.set_title(\"Recreational areas provision\")\n",
    "recreational_areas_prov[recreational_areas_prov[\"population\"] == 0].plot(ax=ax3, color=\"grey\", alpha=1)\n",
    "\n",
    "ax4 = fig.add_subplot(gs[1, 0])\n",
    "hospitals_prov.plot(column=\"provision_hospitals\", legend=True, ax=ax4)\n",
    "ax4.set_title(\"Hospitals provision\")\n",
    "hospitals_prov[hospitals_prov[\"population\"] == 0].plot(ax=ax4, color=\"grey\", alpha=1)\n",
    "\n",
    "ax5 = fig.add_subplot(gs[1, 1])\n",
    "pharmacies_prov.plot(column=\"provision_pharmacies\", legend=True, ax=ax5)\n",
    "ax5.set_title(\"Pharmacies provision\")\n",
    "pharmacies_prov[pharmacies_prov[\"population\"] == 0].plot(ax=ax5, color=\"grey\", alpha=1)\n",
    "\n",
    "ax6 = fig.add_subplot(gs[1, 2])\n",
    "policlinics_prov.plot(column=\"provision_policlinics\", legend=True, ax=ax6)\n",
    "ax6.set_title(\"Policlinics provision\")\n",
    "policlinics_prov[policlinics_prov[\"population\"] == 0].plot(ax=ax6, color=\"grey\", alpha=1)\n",
    "\n",
    "plt.show()\n"
   ]
  }
 ],
 "metadata": {
  "kernelspec": {
   "display_name": "Python 3.10.6 ('.venv': venv)",
   "language": "python",
   "name": "python3"
  },
  "language_info": {
   "codemirror_mode": {
    "name": "ipython",
    "version": 3
   },
   "file_extension": ".py",
   "mimetype": "text/x-python",
   "name": "python",
   "nbconvert_exporter": "python",
   "pygments_lexer": "ipython3",
   "version": "3.10.6"
  },
  "vscode": {
   "interpreter": {
    "hash": "10a17c1b6daec4f71e1a6be0c0f3dce45cab57590679db625cc1c5fc73cbfc9f"
   }
  }
 },
 "nbformat": 4,
 "nbformat_minor": 0
}
