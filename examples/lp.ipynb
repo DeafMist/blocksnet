{
 "cells": [
  {
   "cell_type": "code",
   "execution_count": 5,
   "metadata": {},
   "outputs": [
    {
     "data": {
      "text/html": [
       "<div>\n",
       "<style scoped>\n",
       "    .dataframe tbody tr th:only-of-type {\n",
       "        vertical-align: middle;\n",
       "    }\n",
       "\n",
       "    .dataframe tbody tr th {\n",
       "        vertical-align: top;\n",
       "    }\n",
       "\n",
       "    .dataframe thead th {\n",
       "        text-align: right;\n",
       "    }\n",
       "</style>\n",
       "<table border=\"1\" class=\"dataframe\">\n",
       "  <thead>\n",
       "    <tr style=\"text-align: right;\">\n",
       "      <th></th>\n",
       "      <th>geometry</th>\n",
       "      <th>area</th>\n",
       "    </tr>\n",
       "  </thead>\n",
       "  <tbody>\n",
       "    <tr>\n",
       "      <th>0</th>\n",
       "      <td>POLYGON ((-43468.343 6819693.302, -37396.584 6...</td>\n",
       "      <td>6.083417e+06</td>\n",
       "    </tr>\n",
       "    <tr>\n",
       "      <th>1</th>\n",
       "      <td>POLYGON ((-42235.668 6817121.940, -42762.986 6...</td>\n",
       "      <td>1.138762e+06</td>\n",
       "    </tr>\n",
       "    <tr>\n",
       "      <th>2</th>\n",
       "      <td>POLYGON ((-40544.758 6816281.031, -40961.535 6...</td>\n",
       "      <td>7.756467e+05</td>\n",
       "    </tr>\n",
       "    <tr>\n",
       "      <th>3</th>\n",
       "      <td>POLYGON ((-36174.800 6817355.434, -37117.133 6...</td>\n",
       "      <td>3.947237e+06</td>\n",
       "    </tr>\n",
       "    <tr>\n",
       "      <th>4</th>\n",
       "      <td>POLYGON ((-40701.920 6819910.792, -40054.546 6...</td>\n",
       "      <td>3.209407e+05</td>\n",
       "    </tr>\n",
       "  </tbody>\n",
       "</table>\n",
       "</div>"
      ],
      "text/plain": [
       "                                            geometry          area\n",
       "0  POLYGON ((-43468.343 6819693.302, -37396.584 6...  6.083417e+06\n",
       "1  POLYGON ((-42235.668 6817121.940, -42762.986 6...  1.138762e+06\n",
       "2  POLYGON ((-40544.758 6816281.031, -40961.535 6...  7.756467e+05\n",
       "3  POLYGON ((-36174.800 6817355.434, -37117.133 6...  3.947237e+06\n",
       "4  POLYGON ((-40701.920 6819910.792, -40054.546 6...  3.209407e+05"
      ]
     },
     "execution_count": 5,
     "metadata": {},
     "output_type": "execute_result"
    }
   ],
   "source": [
    "import geopandas as gpd\n",
    "\n",
    "blocks = gpd.read_file('sveto.geojson')[['geometry']]\n",
    "blocks['area'] = blocks.area\n",
    "blocks.head()"
   ]
  },
  {
   "cell_type": "code",
   "execution_count": null,
   "metadata": {},
   "outputs": [
    {
     "data": {
      "text/plain": [
       "[(<LandUse.RESIDENTIAL: 'residential'>, <LandUse.RESIDENTIAL: 'residential'>),\n",
       " (<LandUse.BUSINESS: 'business'>, <LandUse.BUSINESS: 'business'>),\n",
       " (<LandUse.RECREATION: 'recreation'>, <LandUse.RECREATION: 'recreation'>),\n",
       " (<LandUse.INDUSTRIAL: 'industrial'>, <LandUse.INDUSTRIAL: 'industrial'>),\n",
       " (<LandUse.TRANSPORT: 'transport'>, <LandUse.TRANSPORT: 'transport'>),\n",
       " (<LandUse.SPECIAL: 'special'>, <LandUse.SPECIAL: 'special'>),\n",
       " (<LandUse.AGRICULTURE: 'agriculture'>, <LandUse.AGRICULTURE: 'agriculture'>),\n",
       " (<LandUse.RECREATION: 'recreation'>, <LandUse.SPECIAL: 'special'>),\n",
       " (<LandUse.RECREATION: 'recreation'>, <LandUse.INDUSTRIAL: 'industrial'>),\n",
       " (<LandUse.RECREATION: 'recreation'>, <LandUse.BUSINESS: 'business'>),\n",
       " (<LandUse.RECREATION: 'recreation'>, <LandUse.AGRICULTURE: 'agriculture'>),\n",
       " (<LandUse.RECREATION: 'recreation'>, <LandUse.TRANSPORT: 'transport'>),\n",
       " (<LandUse.RECREATION: 'recreation'>, <LandUse.RESIDENTIAL: 'residential'>),\n",
       " (<LandUse.RESIDENTIAL: 'residential'>, <LandUse.BUSINESS: 'business'>),\n",
       " (<LandUse.BUSINESS: 'business'>, <LandUse.INDUSTRIAL: 'industrial'>),\n",
       " (<LandUse.BUSINESS: 'business'>, <LandUse.TRANSPORT: 'transport'>),\n",
       " (<LandUse.INDUSTRIAL: 'industrial'>, <LandUse.SPECIAL: 'special'>),\n",
       " (<LandUse.INDUSTRIAL: 'industrial'>, <LandUse.AGRICULTURE: 'agriculture'>),\n",
       " (<LandUse.INDUSTRIAL: 'industrial'>, <LandUse.TRANSPORT: 'transport'>),\n",
       " (<LandUse.TRANSPORT: 'transport'>, <LandUse.SPECIAL: 'special'>),\n",
       " (<LandUse.TRANSPORT: 'transport'>, <LandUse.AGRICULTURE: 'agriculture'>),\n",
       " (<LandUse.SPECIAL: 'special'>, <LandUse.AGRICULTURE: 'agriculture'>)]"
      ]
     },
     "execution_count": 7,
     "metadata": {},
     "output_type": "execute_result"
    }
   ],
   "source": [
    "import pandas as pd\n",
    "from blocksnet.models import LandUse\n",
    "\n",
    "list(LandUse)\n",
    "\n",
    "# rules = pd.DataFrame({\n",
    "#     'Residential': [1, 1, 1, 0, 0, 0, 0],\n",
    "#     'Business': [1, 1, 1, 0, 1, 0, 1],\n",
    "#     'Recreation': [1, 1, 1, 1, 1, 1, 1],\n",
    "#     'Special': [0, 0, 1, 1, 1, 1, 1],\n",
    "#     'Industrial': [0, 1, 1, 1, 1, 1, 1],\n",
    "#     'Agriculture': [0, 0, 1, 1, 1, 1, 1],\n",
    "#     'Transport': [0, 1, 1, 1, 1, 1, 1]\n",
    "# }, index=['Residential', 'Business', 'Recreation', 'Special', 'Industrial', 'Agriculture', 'Transport'])"
   ]
  }
 ],
 "metadata": {
  "kernelspec": {
   "display_name": "Python 3.10.12 ('.venv': venv)",
   "language": "python",
   "name": "python3"
  },
  "language_info": {
   "codemirror_mode": {
    "name": "ipython",
    "version": 3
   },
   "file_extension": ".py",
   "mimetype": "text/x-python",
   "name": "python",
   "nbconvert_exporter": "python",
   "pygments_lexer": "ipython3",
   "version": "3.10.12"
  },
  "orig_nbformat": 4,
  "vscode": {
   "interpreter": {
    "hash": "10a17c1b6daec4f71e1a6be0c0f3dce45cab57590679db625cc1c5fc73cbfc9f"
   }
  }
 },
 "nbformat": 4,
 "nbformat_minor": 2
}
