{
 "cells": [
  {
   "cell_type": "code",
   "metadata": {},
   "source": [
    "import os\n",
    "import pandas as pd\n",
    "import geopandas as gpd\n",
    "import matplotlib.pyplot as plt\n",
    "local_crs = 32636\n",
    "example_data_path = \"..\"\n",
    "\n",
    "from blocksnet.models import City"
   ],
   "outputs": [],
   "execution_count": null
  },
  {
   "cell_type": "markdown",
   "metadata": {},
   "source": [
    "from blocksnet.models import City\n",
    "city_model = City.from_pickle(os.path.join(example_data_path, 'city_model.pickle'))"
   ]
  },
  {
   "cell_type": "code",
   "metadata": {},
   "source": "city_model = City.from_pickle(os.path.join(example_data_path, 'model_0_0_6.pickle'))",
   "outputs": [],
   "execution_count": null
  },
  {
   "cell_type": "code",
   "metadata": {},
   "source": [
    "from blocksnet.method import Connectivity\n",
    "connectivity = Connectivity(city_model=city_model).calculate()\n",
    "connectivity.head()"
   ],
   "outputs": [],
   "execution_count": null
  },
  {
   "cell_type": "code",
   "metadata": {},
   "source": [
    "from blocksnet.method.diversity import Diversity\n",
    "diversity = Diversity(city_model=city_model).calculate()\n",
    "diversity.head()"
   ],
   "outputs": [],
   "execution_count": null
  },
  {
   "cell_type": "code",
   "metadata": {},
   "source": [
    "from blocksnet.method.centrality import Centrality\n",
    "centrality = Centrality(city_model=city_model).calculate()\n",
    "centrality.head()"
   ],
   "outputs": [],
   "execution_count": null
  },
  {
   "cell_type": "code",
   "metadata": {},
   "source": [
    "Centrality.plot(centrality)"
   ],
   "outputs": [],
   "execution_count": null
  },
  {
   "metadata": {},
   "cell_type": "code",
   "source": [
    "from blocksnet.method import PopulationCentrality\n",
    "population_centrality = PopulationCentrality(city_model=city_model).calculate()\n",
    "population_centrality.head()"
   ],
   "outputs": [],
   "execution_count": null
  },
  {
   "metadata": {},
   "cell_type": "code",
   "source": "PopulationCentrality.plot(population_centrality)",
   "outputs": [],
   "execution_count": null
  },
  {
   "metadata": {},
   "cell_type": "code",
   "source": "population_centrality.explore(column='population_centrality')",
   "outputs": [],
   "execution_count": null
  }
 ],
 "metadata": {
  "kernelspec": {
   "display_name": "Python 3.10.12 ('.venv': venv)",
   "language": "python",
   "name": "python3"
  },
  "language_info": {
   "codemirror_mode": {
    "name": "ipython",
    "version": 3
   },
   "file_extension": ".py",
   "mimetype": "text/x-python",
   "name": "python",
   "nbconvert_exporter": "python",
   "pygments_lexer": "ipython3",
   "version": "3.10.12"
  },
  "vscode": {
   "interpreter": {
    "hash": "10a17c1b6daec4f71e1a6be0c0f3dce45cab57590679db625cc1c5fc73cbfc9f"
   }
  }
 },
 "nbformat": 4,
 "nbformat_minor": 2
}
