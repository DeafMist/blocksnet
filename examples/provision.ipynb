{
 "cells": [
  {
   "attachments": {},
   "cell_type": "markdown",
   "metadata": {},
   "source": [
    "# An example of masterplan creation"
   ]
  },
  {
   "cell_type": "code",
   "execution_count": null,
   "metadata": {},
   "outputs": [],
   "source": [
    "import os\n",
    "\n",
    "os.environ['USE_PYGEOS'] = os.environ.get('USE_PYGEOS', '0')\n",
    "import geopandas as gpd\n",
    "import matplotlib.pyplot as plt\n",
    "import networkx as nx\n",
    "import pandas as pd\n",
    "from IPython.display import Image, Markdown, display\n",
    "\n",
    "\n",
    "from masterplan_tools.method.provision import ProvisionModel\n",
    "from masterplan_tools.models import CityModel\n",
    "from masterplan_tools.preprocessing import DataGetter\n",
    "\n",
    "\n",
    "def pandas_to_markdown(df_or_series: pd.DataFrame | pd.Series, value_name: str | None = None) -> Markdown:\n",
    "    if isinstance(df_or_series, pd.DataFrame):\n",
    "        return Markdown(\n",
    "            \"\\n\".join(\n",
    "                (\n",
    "                    f\"| {' | '.join(column for column in df_or_series.columns)} |\",\n",
    "                    f\"| {' | '.join(('---',) * df_or_series.shape[1])} |\",\n",
    "                    \"\\n\".join(\n",
    "                        f\"| {' | '.join(str(value) for value in values)} |\" for _, values in df_or_series.iterrows()\n",
    "                    ),\n",
    "                )\n",
    "            )\n",
    "        )\n",
    "    elif isinstance(df_or_series, pd.Series):\n",
    "        if value_name is None:\n",
    "            value_name = \"value\"\n",
    "        return Markdown(\n",
    "            \"\\n\".join(\n",
    "                (\n",
    "                    f\"| {df_or_series.name} | {value_name} |\",\n",
    "                    \"| --- | --- |\",\n",
    "                    \"\\n\".join(f\"| {key} | {round(value)} |\" for key, value in df_or_series.items()),\n",
    "                )\n",
    "            )\n",
    "        )\n",
    "    raise ValueError(f\"'{df_or_series}' is neither DataFrame nor Series\")"
   ]
  },
  {
   "attachments": {},
   "cell_type": "markdown",
   "metadata": {},
   "source": [
    "#### City model creation"
   ]
  },
  {
   "cell_type": "code",
   "execution_count": null,
   "metadata": {},
   "outputs": [],
   "source": [
    "# path to data\n",
    "example_data_path = \"./data\"\n",
    "# TODO: upload example data somewhere and download it in script\n",
    "\n",
    "\n",
    "# load data required for blocks creation\n",
    "city_geometry = gpd.read_parquet(os.path.join(example_data_path, \"city_geometry.parquet\"))\n",
    "water_geometry = gpd.read_parquet(os.path.join(example_data_path, \"water_geometry.parquet\"))\n",
    "roads_geometry = gpd.read_parquet(os.path.join(example_data_path, \"roads_geometry.parquet\"))\n",
    "railways_geometry = gpd.read_parquet(os.path.join(example_data_path, \"railways_geometry.parquet\"))\n",
    "nature_geometry_boundaries = gpd.read_parquet(os.path.join(example_data_path, \"nature_geometry_boundaries.parquet\"))\n",
    "\n",
    "# load data required for service graphs creation\n",
    "schools = gpd.read_parquet(os.path.join(example_data_path, \"schools.parquet\"))\n",
    "kindergartens = gpd.read_parquet(os.path.join(example_data_path, \"kindergartens.parquet\"))\n",
    "recreational_areas = gpd.read_parquet(os.path.join(example_data_path, \"recreational_areas.parquet\"))\n",
    "\n",
    "hospitals = gpd.read_file(os.path.join(example_data_path, \"hospitals.geojson\"))\n",
    "pharmacies = gpd.read_file(os.path.join(example_data_path, \"pharmacies.geojson\"))\n",
    "policlinics = gpd.read_file(os.path.join(example_data_path, \"policlinics.geojson\"))\n",
    "# accessibility_matrix = pd.read_pickle(path + \"accessibility_matrix.pkl\")\n",
    "\n",
    "# load data required for \n",
    "buildings = gpd.read_parquet(os.path.join(example_data_path, \"buildings.parquet\"))\n",
    "greenings = gpd.read_parquet(os.path.join(example_data_path, \"greenings.parquet\"))\n",
    "parkings = gpd.read_parquet(os.path.join(example_data_path, \"parkings.parquet\"))\n",
    "\n",
    "\n",
    "transport_graph = nx.read_graphml(os.path.join(example_data_path, \"new_graph.graphml\"))\n",
    "\n",
    "# data loading with planning area\n",
    "polygon = gpd.read_file(os.path.join(example_data_path, \"polygon.geojson\"))"
   ]
  },
  {
   "cell_type": "code",
   "execution_count": null,
   "metadata": {},
   "outputs": [],
   "source": [
    "# services should be specified as a dictionary\n",
    "services = {\"schools\": schools, \"kindergartens\": kindergartens, \"recreational_areas\": recreational_areas, \"hospitals\": hospitals, \"pharmacies\": pharmacies, \"policlinics\": policlinics}"
   ]
  },
  {
   "cell_type": "code",
   "execution_count": null,
   "metadata": {},
   "outputs": [],
   "source": [
    "# City data model creation\n",
    "city_model = CityModel(\n",
    "    services=services,\n",
    "    city_geometry=city_geometry,\n",
    "    water_geometry=water_geometry,\n",
    "    roads_geometry=roads_geometry,\n",
    "    railways_geometry=railways_geometry,\n",
    "    nature_geometry_boundaries=nature_geometry_boundaries,\n",
    "    # accessibility_matrix=accessibility_matrix,\n",
    "    transport_graph=transport_graph,\n",
    "    buildings=buildings,\n",
    "    greenings=greenings,\n",
    "    parkings=parkings,\n",
    ")"
   ]
  },
  {
   "attachments": {},
   "cell_type": "markdown",
   "metadata": {},
   "source": [
    "#### Calculating the provision of services in blocks"
   ]
  },
  {
   "cell_type": "code",
   "execution_count": null,
   "metadata": {},
   "outputs": [],
   "source": [
    "services_prov = {}\n",
    "\n",
    "for service_type in services.keys():\n",
    "    provision = ProvisionModel(city_model=city_model, service_name=service_type)\n",
    "    print(service_type)\n",
    "    services_prov[service_type] = provision.run()"
   ]
  },
  {
   "attachments": {},
   "cell_type": "markdown",
   "metadata": {},
   "source": [
    "#### Service provision visualization"
   ]
  },
  {
   "cell_type": "code",
   "execution_count": null,
   "metadata": {},
   "outputs": [],
   "source": [
    "from matplotlib.gridspec import GridSpec\n",
    "\n",
    "kindergartens_prov = services_prov[\"kindergartens\"]\n",
    "schools_prov = services_prov[\"schools\"]\n",
    "recreational_areas_prov = services_prov[\"recreational_areas\"]\n",
    "hospitals_prov = services_prov[\"hospitals\"]\n",
    "pharmacies_prov = services_prov[\"pharmacies\"]\n",
    "policlinics_prov = services_prov[\"policlinics\"]\n",
    "\n",
    "fig = plt.figure(figsize=(25, 15))\n",
    "gs = GridSpec(2, 3, figure=fig)\n",
    "\n",
    "ax1 = fig.add_subplot(gs[0, 0])\n",
    "kindergartens_prov.plot(column=\"provision_kindergartens\", legend=True, ax=ax1)\n",
    "ax1.set_title(\"Kindergartens provision\")\n",
    "kindergartens_prov[kindergartens_prov[\"population\"] == 0].plot(ax=ax1, color=\"grey\", alpha=1)\n",
    "\n",
    "ax2 = fig.add_subplot(gs[0, 1])\n",
    "schools_prov.plot(column=\"provision_schools\", legend=True, ax=ax2)\n",
    "ax2.set_title(\"Schools provision\")\n",
    "schools_prov[schools_prov[\"population\"] == 0].plot(ax=ax2, color=\"grey\", alpha=1)\n",
    "\n",
    "ax3 = fig.add_subplot(gs[0, 2])\n",
    "recreational_areas_prov.plot(column=\"provision_recreational_areas\", legend=True, ax=ax3)\n",
    "ax3.set_title(\"Recreational areas provision\")\n",
    "recreational_areas_prov[recreational_areas_prov[\"population\"] == 0].plot(ax=ax3, color=\"grey\", alpha=1)\n",
    "\n",
    "ax4 = fig.add_subplot(gs[1, 0])\n",
    "hospitals_prov.plot(column=\"provision_hospitals\", legend=True, ax=ax4)\n",
    "ax4.set_title(\"Hospitals provision\")\n",
    "hospitals_prov[hospitals_prov[\"population\"] == 0].plot(ax=ax4, color=\"grey\", alpha=1)\n",
    "\n",
    "ax5 = fig.add_subplot(gs[1, 1])\n",
    "pharmacies_prov.plot(column=\"provision_pharmacies\", legend=True, ax=ax5)\n",
    "ax5.set_title(\"Pharmacies provision\")\n",
    "pharmacies_prov[pharmacies_prov[\"population\"] == 0].plot(ax=ax5, color=\"grey\", alpha=1)\n",
    "\n",
    "ax6 = fig.add_subplot(gs[1, 2])\n",
    "policlinics_prov.plot(column=\"provision_policlinics\", legend=True, ax=ax6)\n",
    "ax6.set_title(\"Policlinics provision\")\n",
    "policlinics_prov[policlinics_prov[\"population\"] == 0].plot(ax=ax6, color=\"grey\", alpha=1)\n",
    "\n",
    "plt.show()\n"
   ]
  },
  {
   "cell_type": "code",
   "execution_count": null,
   "metadata": {},
   "outputs": [],
   "source": [
    "services_prov[\"hospitals\"]"
   ]
  },
  {
   "cell_type": "code",
   "execution_count": null,
   "metadata": {},
   "outputs": [],
   "source": [
    "df_filtered_1 = services_prov[\"hospitals\"][services_prov[\"hospitals\"]['population'] > 0]\n",
    "hospitals_all = df_filtered_1['provision_hospitals'].sum(numeric_only=True) / len(df_filtered_1)\n",
    "\n",
    "df_filtered_2 = services_prov[\"policlinics\"][services_prov[\"policlinics\"]['population'] > 0]\n",
    "policlinics_all = df_filtered_2['provision_policlinics'].sum(numeric_only=True) / len(df_filtered_2)\n",
    "\n",
    "df_filtered_3 = services_prov[\"recreational_areas\"][services_prov[\"recreational_areas\"]['population'] > 0]\n",
    "recreational_areas_all = df_filtered_3['provision_recreational_areas'].sum(numeric_only=True) / len(df_filtered_3)\n",
    "\n",
    "df_filtered_4 = services_prov[\"pharmacies\"][services_prov[\"pharmacies\"]['population'] > 0]\n",
    "pharmacies_all = df_filtered_4['provision_pharmacies'].sum(numeric_only=True) / len(df_filtered_4)\n",
    "\n",
    "total_prov = (hospitals_all + policlinics_all + recreational_areas_all + pharmacies_all)/4\n",
    "\n",
    "print(f\"Total provision  {total_prov}\")\n"
   ]
  }
 ],
 "metadata": {
  "kernelspec": {
   "display_name": "Python 3.10.6 ('.venv': venv)",
   "language": "python",
   "name": "python3"
  },
  "language_info": {
   "codemirror_mode": {
    "name": "ipython",
    "version": 3
   },
   "file_extension": ".py",
   "mimetype": "text/x-python",
   "name": "python",
   "nbconvert_exporter": "python",
   "pygments_lexer": "ipython3",
   "version": "3.10.6"
  },
  "orig_nbformat": 4,
  "vscode": {
   "interpreter": {
    "hash": "10a17c1b6daec4f71e1a6be0c0f3dce45cab57590679db625cc1c5fc73cbfc9f"
   }
  }
 },
 "nbformat": 4,
 "nbformat_minor": 2
}
