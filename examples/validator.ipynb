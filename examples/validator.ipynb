{
 "cells": [
  {
   "cell_type": "code",
   "execution_count": 4,
   "metadata": {},
   "outputs": [],
   "source": [
    "from masterplan_tools.specification import SpecificationValidator\n",
    "\n",
    "feature_collection = {\n",
    "    \"type\": \"FeatureCollection\",\n",
    "    \"features\": [{\n",
    "        \"type\": \"Feature\",\n",
    "        \"geometry\": {\"type\": \"Polygon\",\n",
    "                     \"coordinates\": [\n",
    "                         [[100.0, 0.0], [101.0, 0.0], [101.0, 1.0],\n",
    "                          [100.0, 1.0], [100.0, 0.0]],\n",
    "                         [[100.2, 0.2], [100.8, 0.2], [100.8, 0.8],\n",
    "                          [100.2, 0.8], [100.2, 0.2]]\n",
    "                     ]\n",
    "                     },\n",
    "        \"properties\": {}\n",
    "    }]\n",
    "}\n",
    "validator = SpecificationValidator()\n",
    "validator.validate(feature_collection, 'blocks_cutter')\n"
   ]
  }
 ],
 "metadata": {
  "kernelspec": {
   "display_name": "Python 3.10.6 ('.venv': venv)",
   "language": "python",
   "name": "python3"
  },
  "language_info": {
   "codemirror_mode": {
    "name": "ipython",
    "version": 3
   },
   "file_extension": ".py",
   "mimetype": "text/x-python",
   "name": "python",
   "nbconvert_exporter": "python",
   "pygments_lexer": "ipython3",
   "version": "3.10.6"
  },
  "orig_nbformat": 4,
  "vscode": {
   "interpreter": {
    "hash": "10a17c1b6daec4f71e1a6be0c0f3dce45cab57590679db625cc1c5fc73cbfc9f"
   }
  }
 },
 "nbformat": 4,
 "nbformat_minor": 2
}
