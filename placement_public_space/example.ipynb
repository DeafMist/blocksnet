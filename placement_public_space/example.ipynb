{
 "cells": [
  {
   "cell_type": "code",
   "execution_count": null,
   "metadata": {
    "collapsed": true
   },
   "outputs": [],
   "source": [
    "import geopandas as gpd\n",
    "import networkx as nx\n",
    "import osmnx as ox\n",
    "import shapely\n",
    "import network_model\n",
    "import folium"
   ]
  },
  {
   "attachments": {},
   "cell_type": "markdown",
   "metadata": {
    "collapsed": false,
    "pycharm": {
     "name": "#%% md\n"
    }
   },
   "source": [
    "Инициализация сетевой модели. Загрузка геослоя с площадями и слоя с домами в класс"
   ]
  },
  {
   "cell_type": "code",
   "execution_count": null,
   "metadata": {
    "collapsed": false,
    "pycharm": {
     "name": "#%%\n"
    }
   },
   "outputs": [],
   "source": [
    "OPM_path = \"/Users/mvin/Desktop/RNF_DEV/code_v2/DATA/potential_ps.geojson\"\n",
    "house_path = \"/Users/mvin/Desktop/RNF_DEV/code_v2/DATA/House.geojson\"\n",
    "\n",
    "model = network_model.NetworkModel(OPM_path=OPM_path, house_path=house_path)\n",
    "model.OPM"
   ]
  },
  {
   "attachments": {},
   "cell_type": "markdown",
   "metadata": {
    "collapsed": false,
    "pycharm": {
     "name": "#%% md\n"
    }
   },
   "source": [
    "Поиск и классификация зеленых зон"
   ]
  },
  {
   "cell_type": "code",
   "execution_count": null,
   "metadata": {
    "collapsed": false,
    "pycharm": {
     "name": "#%%\n"
    }
   },
   "outputs": [],
   "source": [
    "model.find_exist(\"/Users/mvin/Desktop/RNF_DEV/code_v2/DATA/service.geojson\")\n",
    "model.OPM"
   ]
  },
  {
   "cell_type": "code",
   "execution_count": null,
   "metadata": {
    "collapsed": false,
    "pycharm": {
     "name": "#%%\n"
    }
   },
   "outputs": [],
   "source": [
    "model.OPM[model.OPM[\"functional_type\"] != \"\"]"
   ]
  },
  {
   "attachments": {},
   "cell_type": "markdown",
   "metadata": {
    "collapsed": false,
    "pycharm": {
     "name": "#%% md\n"
    }
   },
   "source": [
    "Вызов метода для построения изохрон. На вход подается граф пешей доступности"
   ]
  },
  {
   "cell_type": "code",
   "execution_count": null,
   "metadata": {
    "collapsed": false,
    "pycharm": {
     "name": "#%%\n"
    }
   },
   "outputs": [],
   "source": [
    "model.create_isochrones(\"/Users/mvin/Desktop/RNF_DEV/code_v2/DATA/walk_graph_spb_32636.graphml\")\n",
    "model.iso_5"
   ]
  },
  {
   "attachments": {},
   "cell_type": "markdown",
   "metadata": {
    "collapsed": false,
    "pycharm": {
     "name": "#%% md\n"
    }
   },
   "source": [
    "Создание графа"
   ]
  },
  {
   "cell_type": "code",
   "execution_count": null,
   "metadata": {
    "collapsed": false,
    "pycharm": {
     "name": "#%%\n"
    }
   },
   "outputs": [],
   "source": [
    "g = model.create_graph()\n",
    "g"
   ]
  },
  {
   "cell_type": "code",
   "execution_count": null,
   "metadata": {
    "collapsed": false,
    "pycharm": {
     "name": "#%%\n"
    }
   },
   "outputs": [],
   "source": [
    "model.OPM_info()\n",
    "model.provision_info()"
   ]
  },
  {
   "attachments": {},
   "cell_type": "markdown",
   "metadata": {
    "collapsed": false,
    "pycharm": {
     "name": "#%% md\n"
    }
   },
   "source": [
    "выбор одного оптимального места для ОПМ заданного размера и функционального типа, без открытия ОПМ в этом месте"
   ]
  },
  {
   "cell_type": "code",
   "execution_count": null,
   "metadata": {
    "collapsed": false,
    "pycharm": {
     "name": "#%%\n"
    }
   },
   "outputs": [],
   "source": [
    "a = model.best_location1(\"Событийное\", \"medium\")\n",
    "print(f\"id пространства: {a[1]}\")\n",
    "g.nodes[a[1]]"
   ]
  },
  {
   "attachments": {},
   "cell_type": "markdown",
   "metadata": {
    "collapsed": false,
    "pycharm": {
     "name": "#%% md\n"
    }
   },
   "source": [
    "Вызов функций для нахождения полного решения. Сначала вызывается метод full_solution(), далее - local_search() для улучшения получившегося решения"
   ]
  },
  {
   "cell_type": "code",
   "execution_count": null,
   "metadata": {
    "collapsed": false,
    "pycharm": {
     "name": "#%%\n"
    }
   },
   "outputs": [],
   "source": [
    "model.full_solution()"
   ]
  },
  {
   "cell_type": "code",
   "execution_count": null,
   "metadata": {
    "collapsed": false,
    "pycharm": {
     "name": "#%%\n"
    }
   },
   "outputs": [],
   "source": [
    "model.local_search()"
   ]
  },
  {
   "cell_type": "code",
   "execution_count": null,
   "metadata": {
    "collapsed": false,
    "pycharm": {
     "name": "#%%\n"
    }
   },
   "outputs": [],
   "source": [
    "model.OPM_info()\n",
    "model.provision_info()"
   ]
  },
  {
   "attachments": {},
   "cell_type": "markdown",
   "metadata": {
    "collapsed": false,
    "pycharm": {
     "name": "#%% md\n"
    }
   },
   "source": [
    "Рекомендательная функция"
   ]
  },
  {
   "cell_type": "code",
   "execution_count": null,
   "metadata": {
    "collapsed": false,
    "pycharm": {
     "name": "#%%\n"
    }
   },
   "outputs": [],
   "source": [
    "model.recommend_services(\"Многофункциональное\", 200)"
   ]
  },
  {
   "cell_type": "code",
   "execution_count": null,
   "metadata": {
    "collapsed": false,
    "pycharm": {
     "name": "#%%\n"
    }
   },
   "outputs": [],
   "source": [
    "opm = model.geo()\n",
    "house = model.get_houses()"
   ]
  },
  {
   "cell_type": "code",
   "execution_count": null,
   "metadata": {},
   "outputs": [],
   "source": [
    "h = model.get_houses()"
   ]
  },
  {
   "cell_type": "code",
   "execution_count": null,
   "metadata": {},
   "outputs": [],
   "source": [
    "# h.to_file('house_0.geojson', driver = 'GeoJSON')"
   ]
  },
  {
   "cell_type": "code",
   "execution_count": null,
   "metadata": {},
   "outputs": [],
   "source": [
    "# opm.to_file('opm.geojson', driver='GeoJSON')"
   ]
  },
  {
   "cell_type": "code",
   "execution_count": null,
   "metadata": {
    "collapsed": false,
    "pycharm": {
     "name": "#%%\n"
    }
   },
   "outputs": [],
   "source": [
    "m = folium.Map(location=[59.938732, 30.316229], zoom_start=10, tiles=\"CartoDB positron\")\n",
    "\n",
    "for i, r in opm.iterrows():\n",
    "    sim_geo = gpd.GeoSeries(r[\"geometry\"]).simplify(tolerance=0.001)\n",
    "    geo_j = sim_geo.to_json()\n",
    "    if r[\"functional_type\"] == \"Многофункциональное\":\n",
    "        geo_j = folium.GeoJson(data=geo_j, style_function=lambda x: {\"fillColor\": \"blue\"})\n",
    "    if r[\"functional_type\"] == \"Событийное\":\n",
    "        geo_j = folium.GeoJson(data=geo_j, style_function=lambda x: {\"fillColor\": \"red\", \"color\": \"red\"})\n",
    "    if r[\"functional_type\"] == \"Спортивное\":\n",
    "        geo_j = folium.GeoJson(data=geo_j, style_function=lambda x: {\"fillColor\": \"green\", \"color\": \"green\"})\n",
    "    if r[\"functional_type\"] == \"Учебное\":\n",
    "        geo_j = folium.GeoJson(data=geo_j, style_function=lambda x: {\"fillColor\": \"yellow\", \"color\": \"yellow\"})\n",
    "    folium.Popup(r[\"ratio\"]).add_to(geo_j)\n",
    "    geo_j.add_to(m)\n",
    "m"
   ]
  },
  {
   "cell_type": "code",
   "execution_count": null,
   "metadata": {
    "collapsed": false,
    "pycharm": {
     "name": "#%%\n"
    }
   },
   "outputs": [],
   "source": []
  }
 ],
 "metadata": {
  "kernelspec": {
   "display_name": "Python 3.9.13 ('rnf': venv)",
   "language": "python",
   "name": "python3"
  },
  "language_info": {
   "codemirror_mode": {
    "name": "ipython",
    "version": 3
   },
   "file_extension": ".py",
   "mimetype": "text/x-python",
   "name": "python",
   "nbconvert_exporter": "python",
   "pygments_lexer": "ipython3",
   "version": "3.9.13"
  },
  "vscode": {
   "interpreter": {
    "hash": "8e38334492e3b0ebb1833e842dd5dfb009cab398b10fbee82606ddc5d8e8b118"
   }
  }
 },
 "nbformat": 4,
 "nbformat_minor": 0
}
